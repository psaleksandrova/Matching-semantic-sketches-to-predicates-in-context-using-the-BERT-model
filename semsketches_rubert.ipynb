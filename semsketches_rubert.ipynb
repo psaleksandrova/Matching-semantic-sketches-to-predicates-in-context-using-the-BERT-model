{
  "nbformat": 4,
  "nbformat_minor": 0,
  "metadata": {
    "colab": {
      "name": "semsketches_rubert.ipynb",
      "provenance": [],
      "toc_visible": true
    },
    "kernelspec": {
      "name": "python3",
      "display_name": "Python 3"
    },
    "widgets": {
      "application/vnd.jupyter.widget-state+json": {
        "f473c2818a634989a88623ec34d0c3d8": {
          "model_module": "@jupyter-widgets/controls",
          "model_name": "HBoxModel",
          "state": {
            "_view_name": "HBoxView",
            "_dom_classes": [],
            "_model_name": "HBoxModel",
            "_view_module": "@jupyter-widgets/controls",
            "_model_module_version": "1.5.0",
            "_view_count": null,
            "_view_module_version": "1.5.0",
            "box_style": "",
            "layout": "IPY_MODEL_8a9083d8ff934d78b70a2243f63ab865",
            "_model_module": "@jupyter-widgets/controls",
            "children": [
              "IPY_MODEL_9a4d78a70d804ed088ea605e7daab70a",
              "IPY_MODEL_cbe482c3be0a4c6dbd25201388cbe992"
            ]
          }
        },
        "8a9083d8ff934d78b70a2243f63ab865": {
          "model_module": "@jupyter-widgets/base",
          "model_name": "LayoutModel",
          "state": {
            "_view_name": "LayoutView",
            "grid_template_rows": null,
            "right": null,
            "justify_content": null,
            "_view_module": "@jupyter-widgets/base",
            "overflow": null,
            "_model_module_version": "1.2.0",
            "_view_count": null,
            "flex_flow": null,
            "width": null,
            "min_width": null,
            "border": null,
            "align_items": null,
            "bottom": null,
            "_model_module": "@jupyter-widgets/base",
            "top": null,
            "grid_column": null,
            "overflow_y": null,
            "overflow_x": null,
            "grid_auto_flow": null,
            "grid_area": null,
            "grid_template_columns": null,
            "flex": null,
            "_model_name": "LayoutModel",
            "justify_items": null,
            "grid_row": null,
            "max_height": null,
            "align_content": null,
            "visibility": null,
            "align_self": null,
            "height": null,
            "min_height": null,
            "padding": null,
            "grid_auto_rows": null,
            "grid_gap": null,
            "max_width": null,
            "order": null,
            "_view_module_version": "1.2.0",
            "grid_template_areas": null,
            "object_position": null,
            "object_fit": null,
            "grid_auto_columns": null,
            "margin": null,
            "display": null,
            "left": null
          }
        },
        "9a4d78a70d804ed088ea605e7daab70a": {
          "model_module": "@jupyter-widgets/controls",
          "model_name": "FloatProgressModel",
          "state": {
            "_view_name": "ProgressView",
            "style": "IPY_MODEL_9cc66cb90f164ca8885c31b96ea95bc9",
            "_dom_classes": [],
            "description": "100%",
            "_model_name": "FloatProgressModel",
            "bar_style": "success",
            "max": 215,
            "_view_module": "@jupyter-widgets/controls",
            "_model_module_version": "1.5.0",
            "value": 215,
            "_view_count": null,
            "_view_module_version": "1.5.0",
            "orientation": "horizontal",
            "min": 0,
            "description_tooltip": null,
            "_model_module": "@jupyter-widgets/controls",
            "layout": "IPY_MODEL_fd0266d0a0b64e3a989678160d9f5e71"
          }
        },
        "cbe482c3be0a4c6dbd25201388cbe992": {
          "model_module": "@jupyter-widgets/controls",
          "model_name": "HTMLModel",
          "state": {
            "_view_name": "HTMLView",
            "style": "IPY_MODEL_e575085801414a9db852b110d751c864",
            "_dom_classes": [],
            "description": "",
            "_model_name": "HTMLModel",
            "placeholder": "​",
            "_view_module": "@jupyter-widgets/controls",
            "_model_module_version": "1.5.0",
            "value": " 215/215 [1:15:50&lt;00:00, 21.16s/it]",
            "_view_count": null,
            "_view_module_version": "1.5.0",
            "description_tooltip": null,
            "_model_module": "@jupyter-widgets/controls",
            "layout": "IPY_MODEL_8df4f3e368164e4a8445f4cbb0aed3be"
          }
        },
        "9cc66cb90f164ca8885c31b96ea95bc9": {
          "model_module": "@jupyter-widgets/controls",
          "model_name": "ProgressStyleModel",
          "state": {
            "_view_name": "StyleView",
            "_model_name": "ProgressStyleModel",
            "description_width": "initial",
            "_view_module": "@jupyter-widgets/base",
            "_model_module_version": "1.5.0",
            "_view_count": null,
            "_view_module_version": "1.2.0",
            "bar_color": null,
            "_model_module": "@jupyter-widgets/controls"
          }
        },
        "fd0266d0a0b64e3a989678160d9f5e71": {
          "model_module": "@jupyter-widgets/base",
          "model_name": "LayoutModel",
          "state": {
            "_view_name": "LayoutView",
            "grid_template_rows": null,
            "right": null,
            "justify_content": null,
            "_view_module": "@jupyter-widgets/base",
            "overflow": null,
            "_model_module_version": "1.2.0",
            "_view_count": null,
            "flex_flow": null,
            "width": null,
            "min_width": null,
            "border": null,
            "align_items": null,
            "bottom": null,
            "_model_module": "@jupyter-widgets/base",
            "top": null,
            "grid_column": null,
            "overflow_y": null,
            "overflow_x": null,
            "grid_auto_flow": null,
            "grid_area": null,
            "grid_template_columns": null,
            "flex": null,
            "_model_name": "LayoutModel",
            "justify_items": null,
            "grid_row": null,
            "max_height": null,
            "align_content": null,
            "visibility": null,
            "align_self": null,
            "height": null,
            "min_height": null,
            "padding": null,
            "grid_auto_rows": null,
            "grid_gap": null,
            "max_width": null,
            "order": null,
            "_view_module_version": "1.2.0",
            "grid_template_areas": null,
            "object_position": null,
            "object_fit": null,
            "grid_auto_columns": null,
            "margin": null,
            "display": null,
            "left": null
          }
        },
        "e575085801414a9db852b110d751c864": {
          "model_module": "@jupyter-widgets/controls",
          "model_name": "DescriptionStyleModel",
          "state": {
            "_view_name": "StyleView",
            "_model_name": "DescriptionStyleModel",
            "description_width": "",
            "_view_module": "@jupyter-widgets/base",
            "_model_module_version": "1.5.0",
            "_view_count": null,
            "_view_module_version": "1.2.0",
            "_model_module": "@jupyter-widgets/controls"
          }
        },
        "8df4f3e368164e4a8445f4cbb0aed3be": {
          "model_module": "@jupyter-widgets/base",
          "model_name": "LayoutModel",
          "state": {
            "_view_name": "LayoutView",
            "grid_template_rows": null,
            "right": null,
            "justify_content": null,
            "_view_module": "@jupyter-widgets/base",
            "overflow": null,
            "_model_module_version": "1.2.0",
            "_view_count": null,
            "flex_flow": null,
            "width": null,
            "min_width": null,
            "border": null,
            "align_items": null,
            "bottom": null,
            "_model_module": "@jupyter-widgets/base",
            "top": null,
            "grid_column": null,
            "overflow_y": null,
            "overflow_x": null,
            "grid_auto_flow": null,
            "grid_area": null,
            "grid_template_columns": null,
            "flex": null,
            "_model_name": "LayoutModel",
            "justify_items": null,
            "grid_row": null,
            "max_height": null,
            "align_content": null,
            "visibility": null,
            "align_self": null,
            "height": null,
            "min_height": null,
            "padding": null,
            "grid_auto_rows": null,
            "grid_gap": null,
            "max_width": null,
            "order": null,
            "_view_module_version": "1.2.0",
            "grid_template_areas": null,
            "object_position": null,
            "object_fit": null,
            "grid_auto_columns": null,
            "margin": null,
            "display": null,
            "left": null
          }
        }
      }
    }
  },
  "cells": [
    {
      "cell_type": "code",
      "metadata": {
        "id": "76LP4gCYls9Q"
      },
      "source": [
        "import tqdm\n",
        "import json\n",
        "import random\n",
        "import itertools\n",
        "import pandas as pd\n",
        "from typing import List\n",
        "from collections import Counter, OrderedDict"
      ],
      "execution_count": null,
      "outputs": []
    },
    {
      "cell_type": "markdown",
      "metadata": {
        "id": "yA9GY5JalUHw"
      },
      "source": [
        "# Загрузка данных"
      ]
    },
    {
      "cell_type": "code",
      "metadata": {
        "colab": {
          "base_uri": "https://localhost:8080/"
        },
        "id": "TmX5orM9lH2d",
        "outputId": "2eba23e1-b0ff-4f60-e75d-add85fd5bff1"
      },
      "source": [
        "# Downloading data from github\n",
        "!git clone https://github.com/dialogue-evaluation/SemSketches.git\n",
        "%cd SemSketches"
      ],
      "execution_count": null,
      "outputs": [
        {
          "output_type": "stream",
          "text": [
            "fatal: destination path 'SemSketches' already exists and is not an empty directory.\n",
            "/content/SemSketches\n"
          ],
          "name": "stdout"
        }
      ]
    },
    {
      "cell_type": "code",
      "metadata": {
        "colab": {
          "base_uri": "https://localhost:8080/"
        },
        "id": "TuR2JYq_laAL",
        "outputId": "7fa2c00a-2ce4-45b0-c9e1-443995ab029d"
      },
      "source": [
        "!ls data"
      ],
      "execution_count": null,
      "outputs": [
        {
          "output_type": "stream",
          "text": [
            "dev  task_2  trial\n"
          ],
          "name": "stdout"
        }
      ]
    },
    {
      "cell_type": "markdown",
      "metadata": {
        "id": "Dsr-j_S1ihmu"
      },
      "source": [
        "Для начала, обратимся к демонстрационному набору данных"
      ]
    },
    {
      "cell_type": "code",
      "metadata": {
        "id": "IkojRaaildnZ"
      },
      "source": [
        "CONTEXTS_TRIAL = \"data/trial/contexts_trial.data\"\n",
        "SKETCHES_TRIAL = \"data/trial/sketches_trial.data\"\n",
        "TRIAL = \"data/trial/trial.gold\""
      ],
      "execution_count": null,
      "outputs": []
    },
    {
      "cell_type": "markdown",
      "metadata": {
        "id": "hexUDEX_loz0"
      },
      "source": [
        "Пример скетча"
      ]
    },
    {
      "cell_type": "code",
      "metadata": {
        "colab": {
          "base_uri": "https://localhost:8080/"
        },
        "id": "OG1zRoxPlmni",
        "outputId": "b999c90a-d7bc-4200-dbde-47bf04a29e58"
      },
      "source": [
        "sketches_dfs = dict()\n",
        "\n",
        "sketches_trial_data = json.load(open(SKETCHES_TRIAL))\n",
        "for sketch_name, sketch_columns_di in sketches_trial_data.items():\n",
        "    colnames = [None] * len(sketch_columns_di)\n",
        "    columns = [None] * len(sketch_columns_di)\n",
        "    for colname, (col_ix, col_cells) in sketch_columns_di.items():\n",
        "        colnames[col_ix] = colname\n",
        "        columns[col_ix] = col_cells\n",
        "    columns_ordered_dict = OrderedDict(zip(colnames, columns))\n",
        "    sketches_dfs[sketch_name] = pd.DataFrame(columns_ordered_dict)\n",
        "\n",
        "print('\\n'.join(str(sketches_dfs).splitlines()[:12]))"
      ],
      "execution_count": null,
      "outputs": [
        {
          "output_type": "stream",
          "text": [
            "{'trial.sketch.rus.0':     Sphere_Special                 Time  ...     ContrAgent Ch_Evaluation\n",
            "0          в карты            в детстве  ...       с детьми       классно\n",
            "1        в шахматы  на большой перемене  ...  с мальчишками       неплохо\n",
            "2         в футбол           по вечерам  ...    с читателем       недурно\n",
            "3  в азартные игры          каждый день  ...      с собакой   превосходно\n",
            "4           в игры             допоздна  ...        с сыном      прилично\n",
            "5         в прятки          в молодости  ...     с ребятами  замечательно\n",
            "\n",
            "[6 rows x 6 columns], 'trial.sketch.rus.1':                      Locative_FinalPoint  ... Ch_EvaluationOfHumanTemperAndActivity\n",
            "0                                к людям  ...                           скептически\n",
            "1                           к литературе  ...                            критически\n",
            "2                               к стихам  ...                            философски\n"
          ],
          "name": "stdout"
        }
      ]
    },
    {
      "cell_type": "markdown",
      "metadata": {
        "id": "k4TjC4PpiV3W"
      },
      "source": [
        "Предикаты с контекстами"
      ]
    },
    {
      "cell_type": "code",
      "metadata": {
        "colab": {
          "base_uri": "https://localhost:8080/",
          "height": 202
        },
        "id": "HQdNuBsdl7mU",
        "outputId": "734d83c4-2d09-4f7f-f622-e7b9f2f73e77"
      },
      "source": [
        "# Table with context \"name\", predicate (to be compared with sketch), \n",
        "# starting index of the predicate in the sentence,  starting index and sentence itself.\n",
        "contexts_trial_df = pd.read_json(CONTEXTS_TRIAL).transpose()\n",
        "contexts_trial_df.head()"
      ],
      "execution_count": null,
      "outputs": [
        {
          "output_type": "execute_result",
          "data": {
            "text/html": [
              "<div>\n",
              "<style scoped>\n",
              "    .dataframe tbody tr th:only-of-type {\n",
              "        vertical-align: middle;\n",
              "    }\n",
              "\n",
              "    .dataframe tbody tr th {\n",
              "        vertical-align: top;\n",
              "    }\n",
              "\n",
              "    .dataframe thead th {\n",
              "        text-align: right;\n",
              "    }\n",
              "</style>\n",
              "<table border=\"1\" class=\"dataframe\">\n",
              "  <thead>\n",
              "    <tr style=\"text-align: right;\">\n",
              "      <th></th>\n",
              "      <th>instance</th>\n",
              "      <th>start</th>\n",
              "      <th>end</th>\n",
              "      <th>sentence</th>\n",
              "    </tr>\n",
              "  </thead>\n",
              "  <tbody>\n",
              "    <tr>\n",
              "      <th>trial.sent.rus.0</th>\n",
              "      <td>стать</td>\n",
              "      <td>63</td>\n",
              "      <td>68</td>\n",
              "      <td>Старый я, песенка моя спета, и нет у меня боль...</td>\n",
              "    </tr>\n",
              "    <tr>\n",
              "      <th>trial.sent.rus.1</th>\n",
              "      <td>вызвала</td>\n",
              "      <td>6</td>\n",
              "      <td>13</td>\n",
              "      <td>Но не вызвала</td>\n",
              "    </tr>\n",
              "    <tr>\n",
              "      <th>trial.sent.rus.2</th>\n",
              "      <td>пойдет</td>\n",
              "      <td>40</td>\n",
              "      <td>46</td>\n",
              "      <td>А может, и вовсе поменяет конституцию и пойдет...</td>\n",
              "    </tr>\n",
              "    <tr>\n",
              "      <th>trial.sent.rus.3</th>\n",
              "      <td>стану</td>\n",
              "      <td>5</td>\n",
              "      <td>10</td>\n",
              "      <td>Я не стану отрекаться, – объяснил он</td>\n",
              "    </tr>\n",
              "    <tr>\n",
              "      <th>trial.sent.rus.4</th>\n",
              "      <td>становятся</td>\n",
              "      <td>149</td>\n",
              "      <td>159</td>\n",
              "      <td>В этом случае профиль сечения ППЭ реакции зави...</td>\n",
              "    </tr>\n",
              "  </tbody>\n",
              "</table>\n",
              "</div>"
            ],
            "text/plain": [
              "                    instance  ...                                           sentence\n",
              "trial.sent.rus.0       стать  ...  Старый я, песенка моя спета, и нет у меня боль...\n",
              "trial.sent.rus.1     вызвала  ...                                      Но не вызвала\n",
              "trial.sent.rus.2      пойдет  ...  А может, и вовсе поменяет конституцию и пойдет...\n",
              "trial.sent.rus.3       стану  ...               Я не стану отрекаться, – объяснил он\n",
              "trial.sent.rus.4  становятся  ...  В этом случае профиль сечения ППЭ реакции зави...\n",
              "\n",
              "[5 rows x 4 columns]"
            ]
          },
          "metadata": {
            "tags": []
          },
          "execution_count": 6
        }
      ]
    },
    {
      "cell_type": "markdown",
      "metadata": {
        "id": "lKXePuj7inw1"
      },
      "source": [
        "Как должно выглядеть решение задачи:"
      ]
    },
    {
      "cell_type": "code",
      "metadata": {
        "colab": {
          "base_uri": "https://localhost:8080/"
        },
        "id": "EoQY4emOl_-S",
        "outputId": "fd5065eb-f946-4b8a-eb5d-dc7f704326e1"
      },
      "source": [
        "# Dictionary with pairs: sentence - sketch\n",
        "sent2sketch = json.load(open(TRIAL))\n",
        "print(sent2sketch)"
      ],
      "execution_count": null,
      "outputs": [
        {
          "output_type": "stream",
          "text": [
            "{'trial.sent.rus.0': 'trial.sketch.rus.8', 'trial.sent.rus.1': 'trial.sketch.rus.4', 'trial.sent.rus.2': 'trial.sketch.rus.6', 'trial.sent.rus.3': 'trial.sketch.rus.2', 'trial.sent.rus.4': 'trial.sketch.rus.15', 'trial.sent.rus.5': 'trial.sketch.rus.8', 'trial.sent.rus.6': 'trial.sketch.rus.14', 'trial.sent.rus.7': 'trial.sketch.rus.13', 'trial.sent.rus.8': 'trial.sketch.rus.6', 'trial.sent.rus.9': 'trial.sketch.rus.16', 'trial.sent.rus.10': 'trial.sketch.rus.1', 'trial.sent.rus.11': 'trial.sketch.rus.6', 'trial.sent.rus.12': 'trial.sketch.rus.0', 'trial.sent.rus.13': 'trial.sketch.rus.17', 'trial.sent.rus.14': 'trial.sketch.rus.4', 'trial.sent.rus.15': 'trial.sketch.rus.4', 'trial.sent.rus.16': 'trial.sketch.rus.0', 'trial.sent.rus.17': 'trial.sketch.rus.14', 'trial.sent.rus.18': 'trial.sketch.rus.19', 'trial.sent.rus.19': 'trial.sketch.rus.19', 'trial.sent.rus.20': 'trial.sketch.rus.19', 'trial.sent.rus.21': 'trial.sketch.rus.15', 'trial.sent.rus.22': 'trial.sketch.rus.0', 'trial.sent.rus.23': 'trial.sketch.rus.16', 'trial.sent.rus.24': 'trial.sketch.rus.11', 'trial.sent.rus.25': 'trial.sketch.rus.15', 'trial.sent.rus.26': 'trial.sketch.rus.5', 'trial.sent.rus.27': 'trial.sketch.rus.2', 'trial.sent.rus.28': 'trial.sketch.rus.15', 'trial.sent.rus.29': 'trial.sketch.rus.19', 'trial.sent.rus.30': 'trial.sketch.rus.0', 'trial.sent.rus.31': 'trial.sketch.rus.11', 'trial.sent.rus.32': 'trial.sketch.rus.4', 'trial.sent.rus.33': 'trial.sketch.rus.1', 'trial.sent.rus.34': 'trial.sketch.rus.2', 'trial.sent.rus.35': 'trial.sketch.rus.6', 'trial.sent.rus.36': 'trial.sketch.rus.2', 'trial.sent.rus.37': 'trial.sketch.rus.0', 'trial.sent.rus.38': 'trial.sketch.rus.4', 'trial.sent.rus.39': 'trial.sketch.rus.9', 'trial.sent.rus.40': 'trial.sketch.rus.11', 'trial.sent.rus.41': 'trial.sketch.rus.3', 'trial.sent.rus.42': 'trial.sketch.rus.14', 'trial.sent.rus.43': 'trial.sketch.rus.9', 'trial.sent.rus.44': 'trial.sketch.rus.19', 'trial.sent.rus.45': 'trial.sketch.rus.14', 'trial.sent.rus.46': 'trial.sketch.rus.19', 'trial.sent.rus.47': 'trial.sketch.rus.9', 'trial.sent.rus.48': 'trial.sketch.rus.10', 'trial.sent.rus.49': 'trial.sketch.rus.18', 'trial.sent.rus.50': 'trial.sketch.rus.5', 'trial.sent.rus.51': 'trial.sketch.rus.12', 'trial.sent.rus.52': 'trial.sketch.rus.5', 'trial.sent.rus.53': 'trial.sketch.rus.8', 'trial.sent.rus.54': 'trial.sketch.rus.15', 'trial.sent.rus.55': 'trial.sketch.rus.3', 'trial.sent.rus.56': 'trial.sketch.rus.10', 'trial.sent.rus.57': 'trial.sketch.rus.7', 'trial.sent.rus.58': 'trial.sketch.rus.12', 'trial.sent.rus.59': 'trial.sketch.rus.7', 'trial.sent.rus.60': 'trial.sketch.rus.18', 'trial.sent.rus.61': 'trial.sketch.rus.1', 'trial.sent.rus.62': 'trial.sketch.rus.1', 'trial.sent.rus.63': 'trial.sketch.rus.1', 'trial.sent.rus.64': 'trial.sketch.rus.3', 'trial.sent.rus.65': 'trial.sketch.rus.4', 'trial.sent.rus.66': 'trial.sketch.rus.12', 'trial.sent.rus.67': 'trial.sketch.rus.18', 'trial.sent.rus.68': 'trial.sketch.rus.1', 'trial.sent.rus.69': 'trial.sketch.rus.7', 'trial.sent.rus.70': 'trial.sketch.rus.1', 'trial.sent.rus.71': 'trial.sketch.rus.14', 'trial.sent.rus.72': 'trial.sketch.rus.19', 'trial.sent.rus.73': 'trial.sketch.rus.15', 'trial.sent.rus.74': 'trial.sketch.rus.0', 'trial.sent.rus.75': 'trial.sketch.rus.8', 'trial.sent.rus.76': 'trial.sketch.rus.8', 'trial.sent.rus.77': 'trial.sketch.rus.18', 'trial.sent.rus.78': 'trial.sketch.rus.10', 'trial.sent.rus.79': 'trial.sketch.rus.9', 'trial.sent.rus.80': 'trial.sketch.rus.9', 'trial.sent.rus.81': 'trial.sketch.rus.4', 'trial.sent.rus.82': 'trial.sketch.rus.8', 'trial.sent.rus.83': 'trial.sketch.rus.5', 'trial.sent.rus.84': 'trial.sketch.rus.2', 'trial.sent.rus.85': 'trial.sketch.rus.17', 'trial.sent.rus.86': 'trial.sketch.rus.3', 'trial.sent.rus.87': 'trial.sketch.rus.8', 'trial.sent.rus.88': 'trial.sketch.rus.17', 'trial.sent.rus.89': 'trial.sketch.rus.17', 'trial.sent.rus.90': 'trial.sketch.rus.16', 'trial.sent.rus.91': 'trial.sketch.rus.12', 'trial.sent.rus.92': 'trial.sketch.rus.0', 'trial.sent.rus.93': 'trial.sketch.rus.0', 'trial.sent.rus.94': 'trial.sketch.rus.11', 'trial.sent.rus.95': 'trial.sketch.rus.3', 'trial.sent.rus.96': 'trial.sketch.rus.14', 'trial.sent.rus.97': 'trial.sketch.rus.16', 'trial.sent.rus.98': 'trial.sketch.rus.5', 'trial.sent.rus.99': 'trial.sketch.rus.18', 'trial.sent.rus.100': 'trial.sketch.rus.8', 'trial.sent.rus.101': 'trial.sketch.rus.7', 'trial.sent.rus.102': 'trial.sketch.rus.3', 'trial.sent.rus.103': 'trial.sketch.rus.17', 'trial.sent.rus.104': 'trial.sketch.rus.7', 'trial.sent.rus.105': 'trial.sketch.rus.3', 'trial.sent.rus.106': 'trial.sketch.rus.17', 'trial.sent.rus.107': 'trial.sketch.rus.18', 'trial.sent.rus.108': 'trial.sketch.rus.13', 'trial.sent.rus.109': 'trial.sketch.rus.15', 'trial.sent.rus.110': 'trial.sketch.rus.10', 'trial.sent.rus.111': 'trial.sketch.rus.18', 'trial.sent.rus.112': 'trial.sketch.rus.5', 'trial.sent.rus.113': 'trial.sketch.rus.16', 'trial.sent.rus.114': 'trial.sketch.rus.18', 'trial.sent.rus.115': 'trial.sketch.rus.6', 'trial.sent.rus.116': 'trial.sketch.rus.13', 'trial.sent.rus.117': 'trial.sketch.rus.1', 'trial.sent.rus.118': 'trial.sketch.rus.0', 'trial.sent.rus.119': 'trial.sketch.rus.14', 'trial.sent.rus.120': 'trial.sketch.rus.11', 'trial.sent.rus.121': 'trial.sketch.rus.8', 'trial.sent.rus.122': 'trial.sketch.rus.1', 'trial.sent.rus.123': 'trial.sketch.rus.6', 'trial.sent.rus.124': 'trial.sketch.rus.9', 'trial.sent.rus.125': 'trial.sketch.rus.12', 'trial.sent.rus.126': 'trial.sketch.rus.6', 'trial.sent.rus.127': 'trial.sketch.rus.17', 'trial.sent.rus.128': 'trial.sketch.rus.0', 'trial.sent.rus.129': 'trial.sketch.rus.16', 'trial.sent.rus.130': 'trial.sketch.rus.13', 'trial.sent.rus.131': 'trial.sketch.rus.14', 'trial.sent.rus.132': 'trial.sketch.rus.12', 'trial.sent.rus.133': 'trial.sketch.rus.16', 'trial.sent.rus.134': 'trial.sketch.rus.1', 'trial.sent.rus.135': 'trial.sketch.rus.4', 'trial.sent.rus.136': 'trial.sketch.rus.0', 'trial.sent.rus.137': 'trial.sketch.rus.14', 'trial.sent.rus.138': 'trial.sketch.rus.16', 'trial.sent.rus.139': 'trial.sketch.rus.19', 'trial.sent.rus.140': 'trial.sketch.rus.1', 'trial.sent.rus.141': 'trial.sketch.rus.8', 'trial.sent.rus.142': 'trial.sketch.rus.19', 'trial.sent.rus.143': 'trial.sketch.rus.12', 'trial.sent.rus.144': 'trial.sketch.rus.12', 'trial.sent.rus.145': 'trial.sketch.rus.16', 'trial.sent.rus.146': 'trial.sketch.rus.16', 'trial.sent.rus.147': 'trial.sketch.rus.13', 'trial.sent.rus.148': 'trial.sketch.rus.9', 'trial.sent.rus.149': 'trial.sketch.rus.2', 'trial.sent.rus.150': 'trial.sketch.rus.12', 'trial.sent.rus.151': 'trial.sketch.rus.17', 'trial.sent.rus.152': 'trial.sketch.rus.9', 'trial.sent.rus.153': 'trial.sketch.rus.13', 'trial.sent.rus.154': 'trial.sketch.rus.5', 'trial.sent.rus.155': 'trial.sketch.rus.18', 'trial.sent.rus.156': 'trial.sketch.rus.15', 'trial.sent.rus.157': 'trial.sketch.rus.15', 'trial.sent.rus.158': 'trial.sketch.rus.19', 'trial.sent.rus.159': 'trial.sketch.rus.12', 'trial.sent.rus.160': 'trial.sketch.rus.14', 'trial.sent.rus.161': 'trial.sketch.rus.9', 'trial.sent.rus.162': 'trial.sketch.rus.1', 'trial.sent.rus.163': 'trial.sketch.rus.1', 'trial.sent.rus.164': 'trial.sketch.rus.0', 'trial.sent.rus.165': 'trial.sketch.rus.16', 'trial.sent.rus.166': 'trial.sketch.rus.1', 'trial.sent.rus.167': 'trial.sketch.rus.4', 'trial.sent.rus.168': 'trial.sketch.rus.17', 'trial.sent.rus.169': 'trial.sketch.rus.1', 'trial.sent.rus.170': 'trial.sketch.rus.7', 'trial.sent.rus.171': 'trial.sketch.rus.16', 'trial.sent.rus.172': 'trial.sketch.rus.5', 'trial.sent.rus.173': 'trial.sketch.rus.9', 'trial.sent.rus.174': 'trial.sketch.rus.14', 'trial.sent.rus.175': 'trial.sketch.rus.8', 'trial.sent.rus.176': 'trial.sketch.rus.1', 'trial.sent.rus.177': 'trial.sketch.rus.9', 'trial.sent.rus.178': 'trial.sketch.rus.19', 'trial.sent.rus.179': 'trial.sketch.rus.17', 'trial.sent.rus.180': 'trial.sketch.rus.6', 'trial.sent.rus.181': 'trial.sketch.rus.6', 'trial.sent.rus.182': 'trial.sketch.rus.7', 'trial.sent.rus.183': 'trial.sketch.rus.1', 'trial.sent.rus.184': 'trial.sketch.rus.9', 'trial.sent.rus.185': 'trial.sketch.rus.7', 'trial.sent.rus.186': 'trial.sketch.rus.9', 'trial.sent.rus.187': 'trial.sketch.rus.7', 'trial.sent.rus.188': 'trial.sketch.rus.14', 'trial.sent.rus.189': 'trial.sketch.rus.5', 'trial.sent.rus.190': 'trial.sketch.rus.14', 'trial.sent.rus.191': 'trial.sketch.rus.3', 'trial.sent.rus.192': 'trial.sketch.rus.10', 'trial.sent.rus.193': 'trial.sketch.rus.13', 'trial.sent.rus.194': 'trial.sketch.rus.15', 'trial.sent.rus.195': 'trial.sketch.rus.8', 'trial.sent.rus.196': 'trial.sketch.rus.15', 'trial.sent.rus.197': 'trial.sketch.rus.13', 'trial.sent.rus.198': 'trial.sketch.rus.12', 'trial.sent.rus.199': 'trial.sketch.rus.19', 'trial.sent.rus.200': 'trial.sketch.rus.0', 'trial.sent.rus.201': 'trial.sketch.rus.12', 'trial.sent.rus.202': 'trial.sketch.rus.0', 'trial.sent.rus.203': 'trial.sketch.rus.3', 'trial.sent.rus.204': 'trial.sketch.rus.13', 'trial.sent.rus.205': 'trial.sketch.rus.3', 'trial.sent.rus.206': 'trial.sketch.rus.12', 'trial.sent.rus.207': 'trial.sketch.rus.3', 'trial.sent.rus.208': 'trial.sketch.rus.6', 'trial.sent.rus.209': 'trial.sketch.rus.18', 'trial.sent.rus.210': 'trial.sketch.rus.18', 'trial.sent.rus.211': 'trial.sketch.rus.12', 'trial.sent.rus.212': 'trial.sketch.rus.3', 'trial.sent.rus.213': 'trial.sketch.rus.16', 'trial.sent.rus.214': 'trial.sketch.rus.5', 'trial.sent.rus.215': 'trial.sketch.rus.2', 'trial.sent.rus.216': 'trial.sketch.rus.16', 'trial.sent.rus.217': 'trial.sketch.rus.14', 'trial.sent.rus.218': 'trial.sketch.rus.5', 'trial.sent.rus.219': 'trial.sketch.rus.1', 'trial.sent.rus.220': 'trial.sketch.rus.7', 'trial.sent.rus.221': 'trial.sketch.rus.14', 'trial.sent.rus.222': 'trial.sketch.rus.9', 'trial.sent.rus.223': 'trial.sketch.rus.19', 'trial.sent.rus.224': 'trial.sketch.rus.9', 'trial.sent.rus.225': 'trial.sketch.rus.7', 'trial.sent.rus.226': 'trial.sketch.rus.11', 'trial.sent.rus.227': 'trial.sketch.rus.8', 'trial.sent.rus.228': 'trial.sketch.rus.6', 'trial.sent.rus.229': 'trial.sketch.rus.17', 'trial.sent.rus.230': 'trial.sketch.rus.10', 'trial.sent.rus.231': 'trial.sketch.rus.4', 'trial.sent.rus.232': 'trial.sketch.rus.14', 'trial.sent.rus.233': 'trial.sketch.rus.5', 'trial.sent.rus.234': 'trial.sketch.rus.14', 'trial.sent.rus.235': 'trial.sketch.rus.9', 'trial.sent.rus.236': 'trial.sketch.rus.9', 'trial.sent.rus.237': 'trial.sketch.rus.6', 'trial.sent.rus.238': 'trial.sketch.rus.17', 'trial.sent.rus.239': 'trial.sketch.rus.1', 'trial.sent.rus.240': 'trial.sketch.rus.12', 'trial.sent.rus.241': 'trial.sketch.rus.14', 'trial.sent.rus.242': 'trial.sketch.rus.6', 'trial.sent.rus.243': 'trial.sketch.rus.11', 'trial.sent.rus.244': 'trial.sketch.rus.9', 'trial.sent.rus.245': 'trial.sketch.rus.4', 'trial.sent.rus.246': 'trial.sketch.rus.6', 'trial.sent.rus.247': 'trial.sketch.rus.10', 'trial.sent.rus.248': 'trial.sketch.rus.16', 'trial.sent.rus.249': 'trial.sketch.rus.4', 'trial.sent.rus.250': 'trial.sketch.rus.8', 'trial.sent.rus.251': 'trial.sketch.rus.12', 'trial.sent.rus.252': 'trial.sketch.rus.17', 'trial.sent.rus.253': 'trial.sketch.rus.15', 'trial.sent.rus.254': 'trial.sketch.rus.10', 'trial.sent.rus.255': 'trial.sketch.rus.13', 'trial.sent.rus.256': 'trial.sketch.rus.13', 'trial.sent.rus.257': 'trial.sketch.rus.11', 'trial.sent.rus.258': 'trial.sketch.rus.0', 'trial.sent.rus.259': 'trial.sketch.rus.1', 'trial.sent.rus.260': 'trial.sketch.rus.16', 'trial.sent.rus.261': 'trial.sketch.rus.0', 'trial.sent.rus.262': 'trial.sketch.rus.6', 'trial.sent.rus.263': 'trial.sketch.rus.6', 'trial.sent.rus.264': 'trial.sketch.rus.2', 'trial.sent.rus.265': 'trial.sketch.rus.2', 'trial.sent.rus.266': 'trial.sketch.rus.1', 'trial.sent.rus.267': 'trial.sketch.rus.2', 'trial.sent.rus.268': 'trial.sketch.rus.16', 'trial.sent.rus.269': 'trial.sketch.rus.5', 'trial.sent.rus.270': 'trial.sketch.rus.12', 'trial.sent.rus.271': 'trial.sketch.rus.6', 'trial.sent.rus.272': 'trial.sketch.rus.19', 'trial.sent.rus.273': 'trial.sketch.rus.12', 'trial.sent.rus.274': 'trial.sketch.rus.13', 'trial.sent.rus.275': 'trial.sketch.rus.14', 'trial.sent.rus.276': 'trial.sketch.rus.16', 'trial.sent.rus.277': 'trial.sketch.rus.5', 'trial.sent.rus.278': 'trial.sketch.rus.9', 'trial.sent.rus.279': 'trial.sketch.rus.15', 'trial.sent.rus.280': 'trial.sketch.rus.0', 'trial.sent.rus.281': 'trial.sketch.rus.12', 'trial.sent.rus.282': 'trial.sketch.rus.13', 'trial.sent.rus.283': 'trial.sketch.rus.0', 'trial.sent.rus.284': 'trial.sketch.rus.11', 'trial.sent.rus.285': 'trial.sketch.rus.13', 'trial.sent.rus.286': 'trial.sketch.rus.16', 'trial.sent.rus.287': 'trial.sketch.rus.11', 'trial.sent.rus.288': 'trial.sketch.rus.19', 'trial.sent.rus.289': 'trial.sketch.rus.5', 'trial.sent.rus.290': 'trial.sketch.rus.15', 'trial.sent.rus.291': 'trial.sketch.rus.3', 'trial.sent.rus.292': 'trial.sketch.rus.3', 'trial.sent.rus.293': 'trial.sketch.rus.14', 'trial.sent.rus.294': 'trial.sketch.rus.14', 'trial.sent.rus.295': 'trial.sketch.rus.6', 'trial.sent.rus.296': 'trial.sketch.rus.5', 'trial.sent.rus.297': 'trial.sketch.rus.1', 'trial.sent.rus.298': 'trial.sketch.rus.13', 'trial.sent.rus.299': 'trial.sketch.rus.1', 'trial.sent.rus.300': 'trial.sketch.rus.7', 'trial.sent.rus.301': 'trial.sketch.rus.6', 'trial.sent.rus.302': 'trial.sketch.rus.6', 'trial.sent.rus.303': 'trial.sketch.rus.1', 'trial.sent.rus.304': 'trial.sketch.rus.16', 'trial.sent.rus.305': 'trial.sketch.rus.16', 'trial.sent.rus.306': 'trial.sketch.rus.7', 'trial.sent.rus.307': 'trial.sketch.rus.18', 'trial.sent.rus.308': 'trial.sketch.rus.13', 'trial.sent.rus.309': 'trial.sketch.rus.19', 'trial.sent.rus.310': 'trial.sketch.rus.10', 'trial.sent.rus.311': 'trial.sketch.rus.11', 'trial.sent.rus.312': 'trial.sketch.rus.13', 'trial.sent.rus.313': 'trial.sketch.rus.11', 'trial.sent.rus.314': 'trial.sketch.rus.18', 'trial.sent.rus.315': 'trial.sketch.rus.2', 'trial.sent.rus.316': 'trial.sketch.rus.19', 'trial.sent.rus.317': 'trial.sketch.rus.3', 'trial.sent.rus.318': 'trial.sketch.rus.17', 'trial.sent.rus.319': 'trial.sketch.rus.12', 'trial.sent.rus.320': 'trial.sketch.rus.12', 'trial.sent.rus.321': 'trial.sketch.rus.5', 'trial.sent.rus.322': 'trial.sketch.rus.18', 'trial.sent.rus.323': 'trial.sketch.rus.1', 'trial.sent.rus.324': 'trial.sketch.rus.1', 'trial.sent.rus.325': 'trial.sketch.rus.8', 'trial.sent.rus.326': 'trial.sketch.rus.10', 'trial.sent.rus.327': 'trial.sketch.rus.17', 'trial.sent.rus.328': 'trial.sketch.rus.0', 'trial.sent.rus.329': 'trial.sketch.rus.6', 'trial.sent.rus.330': 'trial.sketch.rus.12', 'trial.sent.rus.331': 'trial.sketch.rus.12', 'trial.sent.rus.332': 'trial.sketch.rus.8', 'trial.sent.rus.333': 'trial.sketch.rus.16', 'trial.sent.rus.334': 'trial.sketch.rus.18', 'trial.sent.rus.335': 'trial.sketch.rus.4', 'trial.sent.rus.336': 'trial.sketch.rus.17', 'trial.sent.rus.337': 'trial.sketch.rus.11', 'trial.sent.rus.338': 'trial.sketch.rus.16', 'trial.sent.rus.339': 'trial.sketch.rus.11', 'trial.sent.rus.340': 'trial.sketch.rus.9', 'trial.sent.rus.341': 'trial.sketch.rus.4', 'trial.sent.rus.342': 'trial.sketch.rus.14', 'trial.sent.rus.343': 'trial.sketch.rus.5', 'trial.sent.rus.344': 'trial.sketch.rus.12', 'trial.sent.rus.345': 'trial.sketch.rus.17', 'trial.sent.rus.346': 'trial.sketch.rus.2', 'trial.sent.rus.347': 'trial.sketch.rus.18', 'trial.sent.rus.348': 'trial.sketch.rus.10', 'trial.sent.rus.349': 'trial.sketch.rus.14', 'trial.sent.rus.350': 'trial.sketch.rus.4', 'trial.sent.rus.351': 'trial.sketch.rus.10', 'trial.sent.rus.352': 'trial.sketch.rus.10', 'trial.sent.rus.353': 'trial.sketch.rus.12', 'trial.sent.rus.354': 'trial.sketch.rus.2', 'trial.sent.rus.355': 'trial.sketch.rus.2', 'trial.sent.rus.356': 'trial.sketch.rus.11', 'trial.sent.rus.357': 'trial.sketch.rus.15', 'trial.sent.rus.358': 'trial.sketch.rus.17', 'trial.sent.rus.359': 'trial.sketch.rus.2', 'trial.sent.rus.360': 'trial.sketch.rus.4', 'trial.sent.rus.361': 'trial.sketch.rus.5', 'trial.sent.rus.362': 'trial.sketch.rus.0', 'trial.sent.rus.363': 'trial.sketch.rus.0', 'trial.sent.rus.364': 'trial.sketch.rus.8', 'trial.sent.rus.365': 'trial.sketch.rus.3', 'trial.sent.rus.366': 'trial.sketch.rus.8', 'trial.sent.rus.367': 'trial.sketch.rus.9', 'trial.sent.rus.368': 'trial.sketch.rus.17', 'trial.sent.rus.369': 'trial.sketch.rus.19', 'trial.sent.rus.370': 'trial.sketch.rus.2', 'trial.sent.rus.371': 'trial.sketch.rus.16', 'trial.sent.rus.372': 'trial.sketch.rus.17', 'trial.sent.rus.373': 'trial.sketch.rus.1', 'trial.sent.rus.374': 'trial.sketch.rus.1', 'trial.sent.rus.375': 'trial.sketch.rus.11', 'trial.sent.rus.376': 'trial.sketch.rus.3', 'trial.sent.rus.377': 'trial.sketch.rus.11', 'trial.sent.rus.378': 'trial.sketch.rus.17', 'trial.sent.rus.379': 'trial.sketch.rus.3', 'trial.sent.rus.380': 'trial.sketch.rus.7', 'trial.sent.rus.381': 'trial.sketch.rus.2', 'trial.sent.rus.382': 'trial.sketch.rus.8', 'trial.sent.rus.383': 'trial.sketch.rus.9', 'trial.sent.rus.384': 'trial.sketch.rus.2', 'trial.sent.rus.385': 'trial.sketch.rus.19', 'trial.sent.rus.386': 'trial.sketch.rus.12', 'trial.sent.rus.387': 'trial.sketch.rus.0', 'trial.sent.rus.388': 'trial.sketch.rus.7', 'trial.sent.rus.389': 'trial.sketch.rus.11', 'trial.sent.rus.390': 'trial.sketch.rus.11', 'trial.sent.rus.391': 'trial.sketch.rus.3', 'trial.sent.rus.392': 'trial.sketch.rus.6', 'trial.sent.rus.393': 'trial.sketch.rus.5', 'trial.sent.rus.394': 'trial.sketch.rus.13', 'trial.sent.rus.395': 'trial.sketch.rus.12', 'trial.sent.rus.396': 'trial.sketch.rus.9', 'trial.sent.rus.397': 'trial.sketch.rus.4', 'trial.sent.rus.398': 'trial.sketch.rus.17', 'trial.sent.rus.399': 'trial.sketch.rus.6', 'trial.sent.rus.400': 'trial.sketch.rus.0', 'trial.sent.rus.401': 'trial.sketch.rus.10', 'trial.sent.rus.402': 'trial.sketch.rus.0', 'trial.sent.rus.403': 'trial.sketch.rus.9', 'trial.sent.rus.404': 'trial.sketch.rus.10', 'trial.sent.rus.405': 'trial.sketch.rus.17', 'trial.sent.rus.406': 'trial.sketch.rus.15', 'trial.sent.rus.407': 'trial.sketch.rus.6', 'trial.sent.rus.408': 'trial.sketch.rus.3', 'trial.sent.rus.409': 'trial.sketch.rus.0', 'trial.sent.rus.410': 'trial.sketch.rus.11', 'trial.sent.rus.411': 'trial.sketch.rus.9', 'trial.sent.rus.412': 'trial.sketch.rus.9', 'trial.sent.rus.413': 'trial.sketch.rus.6', 'trial.sent.rus.414': 'trial.sketch.rus.13', 'trial.sent.rus.415': 'trial.sketch.rus.17', 'trial.sent.rus.416': 'trial.sketch.rus.17', 'trial.sent.rus.417': 'trial.sketch.rus.3', 'trial.sent.rus.418': 'trial.sketch.rus.6', 'trial.sent.rus.419': 'trial.sketch.rus.16', 'trial.sent.rus.420': 'trial.sketch.rus.4', 'trial.sent.rus.421': 'trial.sketch.rus.16', 'trial.sent.rus.422': 'trial.sketch.rus.4', 'trial.sent.rus.423': 'trial.sketch.rus.1', 'trial.sent.rus.424': 'trial.sketch.rus.7', 'trial.sent.rus.425': 'trial.sketch.rus.0', 'trial.sent.rus.426': 'trial.sketch.rus.10', 'trial.sent.rus.427': 'trial.sketch.rus.0', 'trial.sent.rus.428': 'trial.sketch.rus.14', 'trial.sent.rus.429': 'trial.sketch.rus.16', 'trial.sent.rus.430': 'trial.sketch.rus.5', 'trial.sent.rus.431': 'trial.sketch.rus.10', 'trial.sent.rus.432': 'trial.sketch.rus.17', 'trial.sent.rus.433': 'trial.sketch.rus.16', 'trial.sent.rus.434': 'trial.sketch.rus.10', 'trial.sent.rus.435': 'trial.sketch.rus.8', 'trial.sent.rus.436': 'trial.sketch.rus.6', 'trial.sent.rus.437': 'trial.sketch.rus.10', 'trial.sent.rus.438': 'trial.sketch.rus.12', 'trial.sent.rus.439': 'trial.sketch.rus.12', 'trial.sent.rus.440': 'trial.sketch.rus.0', 'trial.sent.rus.441': 'trial.sketch.rus.10', 'trial.sent.rus.442': 'trial.sketch.rus.2', 'trial.sent.rus.443': 'trial.sketch.rus.19', 'trial.sent.rus.444': 'trial.sketch.rus.3', 'trial.sent.rus.445': 'trial.sketch.rus.16', 'trial.sent.rus.446': 'trial.sketch.rus.19', 'trial.sent.rus.447': 'trial.sketch.rus.6', 'trial.sent.rus.448': 'trial.sketch.rus.10', 'trial.sent.rus.449': 'trial.sketch.rus.0', 'trial.sent.rus.450': 'trial.sketch.rus.10', 'trial.sent.rus.451': 'trial.sketch.rus.15', 'trial.sent.rus.452': 'trial.sketch.rus.8', 'trial.sent.rus.453': 'trial.sketch.rus.7', 'trial.sent.rus.454': 'trial.sketch.rus.6', 'trial.sent.rus.455': 'trial.sketch.rus.0', 'trial.sent.rus.456': 'trial.sketch.rus.17', 'trial.sent.rus.457': 'trial.sketch.rus.17', 'trial.sent.rus.458': 'trial.sketch.rus.0', 'trial.sent.rus.459': 'trial.sketch.rus.10', 'trial.sent.rus.460': 'trial.sketch.rus.5', 'trial.sent.rus.461': 'trial.sketch.rus.16', 'trial.sent.rus.462': 'trial.sketch.rus.5', 'trial.sent.rus.463': 'trial.sketch.rus.11', 'trial.sent.rus.464': 'trial.sketch.rus.13', 'trial.sent.rus.465': 'trial.sketch.rus.8', 'trial.sent.rus.466': 'trial.sketch.rus.5', 'trial.sent.rus.467': 'trial.sketch.rus.13', 'trial.sent.rus.468': 'trial.sketch.rus.8', 'trial.sent.rus.469': 'trial.sketch.rus.11', 'trial.sent.rus.470': 'trial.sketch.rus.0', 'trial.sent.rus.471': 'trial.sketch.rus.1', 'trial.sent.rus.472': 'trial.sketch.rus.3', 'trial.sent.rus.473': 'trial.sketch.rus.12', 'trial.sent.rus.474': 'trial.sketch.rus.16', 'trial.sent.rus.475': 'trial.sketch.rus.9', 'trial.sent.rus.476': 'trial.sketch.rus.13', 'trial.sent.rus.477': 'trial.sketch.rus.13', 'trial.sent.rus.478': 'trial.sketch.rus.4', 'trial.sent.rus.479': 'trial.sketch.rus.9', 'trial.sent.rus.480': 'trial.sketch.rus.1', 'trial.sent.rus.481': 'trial.sketch.rus.19', 'trial.sent.rus.482': 'trial.sketch.rus.1', 'trial.sent.rus.483': 'trial.sketch.rus.7', 'trial.sent.rus.484': 'trial.sketch.rus.17', 'trial.sent.rus.485': 'trial.sketch.rus.3', 'trial.sent.rus.486': 'trial.sketch.rus.11', 'trial.sent.rus.487': 'trial.sketch.rus.14', 'trial.sent.rus.488': 'trial.sketch.rus.15', 'trial.sent.rus.489': 'trial.sketch.rus.11', 'trial.sent.rus.490': 'trial.sketch.rus.11', 'trial.sent.rus.491': 'trial.sketch.rus.0', 'trial.sent.rus.492': 'trial.sketch.rus.16', 'trial.sent.rus.493': 'trial.sketch.rus.0', 'trial.sent.rus.494': 'trial.sketch.rus.8', 'trial.sent.rus.495': 'trial.sketch.rus.12', 'trial.sent.rus.496': 'trial.sketch.rus.3', 'trial.sent.rus.497': 'trial.sketch.rus.6', 'trial.sent.rus.498': 'trial.sketch.rus.19', 'trial.sent.rus.499': 'trial.sketch.rus.3', 'trial.sent.rus.500': 'trial.sketch.rus.15', 'trial.sent.rus.501': 'trial.sketch.rus.0', 'trial.sent.rus.502': 'trial.sketch.rus.8', 'trial.sent.rus.503': 'trial.sketch.rus.2', 'trial.sent.rus.504': 'trial.sketch.rus.4', 'trial.sent.rus.505': 'trial.sketch.rus.8', 'trial.sent.rus.506': 'trial.sketch.rus.12', 'trial.sent.rus.507': 'trial.sketch.rus.13', 'trial.sent.rus.508': 'trial.sketch.rus.11', 'trial.sent.rus.509': 'trial.sketch.rus.9', 'trial.sent.rus.510': 'trial.sketch.rus.18', 'trial.sent.rus.511': 'trial.sketch.rus.2', 'trial.sent.rus.512': 'trial.sketch.rus.17', 'trial.sent.rus.513': 'trial.sketch.rus.18', 'trial.sent.rus.514': 'trial.sketch.rus.5', 'trial.sent.rus.515': 'trial.sketch.rus.14', 'trial.sent.rus.516': 'trial.sketch.rus.11', 'trial.sent.rus.517': 'trial.sketch.rus.17', 'trial.sent.rus.518': 'trial.sketch.rus.3', 'trial.sent.rus.519': 'trial.sketch.rus.3', 'trial.sent.rus.520': 'trial.sketch.rus.12', 'trial.sent.rus.521': 'trial.sketch.rus.13', 'trial.sent.rus.522': 'trial.sketch.rus.13', 'trial.sent.rus.523': 'trial.sketch.rus.17', 'trial.sent.rus.524': 'trial.sketch.rus.2', 'trial.sent.rus.525': 'trial.sketch.rus.16', 'trial.sent.rus.526': 'trial.sketch.rus.15', 'trial.sent.rus.527': 'trial.sketch.rus.8', 'trial.sent.rus.528': 'trial.sketch.rus.3', 'trial.sent.rus.529': 'trial.sketch.rus.11', 'trial.sent.rus.530': 'trial.sketch.rus.11', 'trial.sent.rus.531': 'trial.sketch.rus.0', 'trial.sent.rus.532': 'trial.sketch.rus.4', 'trial.sent.rus.533': 'trial.sketch.rus.3', 'trial.sent.rus.534': 'trial.sketch.rus.13', 'trial.sent.rus.535': 'trial.sketch.rus.4', 'trial.sent.rus.536': 'trial.sketch.rus.7', 'trial.sent.rus.537': 'trial.sketch.rus.5', 'trial.sent.rus.538': 'trial.sketch.rus.18', 'trial.sent.rus.539': 'trial.sketch.rus.4', 'trial.sent.rus.540': 'trial.sketch.rus.13', 'trial.sent.rus.541': 'trial.sketch.rus.15', 'trial.sent.rus.542': 'trial.sketch.rus.0', 'trial.sent.rus.543': 'trial.sketch.rus.15', 'trial.sent.rus.544': 'trial.sketch.rus.8', 'trial.sent.rus.545': 'trial.sketch.rus.4', 'trial.sent.rus.546': 'trial.sketch.rus.14', 'trial.sent.rus.547': 'trial.sketch.rus.2', 'trial.sent.rus.548': 'trial.sketch.rus.4', 'trial.sent.rus.549': 'trial.sketch.rus.15', 'trial.sent.rus.550': 'trial.sketch.rus.19', 'trial.sent.rus.551': 'trial.sketch.rus.17', 'trial.sent.rus.552': 'trial.sketch.rus.5', 'trial.sent.rus.553': 'trial.sketch.rus.9', 'trial.sent.rus.554': 'trial.sketch.rus.15', 'trial.sent.rus.555': 'trial.sketch.rus.18', 'trial.sent.rus.556': 'trial.sketch.rus.12', 'trial.sent.rus.557': 'trial.sketch.rus.7', 'trial.sent.rus.558': 'trial.sketch.rus.6', 'trial.sent.rus.559': 'trial.sketch.rus.17', 'trial.sent.rus.560': 'trial.sketch.rus.16', 'trial.sent.rus.561': 'trial.sketch.rus.12', 'trial.sent.rus.562': 'trial.sketch.rus.1', 'trial.sent.rus.563': 'trial.sketch.rus.1', 'trial.sent.rus.564': 'trial.sketch.rus.6', 'trial.sent.rus.565': 'trial.sketch.rus.7', 'trial.sent.rus.566': 'trial.sketch.rus.3', 'trial.sent.rus.567': 'trial.sketch.rus.7', 'trial.sent.rus.568': 'trial.sketch.rus.18', 'trial.sent.rus.569': 'trial.sketch.rus.12', 'trial.sent.rus.570': 'trial.sketch.rus.10', 'trial.sent.rus.571': 'trial.sketch.rus.15', 'trial.sent.rus.572': 'trial.sketch.rus.4', 'trial.sent.rus.573': 'trial.sketch.rus.8', 'trial.sent.rus.574': 'trial.sketch.rus.5', 'trial.sent.rus.575': 'trial.sketch.rus.13', 'trial.sent.rus.576': 'trial.sketch.rus.19', 'trial.sent.rus.577': 'trial.sketch.rus.14', 'trial.sent.rus.578': 'trial.sketch.rus.10', 'trial.sent.rus.579': 'trial.sketch.rus.1', 'trial.sent.rus.580': 'trial.sketch.rus.6', 'trial.sent.rus.581': 'trial.sketch.rus.15', 'trial.sent.rus.582': 'trial.sketch.rus.7', 'trial.sent.rus.583': 'trial.sketch.rus.2', 'trial.sent.rus.584': 'trial.sketch.rus.10', 'trial.sent.rus.585': 'trial.sketch.rus.15', 'trial.sent.rus.586': 'trial.sketch.rus.11', 'trial.sent.rus.587': 'trial.sketch.rus.18', 'trial.sent.rus.588': 'trial.sketch.rus.9', 'trial.sent.rus.589': 'trial.sketch.rus.2', 'trial.sent.rus.590': 'trial.sketch.rus.10', 'trial.sent.rus.591': 'trial.sketch.rus.5', 'trial.sent.rus.592': 'trial.sketch.rus.5', 'trial.sent.rus.593': 'trial.sketch.rus.2', 'trial.sent.rus.594': 'trial.sketch.rus.17', 'trial.sent.rus.595': 'trial.sketch.rus.13', 'trial.sent.rus.596': 'trial.sketch.rus.18', 'trial.sent.rus.597': 'trial.sketch.rus.6', 'trial.sent.rus.598': 'trial.sketch.rus.11', 'trial.sent.rus.599': 'trial.sketch.rus.15', 'trial.sent.rus.600': 'trial.sketch.rus.3', 'trial.sent.rus.601': 'trial.sketch.rus.13', 'trial.sent.rus.602': 'trial.sketch.rus.5', 'trial.sent.rus.603': 'trial.sketch.rus.14', 'trial.sent.rus.604': 'trial.sketch.rus.3', 'trial.sent.rus.605': 'trial.sketch.rus.8', 'trial.sent.rus.606': 'trial.sketch.rus.10', 'trial.sent.rus.607': 'trial.sketch.rus.16', 'trial.sent.rus.608': 'trial.sketch.rus.7', 'trial.sent.rus.609': 'trial.sketch.rus.15', 'trial.sent.rus.610': 'trial.sketch.rus.9', 'trial.sent.rus.611': 'trial.sketch.rus.4', 'trial.sent.rus.612': 'trial.sketch.rus.9', 'trial.sent.rus.613': 'trial.sketch.rus.18', 'trial.sent.rus.614': 'trial.sketch.rus.15', 'trial.sent.rus.615': 'trial.sketch.rus.2', 'trial.sent.rus.616': 'trial.sketch.rus.10', 'trial.sent.rus.617': 'trial.sketch.rus.18', 'trial.sent.rus.618': 'trial.sketch.rus.4', 'trial.sent.rus.619': 'trial.sketch.rus.11', 'trial.sent.rus.620': 'trial.sketch.rus.14', 'trial.sent.rus.621': 'trial.sketch.rus.19', 'trial.sent.rus.622': 'trial.sketch.rus.16', 'trial.sent.rus.623': 'trial.sketch.rus.16', 'trial.sent.rus.624': 'trial.sketch.rus.18', 'trial.sent.rus.625': 'trial.sketch.rus.13', 'trial.sent.rus.626': 'trial.sketch.rus.16', 'trial.sent.rus.627': 'trial.sketch.rus.19', 'trial.sent.rus.628': 'trial.sketch.rus.19', 'trial.sent.rus.629': 'trial.sketch.rus.8', 'trial.sent.rus.630': 'trial.sketch.rus.14', 'trial.sent.rus.631': 'trial.sketch.rus.16', 'trial.sent.rus.632': 'trial.sketch.rus.16', 'trial.sent.rus.633': 'trial.sketch.rus.7', 'trial.sent.rus.634': 'trial.sketch.rus.6', 'trial.sent.rus.635': 'trial.sketch.rus.2', 'trial.sent.rus.636': 'trial.sketch.rus.10', 'trial.sent.rus.637': 'trial.sketch.rus.17', 'trial.sent.rus.638': 'trial.sketch.rus.17', 'trial.sent.rus.639': 'trial.sketch.rus.15', 'trial.sent.rus.640': 'trial.sketch.rus.15', 'trial.sent.rus.641': 'trial.sketch.rus.8', 'trial.sent.rus.642': 'trial.sketch.rus.19', 'trial.sent.rus.643': 'trial.sketch.rus.3', 'trial.sent.rus.644': 'trial.sketch.rus.5', 'trial.sent.rus.645': 'trial.sketch.rus.14', 'trial.sent.rus.646': 'trial.sketch.rus.17', 'trial.sent.rus.647': 'trial.sketch.rus.18', 'trial.sent.rus.648': 'trial.sketch.rus.1', 'trial.sent.rus.649': 'trial.sketch.rus.10', 'trial.sent.rus.650': 'trial.sketch.rus.5', 'trial.sent.rus.651': 'trial.sketch.rus.10', 'trial.sent.rus.652': 'trial.sketch.rus.7', 'trial.sent.rus.653': 'trial.sketch.rus.14', 'trial.sent.rus.654': 'trial.sketch.rus.13', 'trial.sent.rus.655': 'trial.sketch.rus.13', 'trial.sent.rus.656': 'trial.sketch.rus.2', 'trial.sent.rus.657': 'trial.sketch.rus.10', 'trial.sent.rus.658': 'trial.sketch.rus.3', 'trial.sent.rus.659': 'trial.sketch.rus.8', 'trial.sent.rus.660': 'trial.sketch.rus.1', 'trial.sent.rus.661': 'trial.sketch.rus.6', 'trial.sent.rus.662': 'trial.sketch.rus.14', 'trial.sent.rus.663': 'trial.sketch.rus.9', 'trial.sent.rus.664': 'trial.sketch.rus.12', 'trial.sent.rus.665': 'trial.sketch.rus.5', 'trial.sent.rus.666': 'trial.sketch.rus.16', 'trial.sent.rus.667': 'trial.sketch.rus.12', 'trial.sent.rus.668': 'trial.sketch.rus.15', 'trial.sent.rus.669': 'trial.sketch.rus.5', 'trial.sent.rus.670': 'trial.sketch.rus.11', 'trial.sent.rus.671': 'trial.sketch.rus.4', 'trial.sent.rus.672': 'trial.sketch.rus.13', 'trial.sent.rus.673': 'trial.sketch.rus.3', 'trial.sent.rus.674': 'trial.sketch.rus.2', 'trial.sent.rus.675': 'trial.sketch.rus.19', 'trial.sent.rus.676': 'trial.sketch.rus.14', 'trial.sent.rus.677': 'trial.sketch.rus.1', 'trial.sent.rus.678': 'trial.sketch.rus.19', 'trial.sent.rus.679': 'trial.sketch.rus.16', 'trial.sent.rus.680': 'trial.sketch.rus.2', 'trial.sent.rus.681': 'trial.sketch.rus.3', 'trial.sent.rus.682': 'trial.sketch.rus.3', 'trial.sent.rus.683': 'trial.sketch.rus.2', 'trial.sent.rus.684': 'trial.sketch.rus.13', 'trial.sent.rus.685': 'trial.sketch.rus.2', 'trial.sent.rus.686': 'trial.sketch.rus.7', 'trial.sent.rus.687': 'trial.sketch.rus.10', 'trial.sent.rus.688': 'trial.sketch.rus.11', 'trial.sent.rus.689': 'trial.sketch.rus.2', 'trial.sent.rus.690': 'trial.sketch.rus.7', 'trial.sent.rus.691': 'trial.sketch.rus.17', 'trial.sent.rus.692': 'trial.sketch.rus.1', 'trial.sent.rus.693': 'trial.sketch.rus.0', 'trial.sent.rus.694': 'trial.sketch.rus.7', 'trial.sent.rus.695': 'trial.sketch.rus.17', 'trial.sent.rus.696': 'trial.sketch.rus.4', 'trial.sent.rus.697': 'trial.sketch.rus.0', 'trial.sent.rus.698': 'trial.sketch.rus.19', 'trial.sent.rus.699': 'trial.sketch.rus.9', 'trial.sent.rus.700': 'trial.sketch.rus.9', 'trial.sent.rus.701': 'trial.sketch.rus.5', 'trial.sent.rus.702': 'trial.sketch.rus.9', 'trial.sent.rus.703': 'trial.sketch.rus.12', 'trial.sent.rus.704': 'trial.sketch.rus.4', 'trial.sent.rus.705': 'trial.sketch.rus.3', 'trial.sent.rus.706': 'trial.sketch.rus.3', 'trial.sent.rus.707': 'trial.sketch.rus.9', 'trial.sent.rus.708': 'trial.sketch.rus.3', 'trial.sent.rus.709': 'trial.sketch.rus.5', 'trial.sent.rus.710': 'trial.sketch.rus.17', 'trial.sent.rus.711': 'trial.sketch.rus.11', 'trial.sent.rus.712': 'trial.sketch.rus.19', 'trial.sent.rus.713': 'trial.sketch.rus.16', 'trial.sent.rus.714': 'trial.sketch.rus.14', 'trial.sent.rus.715': 'trial.sketch.rus.18', 'trial.sent.rus.716': 'trial.sketch.rus.3', 'trial.sent.rus.717': 'trial.sketch.rus.12', 'trial.sent.rus.718': 'trial.sketch.rus.7', 'trial.sent.rus.719': 'trial.sketch.rus.9', 'trial.sent.rus.720': 'trial.sketch.rus.11', 'trial.sent.rus.721': 'trial.sketch.rus.2', 'trial.sent.rus.722': 'trial.sketch.rus.10', 'trial.sent.rus.723': 'trial.sketch.rus.12', 'trial.sent.rus.724': 'trial.sketch.rus.3', 'trial.sent.rus.725': 'trial.sketch.rus.7', 'trial.sent.rus.726': 'trial.sketch.rus.10', 'trial.sent.rus.727': 'trial.sketch.rus.9', 'trial.sent.rus.728': 'trial.sketch.rus.5', 'trial.sent.rus.729': 'trial.sketch.rus.15', 'trial.sent.rus.730': 'trial.sketch.rus.3', 'trial.sent.rus.731': 'trial.sketch.rus.13', 'trial.sent.rus.732': 'trial.sketch.rus.13', 'trial.sent.rus.733': 'trial.sketch.rus.10', 'trial.sent.rus.734': 'trial.sketch.rus.15', 'trial.sent.rus.735': 'trial.sketch.rus.8', 'trial.sent.rus.736': 'trial.sketch.rus.2', 'trial.sent.rus.737': 'trial.sketch.rus.13', 'trial.sent.rus.738': 'trial.sketch.rus.8', 'trial.sent.rus.739': 'trial.sketch.rus.8', 'trial.sent.rus.740': 'trial.sketch.rus.18', 'trial.sent.rus.741': 'trial.sketch.rus.10', 'trial.sent.rus.742': 'trial.sketch.rus.3', 'trial.sent.rus.743': 'trial.sketch.rus.0', 'trial.sent.rus.744': 'trial.sketch.rus.15', 'trial.sent.rus.745': 'trial.sketch.rus.9', 'trial.sent.rus.746': 'trial.sketch.rus.5', 'trial.sent.rus.747': 'trial.sketch.rus.8', 'trial.sent.rus.748': 'trial.sketch.rus.7', 'trial.sent.rus.749': 'trial.sketch.rus.4', 'trial.sent.rus.750': 'trial.sketch.rus.6', 'trial.sent.rus.751': 'trial.sketch.rus.1', 'trial.sent.rus.752': 'trial.sketch.rus.12', 'trial.sent.rus.753': 'trial.sketch.rus.0', 'trial.sent.rus.754': 'trial.sketch.rus.19', 'trial.sent.rus.755': 'trial.sketch.rus.12', 'trial.sent.rus.756': 'trial.sketch.rus.18', 'trial.sent.rus.757': 'trial.sketch.rus.8', 'trial.sent.rus.758': 'trial.sketch.rus.17', 'trial.sent.rus.759': 'trial.sketch.rus.10', 'trial.sent.rus.760': 'trial.sketch.rus.0', 'trial.sent.rus.761': 'trial.sketch.rus.3', 'trial.sent.rus.762': 'trial.sketch.rus.15', 'trial.sent.rus.763': 'trial.sketch.rus.14', 'trial.sent.rus.764': 'trial.sketch.rus.17', 'trial.sent.rus.765': 'trial.sketch.rus.18', 'trial.sent.rus.766': 'trial.sketch.rus.15', 'trial.sent.rus.767': 'trial.sketch.rus.13', 'trial.sent.rus.768': 'trial.sketch.rus.0', 'trial.sent.rus.769': 'trial.sketch.rus.10', 'trial.sent.rus.770': 'trial.sketch.rus.1', 'trial.sent.rus.771': 'trial.sketch.rus.16', 'trial.sent.rus.772': 'trial.sketch.rus.9', 'trial.sent.rus.773': 'trial.sketch.rus.11', 'trial.sent.rus.774': 'trial.sketch.rus.12', 'trial.sent.rus.775': 'trial.sketch.rus.2', 'trial.sent.rus.776': 'trial.sketch.rus.10', 'trial.sent.rus.777': 'trial.sketch.rus.17', 'trial.sent.rus.778': 'trial.sketch.rus.19', 'trial.sent.rus.779': 'trial.sketch.rus.6', 'trial.sent.rus.780': 'trial.sketch.rus.9', 'trial.sent.rus.781': 'trial.sketch.rus.8', 'trial.sent.rus.782': 'trial.sketch.rus.14', 'trial.sent.rus.783': 'trial.sketch.rus.12', 'trial.sent.rus.784': 'trial.sketch.rus.0', 'trial.sent.rus.785': 'trial.sketch.rus.3', 'trial.sent.rus.786': 'trial.sketch.rus.6', 'trial.sent.rus.787': 'trial.sketch.rus.13', 'trial.sent.rus.788': 'trial.sketch.rus.13', 'trial.sent.rus.789': 'trial.sketch.rus.0', 'trial.sent.rus.790': 'trial.sketch.rus.15', 'trial.sent.rus.791': 'trial.sketch.rus.0', 'trial.sent.rus.792': 'trial.sketch.rus.2', 'trial.sent.rus.793': 'trial.sketch.rus.2', 'trial.sent.rus.794': 'trial.sketch.rus.12', 'trial.sent.rus.795': 'trial.sketch.rus.18', 'trial.sent.rus.796': 'trial.sketch.rus.18', 'trial.sent.rus.797': 'trial.sketch.rus.10', 'trial.sent.rus.798': 'trial.sketch.rus.6', 'trial.sent.rus.799': 'trial.sketch.rus.17', 'trial.sent.rus.800': 'trial.sketch.rus.0', 'trial.sent.rus.801': 'trial.sketch.rus.7', 'trial.sent.rus.802': 'trial.sketch.rus.13', 'trial.sent.rus.803': 'trial.sketch.rus.12', 'trial.sent.rus.804': 'trial.sketch.rus.16', 'trial.sent.rus.805': 'trial.sketch.rus.11', 'trial.sent.rus.806': 'trial.sketch.rus.6', 'trial.sent.rus.807': 'trial.sketch.rus.14', 'trial.sent.rus.808': 'trial.sketch.rus.13', 'trial.sent.rus.809': 'trial.sketch.rus.4', 'trial.sent.rus.810': 'trial.sketch.rus.2', 'trial.sent.rus.811': 'trial.sketch.rus.6', 'trial.sent.rus.812': 'trial.sketch.rus.13', 'trial.sent.rus.813': 'trial.sketch.rus.6', 'trial.sent.rus.814': 'trial.sketch.rus.11', 'trial.sent.rus.815': 'trial.sketch.rus.7', 'trial.sent.rus.816': 'trial.sketch.rus.2', 'trial.sent.rus.817': 'trial.sketch.rus.3', 'trial.sent.rus.818': 'trial.sketch.rus.10', 'trial.sent.rus.819': 'trial.sketch.rus.5', 'trial.sent.rus.820': 'trial.sketch.rus.10', 'trial.sent.rus.821': 'trial.sketch.rus.17', 'trial.sent.rus.822': 'trial.sketch.rus.16', 'trial.sent.rus.823': 'trial.sketch.rus.16', 'trial.sent.rus.824': 'trial.sketch.rus.10', 'trial.sent.rus.825': 'trial.sketch.rus.8', 'trial.sent.rus.826': 'trial.sketch.rus.4', 'trial.sent.rus.827': 'trial.sketch.rus.3', 'trial.sent.rus.828': 'trial.sketch.rus.7', 'trial.sent.rus.829': 'trial.sketch.rus.6', 'trial.sent.rus.830': 'trial.sketch.rus.2', 'trial.sent.rus.831': 'trial.sketch.rus.11', 'trial.sent.rus.832': 'trial.sketch.rus.5', 'trial.sent.rus.833': 'trial.sketch.rus.5', 'trial.sent.rus.834': 'trial.sketch.rus.12', 'trial.sent.rus.835': 'trial.sketch.rus.13', 'trial.sent.rus.836': 'trial.sketch.rus.4', 'trial.sent.rus.837': 'trial.sketch.rus.14', 'trial.sent.rus.838': 'trial.sketch.rus.7', 'trial.sent.rus.839': 'trial.sketch.rus.19', 'trial.sent.rus.840': 'trial.sketch.rus.18', 'trial.sent.rus.841': 'trial.sketch.rus.14', 'trial.sent.rus.842': 'trial.sketch.rus.18', 'trial.sent.rus.843': 'trial.sketch.rus.16', 'trial.sent.rus.844': 'trial.sketch.rus.7', 'trial.sent.rus.845': 'trial.sketch.rus.3', 'trial.sent.rus.846': 'trial.sketch.rus.15', 'trial.sent.rus.847': 'trial.sketch.rus.12', 'trial.sent.rus.848': 'trial.sketch.rus.4', 'trial.sent.rus.849': 'trial.sketch.rus.5', 'trial.sent.rus.850': 'trial.sketch.rus.6', 'trial.sent.rus.851': 'trial.sketch.rus.15', 'trial.sent.rus.852': 'trial.sketch.rus.0', 'trial.sent.rus.853': 'trial.sketch.rus.3', 'trial.sent.rus.854': 'trial.sketch.rus.14', 'trial.sent.rus.855': 'trial.sketch.rus.8', 'trial.sent.rus.856': 'trial.sketch.rus.2', 'trial.sent.rus.857': 'trial.sketch.rus.7', 'trial.sent.rus.858': 'trial.sketch.rus.6', 'trial.sent.rus.859': 'trial.sketch.rus.13', 'trial.sent.rus.860': 'trial.sketch.rus.17', 'trial.sent.rus.861': 'trial.sketch.rus.15', 'trial.sent.rus.862': 'trial.sketch.rus.11', 'trial.sent.rus.863': 'trial.sketch.rus.17', 'trial.sent.rus.864': 'trial.sketch.rus.18', 'trial.sent.rus.865': 'trial.sketch.rus.18', 'trial.sent.rus.866': 'trial.sketch.rus.11', 'trial.sent.rus.867': 'trial.sketch.rus.18', 'trial.sent.rus.868': 'trial.sketch.rus.19', 'trial.sent.rus.869': 'trial.sketch.rus.2', 'trial.sent.rus.870': 'trial.sketch.rus.14', 'trial.sent.rus.871': 'trial.sketch.rus.9', 'trial.sent.rus.872': 'trial.sketch.rus.19', 'trial.sent.rus.873': 'trial.sketch.rus.7', 'trial.sent.rus.874': 'trial.sketch.rus.11', 'trial.sent.rus.875': 'trial.sketch.rus.19', 'trial.sent.rus.876': 'trial.sketch.rus.11', 'trial.sent.rus.877': 'trial.sketch.rus.1', 'trial.sent.rus.878': 'trial.sketch.rus.17', 'trial.sent.rus.879': 'trial.sketch.rus.4', 'trial.sent.rus.880': 'trial.sketch.rus.18', 'trial.sent.rus.881': 'trial.sketch.rus.11', 'trial.sent.rus.882': 'trial.sketch.rus.17', 'trial.sent.rus.883': 'trial.sketch.rus.5', 'trial.sent.rus.884': 'trial.sketch.rus.11', 'trial.sent.rus.885': 'trial.sketch.rus.8', 'trial.sent.rus.886': 'trial.sketch.rus.4', 'trial.sent.rus.887': 'trial.sketch.rus.2', 'trial.sent.rus.888': 'trial.sketch.rus.7', 'trial.sent.rus.889': 'trial.sketch.rus.4', 'trial.sent.rus.890': 'trial.sketch.rus.7', 'trial.sent.rus.891': 'trial.sketch.rus.15', 'trial.sent.rus.892': 'trial.sketch.rus.19', 'trial.sent.rus.893': 'trial.sketch.rus.9', 'trial.sent.rus.894': 'trial.sketch.rus.15', 'trial.sent.rus.895': 'trial.sketch.rus.7', 'trial.sent.rus.896': 'trial.sketch.rus.2', 'trial.sent.rus.897': 'trial.sketch.rus.14', 'trial.sent.rus.898': 'trial.sketch.rus.16', 'trial.sent.rus.899': 'trial.sketch.rus.16', 'trial.sent.rus.900': 'trial.sketch.rus.14', 'trial.sent.rus.901': 'trial.sketch.rus.15', 'trial.sent.rus.902': 'trial.sketch.rus.5', 'trial.sent.rus.903': 'trial.sketch.rus.19', 'trial.sent.rus.904': 'trial.sketch.rus.8', 'trial.sent.rus.905': 'trial.sketch.rus.0', 'trial.sent.rus.906': 'trial.sketch.rus.5', 'trial.sent.rus.907': 'trial.sketch.rus.1', 'trial.sent.rus.908': 'trial.sketch.rus.2', 'trial.sent.rus.909': 'trial.sketch.rus.3', 'trial.sent.rus.910': 'trial.sketch.rus.17', 'trial.sent.rus.911': 'trial.sketch.rus.4', 'trial.sent.rus.912': 'trial.sketch.rus.13', 'trial.sent.rus.913': 'trial.sketch.rus.3', 'trial.sent.rus.914': 'trial.sketch.rus.2', 'trial.sent.rus.915': 'trial.sketch.rus.13', 'trial.sent.rus.916': 'trial.sketch.rus.6', 'trial.sent.rus.917': 'trial.sketch.rus.16', 'trial.sent.rus.918': 'trial.sketch.rus.6', 'trial.sent.rus.919': 'trial.sketch.rus.0', 'trial.sent.rus.920': 'trial.sketch.rus.1', 'trial.sent.rus.921': 'trial.sketch.rus.18', 'trial.sent.rus.922': 'trial.sketch.rus.0', 'trial.sent.rus.923': 'trial.sketch.rus.11', 'trial.sent.rus.924': 'trial.sketch.rus.15', 'trial.sent.rus.925': 'trial.sketch.rus.5', 'trial.sent.rus.926': 'trial.sketch.rus.16', 'trial.sent.rus.927': 'trial.sketch.rus.0', 'trial.sent.rus.928': 'trial.sketch.rus.0', 'trial.sent.rus.929': 'trial.sketch.rus.3', 'trial.sent.rus.930': 'trial.sketch.rus.7', 'trial.sent.rus.931': 'trial.sketch.rus.6', 'trial.sent.rus.932': 'trial.sketch.rus.16', 'trial.sent.rus.933': 'trial.sketch.rus.19', 'trial.sent.rus.934': 'trial.sketch.rus.6', 'trial.sent.rus.935': 'trial.sketch.rus.12', 'trial.sent.rus.936': 'trial.sketch.rus.3', 'trial.sent.rus.937': 'trial.sketch.rus.1', 'trial.sent.rus.938': 'trial.sketch.rus.5', 'trial.sent.rus.939': 'trial.sketch.rus.5', 'trial.sent.rus.940': 'trial.sketch.rus.7', 'trial.sent.rus.941': 'trial.sketch.rus.8', 'trial.sent.rus.942': 'trial.sketch.rus.0', 'trial.sent.rus.943': 'trial.sketch.rus.18', 'trial.sent.rus.944': 'trial.sketch.rus.10', 'trial.sent.rus.945': 'trial.sketch.rus.14', 'trial.sent.rus.946': 'trial.sketch.rus.15', 'trial.sent.rus.947': 'trial.sketch.rus.7', 'trial.sent.rus.948': 'trial.sketch.rus.3', 'trial.sent.rus.949': 'trial.sketch.rus.12', 'trial.sent.rus.950': 'trial.sketch.rus.8', 'trial.sent.rus.951': 'trial.sketch.rus.6', 'trial.sent.rus.952': 'trial.sketch.rus.8', 'trial.sent.rus.953': 'trial.sketch.rus.7', 'trial.sent.rus.954': 'trial.sketch.rus.8', 'trial.sent.rus.955': 'trial.sketch.rus.11', 'trial.sent.rus.956': 'trial.sketch.rus.11', 'trial.sent.rus.957': 'trial.sketch.rus.16', 'trial.sent.rus.958': 'trial.sketch.rus.3', 'trial.sent.rus.959': 'trial.sketch.rus.19', 'trial.sent.rus.960': 'trial.sketch.rus.14', 'trial.sent.rus.961': 'trial.sketch.rus.15', 'trial.sent.rus.962': 'trial.sketch.rus.2', 'trial.sent.rus.963': 'trial.sketch.rus.15', 'trial.sent.rus.964': 'trial.sketch.rus.2', 'trial.sent.rus.965': 'trial.sketch.rus.3', 'trial.sent.rus.966': 'trial.sketch.rus.11', 'trial.sent.rus.967': 'trial.sketch.rus.4', 'trial.sent.rus.968': 'trial.sketch.rus.11', 'trial.sent.rus.969': 'trial.sketch.rus.2', 'trial.sent.rus.970': 'trial.sketch.rus.7', 'trial.sent.rus.971': 'trial.sketch.rus.7', 'trial.sent.rus.972': 'trial.sketch.rus.4', 'trial.sent.rus.973': 'trial.sketch.rus.7', 'trial.sent.rus.974': 'trial.sketch.rus.5', 'trial.sent.rus.975': 'trial.sketch.rus.9', 'trial.sent.rus.976': 'trial.sketch.rus.12', 'trial.sent.rus.977': 'trial.sketch.rus.2', 'trial.sent.rus.978': 'trial.sketch.rus.3', 'trial.sent.rus.979': 'trial.sketch.rus.8', 'trial.sent.rus.980': 'trial.sketch.rus.9', 'trial.sent.rus.981': 'trial.sketch.rus.10', 'trial.sent.rus.982': 'trial.sketch.rus.4', 'trial.sent.rus.983': 'trial.sketch.rus.1', 'trial.sent.rus.984': 'trial.sketch.rus.4', 'trial.sent.rus.985': 'trial.sketch.rus.5', 'trial.sent.rus.986': 'trial.sketch.rus.15', 'trial.sent.rus.987': 'trial.sketch.rus.0', 'trial.sent.rus.988': 'trial.sketch.rus.1', 'trial.sent.rus.989': 'trial.sketch.rus.13', 'trial.sent.rus.990': 'trial.sketch.rus.4', 'trial.sent.rus.991': 'trial.sketch.rus.15', 'trial.sent.rus.992': 'trial.sketch.rus.18', 'trial.sent.rus.993': 'trial.sketch.rus.15', 'trial.sent.rus.994': 'trial.sketch.rus.8', 'trial.sent.rus.995': 'trial.sketch.rus.7', 'trial.sent.rus.996': 'trial.sketch.rus.3', 'trial.sent.rus.997': 'trial.sketch.rus.3', 'trial.sent.rus.998': 'trial.sketch.rus.4', 'trial.sent.rus.999': 'trial.sketch.rus.13', 'trial.sent.rus.1000': 'trial.sketch.rus.16', 'trial.sent.rus.1001': 'trial.sketch.rus.6', 'trial.sent.rus.1002': 'trial.sketch.rus.18', 'trial.sent.rus.1003': 'trial.sketch.rus.6', 'trial.sent.rus.1004': 'trial.sketch.rus.0', 'trial.sent.rus.1005': 'trial.sketch.rus.14', 'trial.sent.rus.1006': 'trial.sketch.rus.4', 'trial.sent.rus.1007': 'trial.sketch.rus.14', 'trial.sent.rus.1008': 'trial.sketch.rus.9', 'trial.sent.rus.1009': 'trial.sketch.rus.3', 'trial.sent.rus.1010': 'trial.sketch.rus.17', 'trial.sent.rus.1011': 'trial.sketch.rus.4', 'trial.sent.rus.1012': 'trial.sketch.rus.18', 'trial.sent.rus.1013': 'trial.sketch.rus.4', 'trial.sent.rus.1014': 'trial.sketch.rus.18', 'trial.sent.rus.1015': 'trial.sketch.rus.15', 'trial.sent.rus.1016': 'trial.sketch.rus.14', 'trial.sent.rus.1017': 'trial.sketch.rus.6', 'trial.sent.rus.1018': 'trial.sketch.rus.15', 'trial.sent.rus.1019': 'trial.sketch.rus.9', 'trial.sent.rus.1020': 'trial.sketch.rus.14', 'trial.sent.rus.1021': 'trial.sketch.rus.3', 'trial.sent.rus.1022': 'trial.sketch.rus.19', 'trial.sent.rus.1023': 'trial.sketch.rus.13', 'trial.sent.rus.1024': 'trial.sketch.rus.2', 'trial.sent.rus.1025': 'trial.sketch.rus.13', 'trial.sent.rus.1026': 'trial.sketch.rus.12', 'trial.sent.rus.1027': 'trial.sketch.rus.0', 'trial.sent.rus.1028': 'trial.sketch.rus.15', 'trial.sent.rus.1029': 'trial.sketch.rus.2', 'trial.sent.rus.1030': 'trial.sketch.rus.6', 'trial.sent.rus.1031': 'trial.sketch.rus.15', 'trial.sent.rus.1032': 'trial.sketch.rus.6', 'trial.sent.rus.1033': 'trial.sketch.rus.2', 'trial.sent.rus.1034': 'trial.sketch.rus.5', 'trial.sent.rus.1035': 'trial.sketch.rus.0', 'trial.sent.rus.1036': 'trial.sketch.rus.18', 'trial.sent.rus.1037': 'trial.sketch.rus.15', 'trial.sent.rus.1038': 'trial.sketch.rus.2', 'trial.sent.rus.1039': 'trial.sketch.rus.3', 'trial.sent.rus.1040': 'trial.sketch.rus.13', 'trial.sent.rus.1041': 'trial.sketch.rus.2', 'trial.sent.rus.1042': 'trial.sketch.rus.0', 'trial.sent.rus.1043': 'trial.sketch.rus.3', 'trial.sent.rus.1044': 'trial.sketch.rus.16', 'trial.sent.rus.1045': 'trial.sketch.rus.7', 'trial.sent.rus.1046': 'trial.sketch.rus.17', 'trial.sent.rus.1047': 'trial.sketch.rus.4', 'trial.sent.rus.1048': 'trial.sketch.rus.4', 'trial.sent.rus.1049': 'trial.sketch.rus.9', 'trial.sent.rus.1050': 'trial.sketch.rus.8', 'trial.sent.rus.1051': 'trial.sketch.rus.1', 'trial.sent.rus.1052': 'trial.sketch.rus.12', 'trial.sent.rus.1053': 'trial.sketch.rus.14', 'trial.sent.rus.1054': 'trial.sketch.rus.19', 'trial.sent.rus.1055': 'trial.sketch.rus.7', 'trial.sent.rus.1056': 'trial.sketch.rus.1', 'trial.sent.rus.1057': 'trial.sketch.rus.13', 'trial.sent.rus.1058': 'trial.sketch.rus.4', 'trial.sent.rus.1059': 'trial.sketch.rus.13', 'trial.sent.rus.1060': 'trial.sketch.rus.6', 'trial.sent.rus.1061': 'trial.sketch.rus.15', 'trial.sent.rus.1062': 'trial.sketch.rus.13', 'trial.sent.rus.1063': 'trial.sketch.rus.18', 'trial.sent.rus.1064': 'trial.sketch.rus.8', 'trial.sent.rus.1065': 'trial.sketch.rus.3', 'trial.sent.rus.1066': 'trial.sketch.rus.12', 'trial.sent.rus.1067': 'trial.sketch.rus.0', 'trial.sent.rus.1068': 'trial.sketch.rus.19', 'trial.sent.rus.1069': 'trial.sketch.rus.11', 'trial.sent.rus.1070': 'trial.sketch.rus.8', 'trial.sent.rus.1071': 'trial.sketch.rus.1', 'trial.sent.rus.1072': 'trial.sketch.rus.18', 'trial.sent.rus.1073': 'trial.sketch.rus.15', 'trial.sent.rus.1074': 'trial.sketch.rus.4', 'trial.sent.rus.1075': 'trial.sketch.rus.8', 'trial.sent.rus.1076': 'trial.sketch.rus.0', 'trial.sent.rus.1077': 'trial.sketch.rus.11', 'trial.sent.rus.1078': 'trial.sketch.rus.19', 'trial.sent.rus.1079': 'trial.sketch.rus.3', 'trial.sent.rus.1080': 'trial.sketch.rus.8', 'trial.sent.rus.1081': 'trial.sketch.rus.11', 'trial.sent.rus.1082': 'trial.sketch.rus.1', 'trial.sent.rus.1083': 'trial.sketch.rus.10', 'trial.sent.rus.1084': 'trial.sketch.rus.16', 'trial.sent.rus.1085': 'trial.sketch.rus.10', 'trial.sent.rus.1086': 'trial.sketch.rus.9', 'trial.sent.rus.1087': 'trial.sketch.rus.8', 'trial.sent.rus.1088': 'trial.sketch.rus.11', 'trial.sent.rus.1089': 'trial.sketch.rus.16', 'trial.sent.rus.1090': 'trial.sketch.rus.13', 'trial.sent.rus.1091': 'trial.sketch.rus.2', 'trial.sent.rus.1092': 'trial.sketch.rus.19', 'trial.sent.rus.1093': 'trial.sketch.rus.16', 'trial.sent.rus.1094': 'trial.sketch.rus.0', 'trial.sent.rus.1095': 'trial.sketch.rus.4', 'trial.sent.rus.1096': 'trial.sketch.rus.2', 'trial.sent.rus.1097': 'trial.sketch.rus.14', 'trial.sent.rus.1098': 'trial.sketch.rus.6', 'trial.sent.rus.1099': 'trial.sketch.rus.13', 'trial.sent.rus.1100': 'trial.sketch.rus.13', 'trial.sent.rus.1101': 'trial.sketch.rus.11', 'trial.sent.rus.1102': 'trial.sketch.rus.11', 'trial.sent.rus.1103': 'trial.sketch.rus.13', 'trial.sent.rus.1104': 'trial.sketch.rus.4', 'trial.sent.rus.1105': 'trial.sketch.rus.0', 'trial.sent.rus.1106': 'trial.sketch.rus.18', 'trial.sent.rus.1107': 'trial.sketch.rus.11', 'trial.sent.rus.1108': 'trial.sketch.rus.19', 'trial.sent.rus.1109': 'trial.sketch.rus.8', 'trial.sent.rus.1110': 'trial.sketch.rus.10', 'trial.sent.rus.1111': 'trial.sketch.rus.13', 'trial.sent.rus.1112': 'trial.sketch.rus.18', 'trial.sent.rus.1113': 'trial.sketch.rus.6', 'trial.sent.rus.1114': 'trial.sketch.rus.3', 'trial.sent.rus.1115': 'trial.sketch.rus.5', 'trial.sent.rus.1116': 'trial.sketch.rus.1', 'trial.sent.rus.1117': 'trial.sketch.rus.0', 'trial.sent.rus.1118': 'trial.sketch.rus.5', 'trial.sent.rus.1119': 'trial.sketch.rus.8', 'trial.sent.rus.1120': 'trial.sketch.rus.9', 'trial.sent.rus.1121': 'trial.sketch.rus.5', 'trial.sent.rus.1122': 'trial.sketch.rus.15', 'trial.sent.rus.1123': 'trial.sketch.rus.16', 'trial.sent.rus.1124': 'trial.sketch.rus.17', 'trial.sent.rus.1125': 'trial.sketch.rus.0', 'trial.sent.rus.1126': 'trial.sketch.rus.15', 'trial.sent.rus.1127': 'trial.sketch.rus.6', 'trial.sent.rus.1128': 'trial.sketch.rus.2', 'trial.sent.rus.1129': 'trial.sketch.rus.1', 'trial.sent.rus.1130': 'trial.sketch.rus.15', 'trial.sent.rus.1131': 'trial.sketch.rus.2', 'trial.sent.rus.1132': 'trial.sketch.rus.8', 'trial.sent.rus.1133': 'trial.sketch.rus.14', 'trial.sent.rus.1134': 'trial.sketch.rus.9', 'trial.sent.rus.1135': 'trial.sketch.rus.10', 'trial.sent.rus.1136': 'trial.sketch.rus.14', 'trial.sent.rus.1137': 'trial.sketch.rus.13', 'trial.sent.rus.1138': 'trial.sketch.rus.4', 'trial.sent.rus.1139': 'trial.sketch.rus.18', 'trial.sent.rus.1140': 'trial.sketch.rus.2', 'trial.sent.rus.1141': 'trial.sketch.rus.7', 'trial.sent.rus.1142': 'trial.sketch.rus.9', 'trial.sent.rus.1143': 'trial.sketch.rus.0', 'trial.sent.rus.1144': 'trial.sketch.rus.8', 'trial.sent.rus.1145': 'trial.sketch.rus.0', 'trial.sent.rus.1146': 'trial.sketch.rus.18', 'trial.sent.rus.1147': 'trial.sketch.rus.9', 'trial.sent.rus.1148': 'trial.sketch.rus.17', 'trial.sent.rus.1149': 'trial.sketch.rus.16', 'trial.sent.rus.1150': 'trial.sketch.rus.14', 'trial.sent.rus.1151': 'trial.sketch.rus.6', 'trial.sent.rus.1152': 'trial.sketch.rus.16', 'trial.sent.rus.1153': 'trial.sketch.rus.5', 'trial.sent.rus.1154': 'trial.sketch.rus.4', 'trial.sent.rus.1155': 'trial.sketch.rus.12', 'trial.sent.rus.1156': 'trial.sketch.rus.10', 'trial.sent.rus.1157': 'trial.sketch.rus.8', 'trial.sent.rus.1158': 'trial.sketch.rus.13', 'trial.sent.rus.1159': 'trial.sketch.rus.1', 'trial.sent.rus.1160': 'trial.sketch.rus.7', 'trial.sent.rus.1161': 'trial.sketch.rus.5', 'trial.sent.rus.1162': 'trial.sketch.rus.10', 'trial.sent.rus.1163': 'trial.sketch.rus.6', 'trial.sent.rus.1164': 'trial.sketch.rus.4', 'trial.sent.rus.1165': 'trial.sketch.rus.19', 'trial.sent.rus.1166': 'trial.sketch.rus.17', 'trial.sent.rus.1167': 'trial.sketch.rus.3', 'trial.sent.rus.1168': 'trial.sketch.rus.3', 'trial.sent.rus.1169': 'trial.sketch.rus.7', 'trial.sent.rus.1170': 'trial.sketch.rus.2', 'trial.sent.rus.1171': 'trial.sketch.rus.11', 'trial.sent.rus.1172': 'trial.sketch.rus.6', 'trial.sent.rus.1173': 'trial.sketch.rus.5', 'trial.sent.rus.1174': 'trial.sketch.rus.12', 'trial.sent.rus.1175': 'trial.sketch.rus.10', 'trial.sent.rus.1176': 'trial.sketch.rus.1', 'trial.sent.rus.1177': 'trial.sketch.rus.4', 'trial.sent.rus.1178': 'trial.sketch.rus.0', 'trial.sent.rus.1179': 'trial.sketch.rus.6', 'trial.sent.rus.1180': 'trial.sketch.rus.3', 'trial.sent.rus.1181': 'trial.sketch.rus.17', 'trial.sent.rus.1182': 'trial.sketch.rus.7', 'trial.sent.rus.1183': 'trial.sketch.rus.10', 'trial.sent.rus.1184': 'trial.sketch.rus.11', 'trial.sent.rus.1185': 'trial.sketch.rus.15', 'trial.sent.rus.1186': 'trial.sketch.rus.16', 'trial.sent.rus.1187': 'trial.sketch.rus.16', 'trial.sent.rus.1188': 'trial.sketch.rus.9', 'trial.sent.rus.1189': 'trial.sketch.rus.12', 'trial.sent.rus.1190': 'trial.sketch.rus.10', 'trial.sent.rus.1191': 'trial.sketch.rus.10', 'trial.sent.rus.1192': 'trial.sketch.rus.1', 'trial.sent.rus.1193': 'trial.sketch.rus.18', 'trial.sent.rus.1194': 'trial.sketch.rus.16', 'trial.sent.rus.1195': 'trial.sketch.rus.5', 'trial.sent.rus.1196': 'trial.sketch.rus.12', 'trial.sent.rus.1197': 'trial.sketch.rus.8', 'trial.sent.rus.1198': 'trial.sketch.rus.4', 'trial.sent.rus.1199': 'trial.sketch.rus.9', 'trial.sent.rus.1200': 'trial.sketch.rus.6', 'trial.sent.rus.1201': 'trial.sketch.rus.5', 'trial.sent.rus.1202': 'trial.sketch.rus.19', 'trial.sent.rus.1203': 'trial.sketch.rus.18', 'trial.sent.rus.1204': 'trial.sketch.rus.4', 'trial.sent.rus.1205': 'trial.sketch.rus.10', 'trial.sent.rus.1206': 'trial.sketch.rus.1', 'trial.sent.rus.1207': 'trial.sketch.rus.12', 'trial.sent.rus.1208': 'trial.sketch.rus.14', 'trial.sent.rus.1209': 'trial.sketch.rus.11', 'trial.sent.rus.1210': 'trial.sketch.rus.1', 'trial.sent.rus.1211': 'trial.sketch.rus.15', 'trial.sent.rus.1212': 'trial.sketch.rus.15', 'trial.sent.rus.1213': 'trial.sketch.rus.13', 'trial.sent.rus.1214': 'trial.sketch.rus.18', 'trial.sent.rus.1215': 'trial.sketch.rus.2', 'trial.sent.rus.1216': 'trial.sketch.rus.2', 'trial.sent.rus.1217': 'trial.sketch.rus.18', 'trial.sent.rus.1218': 'trial.sketch.rus.10', 'trial.sent.rus.1219': 'trial.sketch.rus.10', 'trial.sent.rus.1220': 'trial.sketch.rus.8', 'trial.sent.rus.1221': 'trial.sketch.rus.0', 'trial.sent.rus.1222': 'trial.sketch.rus.10', 'trial.sent.rus.1223': 'trial.sketch.rus.5', 'trial.sent.rus.1224': 'trial.sketch.rus.15', 'trial.sent.rus.1225': 'trial.sketch.rus.15', 'trial.sent.rus.1226': 'trial.sketch.rus.16', 'trial.sent.rus.1227': 'trial.sketch.rus.3', 'trial.sent.rus.1228': 'trial.sketch.rus.19', 'trial.sent.rus.1229': 'trial.sketch.rus.15', 'trial.sent.rus.1230': 'trial.sketch.rus.10', 'trial.sent.rus.1231': 'trial.sketch.rus.13', 'trial.sent.rus.1232': 'trial.sketch.rus.9', 'trial.sent.rus.1233': 'trial.sketch.rus.5', 'trial.sent.rus.1234': 'trial.sketch.rus.3', 'trial.sent.rus.1235': 'trial.sketch.rus.18', 'trial.sent.rus.1236': 'trial.sketch.rus.18', 'trial.sent.rus.1237': 'trial.sketch.rus.17', 'trial.sent.rus.1238': 'trial.sketch.rus.8', 'trial.sent.rus.1239': 'trial.sketch.rus.5', 'trial.sent.rus.1240': 'trial.sketch.rus.2', 'trial.sent.rus.1241': 'trial.sketch.rus.5', 'trial.sent.rus.1242': 'trial.sketch.rus.6', 'trial.sent.rus.1243': 'trial.sketch.rus.3', 'trial.sent.rus.1244': 'trial.sketch.rus.12', 'trial.sent.rus.1245': 'trial.sketch.rus.13', 'trial.sent.rus.1246': 'trial.sketch.rus.9', 'trial.sent.rus.1247': 'trial.sketch.rus.4', 'trial.sent.rus.1248': 'trial.sketch.rus.1', 'trial.sent.rus.1249': 'trial.sketch.rus.8', 'trial.sent.rus.1250': 'trial.sketch.rus.1', 'trial.sent.rus.1251': 'trial.sketch.rus.7', 'trial.sent.rus.1252': 'trial.sketch.rus.12', 'trial.sent.rus.1253': 'trial.sketch.rus.9', 'trial.sent.rus.1254': 'trial.sketch.rus.14', 'trial.sent.rus.1255': 'trial.sketch.rus.6', 'trial.sent.rus.1256': 'trial.sketch.rus.14', 'trial.sent.rus.1257': 'trial.sketch.rus.14', 'trial.sent.rus.1258': 'trial.sketch.rus.13', 'trial.sent.rus.1259': 'trial.sketch.rus.17', 'trial.sent.rus.1260': 'trial.sketch.rus.5', 'trial.sent.rus.1261': 'trial.sketch.rus.19', 'trial.sent.rus.1262': 'trial.sketch.rus.13', 'trial.sent.rus.1263': 'trial.sketch.rus.7', 'trial.sent.rus.1264': 'trial.sketch.rus.18', 'trial.sent.rus.1265': 'trial.sketch.rus.16', 'trial.sent.rus.1266': 'trial.sketch.rus.8', 'trial.sent.rus.1267': 'trial.sketch.rus.4', 'trial.sent.rus.1268': 'trial.sketch.rus.18', 'trial.sent.rus.1269': 'trial.sketch.rus.11', 'trial.sent.rus.1270': 'trial.sketch.rus.4', 'trial.sent.rus.1271': 'trial.sketch.rus.19', 'trial.sent.rus.1272': 'trial.sketch.rus.5', 'trial.sent.rus.1273': 'trial.sketch.rus.1', 'trial.sent.rus.1274': 'trial.sketch.rus.5', 'trial.sent.rus.1275': 'trial.sketch.rus.14', 'trial.sent.rus.1276': 'trial.sketch.rus.11', 'trial.sent.rus.1277': 'trial.sketch.rus.15', 'trial.sent.rus.1278': 'trial.sketch.rus.16', 'trial.sent.rus.1279': 'trial.sketch.rus.19', 'trial.sent.rus.1280': 'trial.sketch.rus.12', 'trial.sent.rus.1281': 'trial.sketch.rus.17', 'trial.sent.rus.1282': 'trial.sketch.rus.11', 'trial.sent.rus.1283': 'trial.sketch.rus.7', 'trial.sent.rus.1284': 'trial.sketch.rus.15', 'trial.sent.rus.1285': 'trial.sketch.rus.9', 'trial.sent.rus.1286': 'trial.sketch.rus.7', 'trial.sent.rus.1287': 'trial.sketch.rus.0', 'trial.sent.rus.1288': 'trial.sketch.rus.15', 'trial.sent.rus.1289': 'trial.sketch.rus.15', 'trial.sent.rus.1290': 'trial.sketch.rus.6', 'trial.sent.rus.1291': 'trial.sketch.rus.17', 'trial.sent.rus.1292': 'trial.sketch.rus.7', 'trial.sent.rus.1293': 'trial.sketch.rus.10', 'trial.sent.rus.1294': 'trial.sketch.rus.19', 'trial.sent.rus.1295': 'trial.sketch.rus.5', 'trial.sent.rus.1296': 'trial.sketch.rus.10', 'trial.sent.rus.1297': 'trial.sketch.rus.14', 'trial.sent.rus.1298': 'trial.sketch.rus.17', 'trial.sent.rus.1299': 'trial.sketch.rus.5', 'trial.sent.rus.1300': 'trial.sketch.rus.8', 'trial.sent.rus.1301': 'trial.sketch.rus.1', 'trial.sent.rus.1302': 'trial.sketch.rus.0', 'trial.sent.rus.1303': 'trial.sketch.rus.13', 'trial.sent.rus.1304': 'trial.sketch.rus.12', 'trial.sent.rus.1305': 'trial.sketch.rus.7', 'trial.sent.rus.1306': 'trial.sketch.rus.15', 'trial.sent.rus.1307': 'trial.sketch.rus.10', 'trial.sent.rus.1308': 'trial.sketch.rus.7', 'trial.sent.rus.1309': 'trial.sketch.rus.7', 'trial.sent.rus.1310': 'trial.sketch.rus.8', 'trial.sent.rus.1311': 'trial.sketch.rus.17', 'trial.sent.rus.1312': 'trial.sketch.rus.9', 'trial.sent.rus.1313': 'trial.sketch.rus.5', 'trial.sent.rus.1314': 'trial.sketch.rus.14', 'trial.sent.rus.1315': 'trial.sketch.rus.3', 'trial.sent.rus.1316': 'trial.sketch.rus.16', 'trial.sent.rus.1317': 'trial.sketch.rus.5', 'trial.sent.rus.1318': 'trial.sketch.rus.3', 'trial.sent.rus.1319': 'trial.sketch.rus.13', 'trial.sent.rus.1320': 'trial.sketch.rus.8', 'trial.sent.rus.1321': 'trial.sketch.rus.0', 'trial.sent.rus.1322': 'trial.sketch.rus.11', 'trial.sent.rus.1323': 'trial.sketch.rus.9', 'trial.sent.rus.1324': 'trial.sketch.rus.10', 'trial.sent.rus.1325': 'trial.sketch.rus.18', 'trial.sent.rus.1326': 'trial.sketch.rus.18', 'trial.sent.rus.1327': 'trial.sketch.rus.14', 'trial.sent.rus.1328': 'trial.sketch.rus.14', 'trial.sent.rus.1329': 'trial.sketch.rus.5', 'trial.sent.rus.1330': 'trial.sketch.rus.2', 'trial.sent.rus.1331': 'trial.sketch.rus.15', 'trial.sent.rus.1332': 'trial.sketch.rus.12', 'trial.sent.rus.1333': 'trial.sketch.rus.2', 'trial.sent.rus.1334': 'trial.sketch.rus.19', 'trial.sent.rus.1335': 'trial.sketch.rus.19', 'trial.sent.rus.1336': 'trial.sketch.rus.9', 'trial.sent.rus.1337': 'trial.sketch.rus.0', 'trial.sent.rus.1338': 'trial.sketch.rus.16', 'trial.sent.rus.1339': 'trial.sketch.rus.8', 'trial.sent.rus.1340': 'trial.sketch.rus.6', 'trial.sent.rus.1341': 'trial.sketch.rus.12', 'trial.sent.rus.1342': 'trial.sketch.rus.11', 'trial.sent.rus.1343': 'trial.sketch.rus.8', 'trial.sent.rus.1344': 'trial.sketch.rus.12', 'trial.sent.rus.1345': 'trial.sketch.rus.18', 'trial.sent.rus.1346': 'trial.sketch.rus.19', 'trial.sent.rus.1347': 'trial.sketch.rus.3', 'trial.sent.rus.1348': 'trial.sketch.rus.12', 'trial.sent.rus.1349': 'trial.sketch.rus.9', 'trial.sent.rus.1350': 'trial.sketch.rus.18', 'trial.sent.rus.1351': 'trial.sketch.rus.11', 'trial.sent.rus.1352': 'trial.sketch.rus.7', 'trial.sent.rus.1353': 'trial.sketch.rus.8', 'trial.sent.rus.1354': 'trial.sketch.rus.11', 'trial.sent.rus.1355': 'trial.sketch.rus.12', 'trial.sent.rus.1356': 'trial.sketch.rus.11', 'trial.sent.rus.1357': 'trial.sketch.rus.17', 'trial.sent.rus.1358': 'trial.sketch.rus.19', 'trial.sent.rus.1359': 'trial.sketch.rus.5', 'trial.sent.rus.1360': 'trial.sketch.rus.19', 'trial.sent.rus.1361': 'trial.sketch.rus.15', 'trial.sent.rus.1362': 'trial.sketch.rus.12', 'trial.sent.rus.1363': 'trial.sketch.rus.4', 'trial.sent.rus.1364': 'trial.sketch.rus.13', 'trial.sent.rus.1365': 'trial.sketch.rus.14', 'trial.sent.rus.1366': 'trial.sketch.rus.7', 'trial.sent.rus.1367': 'trial.sketch.rus.5', 'trial.sent.rus.1368': 'trial.sketch.rus.18', 'trial.sent.rus.1369': 'trial.sketch.rus.18', 'trial.sent.rus.1370': 'trial.sketch.rus.14', 'trial.sent.rus.1371': 'trial.sketch.rus.9', 'trial.sent.rus.1372': 'trial.sketch.rus.19', 'trial.sent.rus.1373': 'trial.sketch.rus.4', 'trial.sent.rus.1374': 'trial.sketch.rus.18', 'trial.sent.rus.1375': 'trial.sketch.rus.7', 'trial.sent.rus.1376': 'trial.sketch.rus.8', 'trial.sent.rus.1377': 'trial.sketch.rus.19', 'trial.sent.rus.1378': 'trial.sketch.rus.8', 'trial.sent.rus.1379': 'trial.sketch.rus.12', 'trial.sent.rus.1380': 'trial.sketch.rus.7', 'trial.sent.rus.1381': 'trial.sketch.rus.10', 'trial.sent.rus.1382': 'trial.sketch.rus.2', 'trial.sent.rus.1383': 'trial.sketch.rus.6', 'trial.sent.rus.1384': 'trial.sketch.rus.13', 'trial.sent.rus.1385': 'trial.sketch.rus.6', 'trial.sent.rus.1386': 'trial.sketch.rus.5', 'trial.sent.rus.1387': 'trial.sketch.rus.14', 'trial.sent.rus.1388': 'trial.sketch.rus.10', 'trial.sent.rus.1389': 'trial.sketch.rus.14', 'trial.sent.rus.1390': 'trial.sketch.rus.9', 'trial.sent.rus.1391': 'trial.sketch.rus.14', 'trial.sent.rus.1392': 'trial.sketch.rus.6', 'trial.sent.rus.1393': 'trial.sketch.rus.13', 'trial.sent.rus.1394': 'trial.sketch.rus.0', 'trial.sent.rus.1395': 'trial.sketch.rus.16', 'trial.sent.rus.1396': 'trial.sketch.rus.7', 'trial.sent.rus.1397': 'trial.sketch.rus.7', 'trial.sent.rus.1398': 'trial.sketch.rus.2', 'trial.sent.rus.1399': 'trial.sketch.rus.1', 'trial.sent.rus.1400': 'trial.sketch.rus.19', 'trial.sent.rus.1401': 'trial.sketch.rus.4', 'trial.sent.rus.1402': 'trial.sketch.rus.4', 'trial.sent.rus.1403': 'trial.sketch.rus.19', 'trial.sent.rus.1404': 'trial.sketch.rus.16', 'trial.sent.rus.1405': 'trial.sketch.rus.6', 'trial.sent.rus.1406': 'trial.sketch.rus.12', 'trial.sent.rus.1407': 'trial.sketch.rus.7', 'trial.sent.rus.1408': 'trial.sketch.rus.3', 'trial.sent.rus.1409': 'trial.sketch.rus.14', 'trial.sent.rus.1410': 'trial.sketch.rus.15', 'trial.sent.rus.1411': 'trial.sketch.rus.14', 'trial.sent.rus.1412': 'trial.sketch.rus.1', 'trial.sent.rus.1413': 'trial.sketch.rus.16', 'trial.sent.rus.1414': 'trial.sketch.rus.2', 'trial.sent.rus.1415': 'trial.sketch.rus.3', 'trial.sent.rus.1416': 'trial.sketch.rus.7', 'trial.sent.rus.1417': 'trial.sketch.rus.19', 'trial.sent.rus.1418': 'trial.sketch.rus.3', 'trial.sent.rus.1419': 'trial.sketch.rus.4', 'trial.sent.rus.1420': 'trial.sketch.rus.13', 'trial.sent.rus.1421': 'trial.sketch.rus.6', 'trial.sent.rus.1422': 'trial.sketch.rus.3', 'trial.sent.rus.1423': 'trial.sketch.rus.9', 'trial.sent.rus.1424': 'trial.sketch.rus.8', 'trial.sent.rus.1425': 'trial.sketch.rus.19', 'trial.sent.rus.1426': 'trial.sketch.rus.9', 'trial.sent.rus.1427': 'trial.sketch.rus.1', 'trial.sent.rus.1428': 'trial.sketch.rus.18', 'trial.sent.rus.1429': 'trial.sketch.rus.5', 'trial.sent.rus.1430': 'trial.sketch.rus.15', 'trial.sent.rus.1431': 'trial.sketch.rus.11', 'trial.sent.rus.1432': 'trial.sketch.rus.12', 'trial.sent.rus.1433': 'trial.sketch.rus.18', 'trial.sent.rus.1434': 'trial.sketch.rus.12', 'trial.sent.rus.1435': 'trial.sketch.rus.2', 'trial.sent.rus.1436': 'trial.sketch.rus.7', 'trial.sent.rus.1437': 'trial.sketch.rus.7', 'trial.sent.rus.1438': 'trial.sketch.rus.12', 'trial.sent.rus.1439': 'trial.sketch.rus.16', 'trial.sent.rus.1440': 'trial.sketch.rus.2', 'trial.sent.rus.1441': 'trial.sketch.rus.17', 'trial.sent.rus.1442': 'trial.sketch.rus.11', 'trial.sent.rus.1443': 'trial.sketch.rus.11', 'trial.sent.rus.1444': 'trial.sketch.rus.10', 'trial.sent.rus.1445': 'trial.sketch.rus.6', 'trial.sent.rus.1446': 'trial.sketch.rus.2', 'trial.sent.rus.1447': 'trial.sketch.rus.12', 'trial.sent.rus.1448': 'trial.sketch.rus.14', 'trial.sent.rus.1449': 'trial.sketch.rus.12', 'trial.sent.rus.1450': 'trial.sketch.rus.17', 'trial.sent.rus.1451': 'trial.sketch.rus.0', 'trial.sent.rus.1452': 'trial.sketch.rus.7', 'trial.sent.rus.1453': 'trial.sketch.rus.14', 'trial.sent.rus.1454': 'trial.sketch.rus.17', 'trial.sent.rus.1455': 'trial.sketch.rus.8', 'trial.sent.rus.1456': 'trial.sketch.rus.12', 'trial.sent.rus.1457': 'trial.sketch.rus.1', 'trial.sent.rus.1458': 'trial.sketch.rus.19', 'trial.sent.rus.1459': 'trial.sketch.rus.16', 'trial.sent.rus.1460': 'trial.sketch.rus.14', 'trial.sent.rus.1461': 'trial.sketch.rus.6', 'trial.sent.rus.1462': 'trial.sketch.rus.14', 'trial.sent.rus.1463': 'trial.sketch.rus.9', 'trial.sent.rus.1464': 'trial.sketch.rus.17', 'trial.sent.rus.1465': 'trial.sketch.rus.11', 'trial.sent.rus.1466': 'trial.sketch.rus.17', 'trial.sent.rus.1467': 'trial.sketch.rus.9', 'trial.sent.rus.1468': 'trial.sketch.rus.5', 'trial.sent.rus.1469': 'trial.sketch.rus.0', 'trial.sent.rus.1470': 'trial.sketch.rus.3', 'trial.sent.rus.1471': 'trial.sketch.rus.3', 'trial.sent.rus.1472': 'trial.sketch.rus.1', 'trial.sent.rus.1473': 'trial.sketch.rus.8', 'trial.sent.rus.1474': 'trial.sketch.rus.5', 'trial.sent.rus.1475': 'trial.sketch.rus.9', 'trial.sent.rus.1476': 'trial.sketch.rus.1', 'trial.sent.rus.1477': 'trial.sketch.rus.3', 'trial.sent.rus.1478': 'trial.sketch.rus.8', 'trial.sent.rus.1479': 'trial.sketch.rus.2', 'trial.sent.rus.1480': 'trial.sketch.rus.18', 'trial.sent.rus.1481': 'trial.sketch.rus.4', 'trial.sent.rus.1482': 'trial.sketch.rus.18', 'trial.sent.rus.1483': 'trial.sketch.rus.1', 'trial.sent.rus.1484': 'trial.sketch.rus.11', 'trial.sent.rus.1485': 'trial.sketch.rus.1', 'trial.sent.rus.1486': 'trial.sketch.rus.8', 'trial.sent.rus.1487': 'trial.sketch.rus.8', 'trial.sent.rus.1488': 'trial.sketch.rus.16', 'trial.sent.rus.1489': 'trial.sketch.rus.9', 'trial.sent.rus.1490': 'trial.sketch.rus.10', 'trial.sent.rus.1491': 'trial.sketch.rus.10', 'trial.sent.rus.1492': 'trial.sketch.rus.13', 'trial.sent.rus.1493': 'trial.sketch.rus.9', 'trial.sent.rus.1494': 'trial.sketch.rus.0', 'trial.sent.rus.1495': 'trial.sketch.rus.4', 'trial.sent.rus.1496': 'trial.sketch.rus.4', 'trial.sent.rus.1497': 'trial.sketch.rus.16', 'trial.sent.rus.1498': 'trial.sketch.rus.19', 'trial.sent.rus.1499': 'trial.sketch.rus.5', 'trial.sent.rus.1500': 'trial.sketch.rus.4', 'trial.sent.rus.1501': 'trial.sketch.rus.4', 'trial.sent.rus.1502': 'trial.sketch.rus.18', 'trial.sent.rus.1503': 'trial.sketch.rus.17', 'trial.sent.rus.1504': 'trial.sketch.rus.16', 'trial.sent.rus.1505': 'trial.sketch.rus.5', 'trial.sent.rus.1506': 'trial.sketch.rus.6', 'trial.sent.rus.1507': 'trial.sketch.rus.17', 'trial.sent.rus.1508': 'trial.sketch.rus.1', 'trial.sent.rus.1509': 'trial.sketch.rus.7', 'trial.sent.rus.1510': 'trial.sketch.rus.14', 'trial.sent.rus.1511': 'trial.sketch.rus.19', 'trial.sent.rus.1512': 'trial.sketch.rus.17', 'trial.sent.rus.1513': 'trial.sketch.rus.16', 'trial.sent.rus.1514': 'trial.sketch.rus.17', 'trial.sent.rus.1515': 'trial.sketch.rus.18', 'trial.sent.rus.1516': 'trial.sketch.rus.4', 'trial.sent.rus.1517': 'trial.sketch.rus.15', 'trial.sent.rus.1518': 'trial.sketch.rus.9', 'trial.sent.rus.1519': 'trial.sketch.rus.11', 'trial.sent.rus.1520': 'trial.sketch.rus.1', 'trial.sent.rus.1521': 'trial.sketch.rus.17', 'trial.sent.rus.1522': 'trial.sketch.rus.0', 'trial.sent.rus.1523': 'trial.sketch.rus.7', 'trial.sent.rus.1524': 'trial.sketch.rus.18', 'trial.sent.rus.1525': 'trial.sketch.rus.7', 'trial.sent.rus.1526': 'trial.sketch.rus.6', 'trial.sent.rus.1527': 'trial.sketch.rus.15', 'trial.sent.rus.1528': 'trial.sketch.rus.0', 'trial.sent.rus.1529': 'trial.sketch.rus.17', 'trial.sent.rus.1530': 'trial.sketch.rus.10', 'trial.sent.rus.1531': 'trial.sketch.rus.1', 'trial.sent.rus.1532': 'trial.sketch.rus.10', 'trial.sent.rus.1533': 'trial.sketch.rus.11', 'trial.sent.rus.1534': 'trial.sketch.rus.14', 'trial.sent.rus.1535': 'trial.sketch.rus.11', 'trial.sent.rus.1536': 'trial.sketch.rus.9', 'trial.sent.rus.1537': 'trial.sketch.rus.3', 'trial.sent.rus.1538': 'trial.sketch.rus.18', 'trial.sent.rus.1539': 'trial.sketch.rus.17', 'trial.sent.rus.1540': 'trial.sketch.rus.15', 'trial.sent.rus.1541': 'trial.sketch.rus.18', 'trial.sent.rus.1542': 'trial.sketch.rus.15', 'trial.sent.rus.1543': 'trial.sketch.rus.1', 'trial.sent.rus.1544': 'trial.sketch.rus.4', 'trial.sent.rus.1545': 'trial.sketch.rus.16', 'trial.sent.rus.1546': 'trial.sketch.rus.14', 'trial.sent.rus.1547': 'trial.sketch.rus.10', 'trial.sent.rus.1548': 'trial.sketch.rus.0', 'trial.sent.rus.1549': 'trial.sketch.rus.8', 'trial.sent.rus.1550': 'trial.sketch.rus.18', 'trial.sent.rus.1551': 'trial.sketch.rus.4', 'trial.sent.rus.1552': 'trial.sketch.rus.4', 'trial.sent.rus.1553': 'trial.sketch.rus.2', 'trial.sent.rus.1554': 'trial.sketch.rus.8', 'trial.sent.rus.1555': 'trial.sketch.rus.19', 'trial.sent.rus.1556': 'trial.sketch.rus.4', 'trial.sent.rus.1557': 'trial.sketch.rus.11', 'trial.sent.rus.1558': 'trial.sketch.rus.12', 'trial.sent.rus.1559': 'trial.sketch.rus.0', 'trial.sent.rus.1560': 'trial.sketch.rus.3', 'trial.sent.rus.1561': 'trial.sketch.rus.14', 'trial.sent.rus.1562': 'trial.sketch.rus.19', 'trial.sent.rus.1563': 'trial.sketch.rus.15', 'trial.sent.rus.1564': 'trial.sketch.rus.9', 'trial.sent.rus.1565': 'trial.sketch.rus.10', 'trial.sent.rus.1566': 'trial.sketch.rus.17', 'trial.sent.rus.1567': 'trial.sketch.rus.11', 'trial.sent.rus.1568': 'trial.sketch.rus.2', 'trial.sent.rus.1569': 'trial.sketch.rus.19', 'trial.sent.rus.1570': 'trial.sketch.rus.14', 'trial.sent.rus.1571': 'trial.sketch.rus.6', 'trial.sent.rus.1572': 'trial.sketch.rus.9', 'trial.sent.rus.1573': 'trial.sketch.rus.13', 'trial.sent.rus.1574': 'trial.sketch.rus.7', 'trial.sent.rus.1575': 'trial.sketch.rus.14', 'trial.sent.rus.1576': 'trial.sketch.rus.1', 'trial.sent.rus.1577': 'trial.sketch.rus.9', 'trial.sent.rus.1578': 'trial.sketch.rus.2', 'trial.sent.rus.1579': 'trial.sketch.rus.18', 'trial.sent.rus.1580': 'trial.sketch.rus.13', 'trial.sent.rus.1581': 'trial.sketch.rus.19', 'trial.sent.rus.1582': 'trial.sketch.rus.4', 'trial.sent.rus.1583': 'trial.sketch.rus.19', 'trial.sent.rus.1584': 'trial.sketch.rus.1', 'trial.sent.rus.1585': 'trial.sketch.rus.9', 'trial.sent.rus.1586': 'trial.sketch.rus.10', 'trial.sent.rus.1587': 'trial.sketch.rus.10', 'trial.sent.rus.1588': 'trial.sketch.rus.7', 'trial.sent.rus.1589': 'trial.sketch.rus.13', 'trial.sent.rus.1590': 'trial.sketch.rus.5', 'trial.sent.rus.1591': 'trial.sketch.rus.12', 'trial.sent.rus.1592': 'trial.sketch.rus.13', 'trial.sent.rus.1593': 'trial.sketch.rus.16', 'trial.sent.rus.1594': 'trial.sketch.rus.5', 'trial.sent.rus.1595': 'trial.sketch.rus.7', 'trial.sent.rus.1596': 'trial.sketch.rus.19', 'trial.sent.rus.1597': 'trial.sketch.rus.12', 'trial.sent.rus.1598': 'trial.sketch.rus.6', 'trial.sent.rus.1599': 'trial.sketch.rus.4', 'trial.sent.rus.1600': 'trial.sketch.rus.12', 'trial.sent.rus.1601': 'trial.sketch.rus.13', 'trial.sent.rus.1602': 'trial.sketch.rus.1', 'trial.sent.rus.1603': 'trial.sketch.rus.13', 'trial.sent.rus.1604': 'trial.sketch.rus.16', 'trial.sent.rus.1605': 'trial.sketch.rus.2', 'trial.sent.rus.1606': 'trial.sketch.rus.15', 'trial.sent.rus.1607': 'trial.sketch.rus.5', 'trial.sent.rus.1608': 'trial.sketch.rus.19', 'trial.sent.rus.1609': 'trial.sketch.rus.5', 'trial.sent.rus.1610': 'trial.sketch.rus.11', 'trial.sent.rus.1611': 'trial.sketch.rus.16', 'trial.sent.rus.1612': 'trial.sketch.rus.7', 'trial.sent.rus.1613': 'trial.sketch.rus.2', 'trial.sent.rus.1614': 'trial.sketch.rus.8', 'trial.sent.rus.1615': 'trial.sketch.rus.19', 'trial.sent.rus.1616': 'trial.sketch.rus.8', 'trial.sent.rus.1617': 'trial.sketch.rus.19', 'trial.sent.rus.1618': 'trial.sketch.rus.15', 'trial.sent.rus.1619': 'trial.sketch.rus.2', 'trial.sent.rus.1620': 'trial.sketch.rus.5', 'trial.sent.rus.1621': 'trial.sketch.rus.13', 'trial.sent.rus.1622': 'trial.sketch.rus.6', 'trial.sent.rus.1623': 'trial.sketch.rus.10', 'trial.sent.rus.1624': 'trial.sketch.rus.9', 'trial.sent.rus.1625': 'trial.sketch.rus.19', 'trial.sent.rus.1626': 'trial.sketch.rus.6', 'trial.sent.rus.1627': 'trial.sketch.rus.9', 'trial.sent.rus.1628': 'trial.sketch.rus.8', 'trial.sent.rus.1629': 'trial.sketch.rus.18', 'trial.sent.rus.1630': 'trial.sketch.rus.16', 'trial.sent.rus.1631': 'trial.sketch.rus.8', 'trial.sent.rus.1632': 'trial.sketch.rus.11', 'trial.sent.rus.1633': 'trial.sketch.rus.12', 'trial.sent.rus.1634': 'trial.sketch.rus.15', 'trial.sent.rus.1635': 'trial.sketch.rus.11', 'trial.sent.rus.1636': 'trial.sketch.rus.1', 'trial.sent.rus.1637': 'trial.sketch.rus.0', 'trial.sent.rus.1638': 'trial.sketch.rus.8', 'trial.sent.rus.1639': 'trial.sketch.rus.5', 'trial.sent.rus.1640': 'trial.sketch.rus.18', 'trial.sent.rus.1641': 'trial.sketch.rus.6', 'trial.sent.rus.1642': 'trial.sketch.rus.1', 'trial.sent.rus.1643': 'trial.sketch.rus.16', 'trial.sent.rus.1644': 'trial.sketch.rus.1', 'trial.sent.rus.1645': 'trial.sketch.rus.7', 'trial.sent.rus.1646': 'trial.sketch.rus.8', 'trial.sent.rus.1647': 'trial.sketch.rus.6', 'trial.sent.rus.1648': 'trial.sketch.rus.9', 'trial.sent.rus.1649': 'trial.sketch.rus.11', 'trial.sent.rus.1650': 'trial.sketch.rus.17', 'trial.sent.rus.1651': 'trial.sketch.rus.5', 'trial.sent.rus.1652': 'trial.sketch.rus.17', 'trial.sent.rus.1653': 'trial.sketch.rus.9', 'trial.sent.rus.1654': 'trial.sketch.rus.6', 'trial.sent.rus.1655': 'trial.sketch.rus.9', 'trial.sent.rus.1656': 'trial.sketch.rus.14', 'trial.sent.rus.1657': 'trial.sketch.rus.14', 'trial.sent.rus.1658': 'trial.sketch.rus.3', 'trial.sent.rus.1659': 'trial.sketch.rus.9', 'trial.sent.rus.1660': 'trial.sketch.rus.0', 'trial.sent.rus.1661': 'trial.sketch.rus.14', 'trial.sent.rus.1662': 'trial.sketch.rus.11', 'trial.sent.rus.1663': 'trial.sketch.rus.14', 'trial.sent.rus.1664': 'trial.sketch.rus.5', 'trial.sent.rus.1665': 'trial.sketch.rus.3', 'trial.sent.rus.1666': 'trial.sketch.rus.2', 'trial.sent.rus.1667': 'trial.sketch.rus.19', 'trial.sent.rus.1668': 'trial.sketch.rus.3', 'trial.sent.rus.1669': 'trial.sketch.rus.8', 'trial.sent.rus.1670': 'trial.sketch.rus.6', 'trial.sent.rus.1671': 'trial.sketch.rus.17', 'trial.sent.rus.1672': 'trial.sketch.rus.10', 'trial.sent.rus.1673': 'trial.sketch.rus.13', 'trial.sent.rus.1674': 'trial.sketch.rus.1', 'trial.sent.rus.1675': 'trial.sketch.rus.17', 'trial.sent.rus.1676': 'trial.sketch.rus.5', 'trial.sent.rus.1677': 'trial.sketch.rus.11', 'trial.sent.rus.1678': 'trial.sketch.rus.10', 'trial.sent.rus.1679': 'trial.sketch.rus.15', 'trial.sent.rus.1680': 'trial.sketch.rus.2', 'trial.sent.rus.1681': 'trial.sketch.rus.19', 'trial.sent.rus.1682': 'trial.sketch.rus.4', 'trial.sent.rus.1683': 'trial.sketch.rus.13', 'trial.sent.rus.1684': 'trial.sketch.rus.15', 'trial.sent.rus.1685': 'trial.sketch.rus.12', 'trial.sent.rus.1686': 'trial.sketch.rus.9', 'trial.sent.rus.1687': 'trial.sketch.rus.5', 'trial.sent.rus.1688': 'trial.sketch.rus.1', 'trial.sent.rus.1689': 'trial.sketch.rus.8', 'trial.sent.rus.1690': 'trial.sketch.rus.16', 'trial.sent.rus.1691': 'trial.sketch.rus.1', 'trial.sent.rus.1692': 'trial.sketch.rus.7', 'trial.sent.rus.1693': 'trial.sketch.rus.1', 'trial.sent.rus.1694': 'trial.sketch.rus.7', 'trial.sent.rus.1695': 'trial.sketch.rus.12', 'trial.sent.rus.1696': 'trial.sketch.rus.18', 'trial.sent.rus.1697': 'trial.sketch.rus.15', 'trial.sent.rus.1698': 'trial.sketch.rus.3', 'trial.sent.rus.1699': 'trial.sketch.rus.7', 'trial.sent.rus.1700': 'trial.sketch.rus.6', 'trial.sent.rus.1701': 'trial.sketch.rus.15', 'trial.sent.rus.1702': 'trial.sketch.rus.9', 'trial.sent.rus.1703': 'trial.sketch.rus.15', 'trial.sent.rus.1704': 'trial.sketch.rus.9', 'trial.sent.rus.1705': 'trial.sketch.rus.7', 'trial.sent.rus.1706': 'trial.sketch.rus.17', 'trial.sent.rus.1707': 'trial.sketch.rus.19', 'trial.sent.rus.1708': 'trial.sketch.rus.4', 'trial.sent.rus.1709': 'trial.sketch.rus.1', 'trial.sent.rus.1710': 'trial.sketch.rus.5', 'trial.sent.rus.1711': 'trial.sketch.rus.11', 'trial.sent.rus.1712': 'trial.sketch.rus.9', 'trial.sent.rus.1713': 'trial.sketch.rus.17', 'trial.sent.rus.1714': 'trial.sketch.rus.10', 'trial.sent.rus.1715': 'trial.sketch.rus.6', 'trial.sent.rus.1716': 'trial.sketch.rus.17', 'trial.sent.rus.1717': 'trial.sketch.rus.13', 'trial.sent.rus.1718': 'trial.sketch.rus.6', 'trial.sent.rus.1719': 'trial.sketch.rus.2', 'trial.sent.rus.1720': 'trial.sketch.rus.10', 'trial.sent.rus.1721': 'trial.sketch.rus.7', 'trial.sent.rus.1722': 'trial.sketch.rus.17', 'trial.sent.rus.1723': 'trial.sketch.rus.19', 'trial.sent.rus.1724': 'trial.sketch.rus.6', 'trial.sent.rus.1725': 'trial.sketch.rus.5', 'trial.sent.rus.1726': 'trial.sketch.rus.18', 'trial.sent.rus.1727': 'trial.sketch.rus.4', 'trial.sent.rus.1728': 'trial.sketch.rus.18', 'trial.sent.rus.1729': 'trial.sketch.rus.11', 'trial.sent.rus.1730': 'trial.sketch.rus.19', 'trial.sent.rus.1731': 'trial.sketch.rus.12', 'trial.sent.rus.1732': 'trial.sketch.rus.10', 'trial.sent.rus.1733': 'trial.sketch.rus.14', 'trial.sent.rus.1734': 'trial.sketch.rus.9', 'trial.sent.rus.1735': 'trial.sketch.rus.13', 'trial.sent.rus.1736': 'trial.sketch.rus.6', 'trial.sent.rus.1737': 'trial.sketch.rus.12', 'trial.sent.rus.1738': 'trial.sketch.rus.11', 'trial.sent.rus.1739': 'trial.sketch.rus.13', 'trial.sent.rus.1740': 'trial.sketch.rus.0', 'trial.sent.rus.1741': 'trial.sketch.rus.4', 'trial.sent.rus.1742': 'trial.sketch.rus.15', 'trial.sent.rus.1743': 'trial.sketch.rus.10', 'trial.sent.rus.1744': 'trial.sketch.rus.14', 'trial.sent.rus.1745': 'trial.sketch.rus.4', 'trial.sent.rus.1746': 'trial.sketch.rus.4', 'trial.sent.rus.1747': 'trial.sketch.rus.19', 'trial.sent.rus.1748': 'trial.sketch.rus.14', 'trial.sent.rus.1749': 'trial.sketch.rus.8', 'trial.sent.rus.1750': 'trial.sketch.rus.6', 'trial.sent.rus.1751': 'trial.sketch.rus.16', 'trial.sent.rus.1752': 'trial.sketch.rus.18', 'trial.sent.rus.1753': 'trial.sketch.rus.16', 'trial.sent.rus.1754': 'trial.sketch.rus.7', 'trial.sent.rus.1755': 'trial.sketch.rus.4', 'trial.sent.rus.1756': 'trial.sketch.rus.10', 'trial.sent.rus.1757': 'trial.sketch.rus.7', 'trial.sent.rus.1758': 'trial.sketch.rus.16', 'trial.sent.rus.1759': 'trial.sketch.rus.18', 'trial.sent.rus.1760': 'trial.sketch.rus.8', 'trial.sent.rus.1761': 'trial.sketch.rus.3', 'trial.sent.rus.1762': 'trial.sketch.rus.10', 'trial.sent.rus.1763': 'trial.sketch.rus.0', 'trial.sent.rus.1764': 'trial.sketch.rus.16', 'trial.sent.rus.1765': 'trial.sketch.rus.17', 'trial.sent.rus.1766': 'trial.sketch.rus.0', 'trial.sent.rus.1767': 'trial.sketch.rus.12', 'trial.sent.rus.1768': 'trial.sketch.rus.15', 'trial.sent.rus.1769': 'trial.sketch.rus.1', 'trial.sent.rus.1770': 'trial.sketch.rus.19', 'trial.sent.rus.1771': 'trial.sketch.rus.3', 'trial.sent.rus.1772': 'trial.sketch.rus.14', 'trial.sent.rus.1773': 'trial.sketch.rus.10', 'trial.sent.rus.1774': 'trial.sketch.rus.17', 'trial.sent.rus.1775': 'trial.sketch.rus.16', 'trial.sent.rus.1776': 'trial.sketch.rus.3', 'trial.sent.rus.1777': 'trial.sketch.rus.4', 'trial.sent.rus.1778': 'trial.sketch.rus.18', 'trial.sent.rus.1779': 'trial.sketch.rus.11', 'trial.sent.rus.1780': 'trial.sketch.rus.11', 'trial.sent.rus.1781': 'trial.sketch.rus.10', 'trial.sent.rus.1782': 'trial.sketch.rus.9', 'trial.sent.rus.1783': 'trial.sketch.rus.10', 'trial.sent.rus.1784': 'trial.sketch.rus.5', 'trial.sent.rus.1785': 'trial.sketch.rus.9', 'trial.sent.rus.1786': 'trial.sketch.rus.8', 'trial.sent.rus.1787': 'trial.sketch.rus.17', 'trial.sent.rus.1788': 'trial.sketch.rus.15', 'trial.sent.rus.1789': 'trial.sketch.rus.3', 'trial.sent.rus.1790': 'trial.sketch.rus.7', 'trial.sent.rus.1791': 'trial.sketch.rus.0', 'trial.sent.rus.1792': 'trial.sketch.rus.15', 'trial.sent.rus.1793': 'trial.sketch.rus.1', 'trial.sent.rus.1794': 'trial.sketch.rus.18', 'trial.sent.rus.1795': 'trial.sketch.rus.2', 'trial.sent.rus.1796': 'trial.sketch.rus.2', 'trial.sent.rus.1797': 'trial.sketch.rus.6', 'trial.sent.rus.1798': 'trial.sketch.rus.17', 'trial.sent.rus.1799': 'trial.sketch.rus.14', 'trial.sent.rus.1800': 'trial.sketch.rus.0', 'trial.sent.rus.1801': 'trial.sketch.rus.13', 'trial.sent.rus.1802': 'trial.sketch.rus.1', 'trial.sent.rus.1803': 'trial.sketch.rus.7', 'trial.sent.rus.1804': 'trial.sketch.rus.13', 'trial.sent.rus.1805': 'trial.sketch.rus.8', 'trial.sent.rus.1806': 'trial.sketch.rus.1', 'trial.sent.rus.1807': 'trial.sketch.rus.17', 'trial.sent.rus.1808': 'trial.sketch.rus.15', 'trial.sent.rus.1809': 'trial.sketch.rus.13', 'trial.sent.rus.1810': 'trial.sketch.rus.11', 'trial.sent.rus.1811': 'trial.sketch.rus.16', 'trial.sent.rus.1812': 'trial.sketch.rus.15', 'trial.sent.rus.1813': 'trial.sketch.rus.12', 'trial.sent.rus.1814': 'trial.sketch.rus.0', 'trial.sent.rus.1815': 'trial.sketch.rus.10', 'trial.sent.rus.1816': 'trial.sketch.rus.3', 'trial.sent.rus.1817': 'trial.sketch.rus.14', 'trial.sent.rus.1818': 'trial.sketch.rus.13', 'trial.sent.rus.1819': 'trial.sketch.rus.2', 'trial.sent.rus.1820': 'trial.sketch.rus.17', 'trial.sent.rus.1821': 'trial.sketch.rus.19', 'trial.sent.rus.1822': 'trial.sketch.rus.8', 'trial.sent.rus.1823': 'trial.sketch.rus.14', 'trial.sent.rus.1824': 'trial.sketch.rus.16', 'trial.sent.rus.1825': 'trial.sketch.rus.18', 'trial.sent.rus.1826': 'trial.sketch.rus.4', 'trial.sent.rus.1827': 'trial.sketch.rus.0', 'trial.sent.rus.1828': 'trial.sketch.rus.6', 'trial.sent.rus.1829': 'trial.sketch.rus.2', 'trial.sent.rus.1830': 'trial.sketch.rus.0', 'trial.sent.rus.1831': 'trial.sketch.rus.1', 'trial.sent.rus.1832': 'trial.sketch.rus.16', 'trial.sent.rus.1833': 'trial.sketch.rus.19', 'trial.sent.rus.1834': 'trial.sketch.rus.19', 'trial.sent.rus.1835': 'trial.sketch.rus.9', 'trial.sent.rus.1836': 'trial.sketch.rus.7', 'trial.sent.rus.1837': 'trial.sketch.rus.6', 'trial.sent.rus.1838': 'trial.sketch.rus.11', 'trial.sent.rus.1839': 'trial.sketch.rus.15', 'trial.sent.rus.1840': 'trial.sketch.rus.12', 'trial.sent.rus.1841': 'trial.sketch.rus.13', 'trial.sent.rus.1842': 'trial.sketch.rus.19', 'trial.sent.rus.1843': 'trial.sketch.rus.17', 'trial.sent.rus.1844': 'trial.sketch.rus.1', 'trial.sent.rus.1845': 'trial.sketch.rus.14', 'trial.sent.rus.1846': 'trial.sketch.rus.12', 'trial.sent.rus.1847': 'trial.sketch.rus.0', 'trial.sent.rus.1848': 'trial.sketch.rus.0', 'trial.sent.rus.1849': 'trial.sketch.rus.17', 'trial.sent.rus.1850': 'trial.sketch.rus.2', 'trial.sent.rus.1851': 'trial.sketch.rus.15', 'trial.sent.rus.1852': 'trial.sketch.rus.4', 'trial.sent.rus.1853': 'trial.sketch.rus.9', 'trial.sent.rus.1854': 'trial.sketch.rus.17', 'trial.sent.rus.1855': 'trial.sketch.rus.9', 'trial.sent.rus.1856': 'trial.sketch.rus.0', 'trial.sent.rus.1857': 'trial.sketch.rus.11', 'trial.sent.rus.1858': 'trial.sketch.rus.6', 'trial.sent.rus.1859': 'trial.sketch.rus.5', 'trial.sent.rus.1860': 'trial.sketch.rus.2', 'trial.sent.rus.1861': 'trial.sketch.rus.4', 'trial.sent.rus.1862': 'trial.sketch.rus.19', 'trial.sent.rus.1863': 'trial.sketch.rus.8', 'trial.sent.rus.1864': 'trial.sketch.rus.7', 'trial.sent.rus.1865': 'trial.sketch.rus.16', 'trial.sent.rus.1866': 'trial.sketch.rus.9', 'trial.sent.rus.1867': 'trial.sketch.rus.10', 'trial.sent.rus.1868': 'trial.sketch.rus.12', 'trial.sent.rus.1869': 'trial.sketch.rus.11', 'trial.sent.rus.1870': 'trial.sketch.rus.4', 'trial.sent.rus.1871': 'trial.sketch.rus.10', 'trial.sent.rus.1872': 'trial.sketch.rus.2', 'trial.sent.rus.1873': 'trial.sketch.rus.5', 'trial.sent.rus.1874': 'trial.sketch.rus.1', 'trial.sent.rus.1875': 'trial.sketch.rus.7', 'trial.sent.rus.1876': 'trial.sketch.rus.2', 'trial.sent.rus.1877': 'trial.sketch.rus.12', 'trial.sent.rus.1878': 'trial.sketch.rus.10', 'trial.sent.rus.1879': 'trial.sketch.rus.8', 'trial.sent.rus.1880': 'trial.sketch.rus.11', 'trial.sent.rus.1881': 'trial.sketch.rus.16', 'trial.sent.rus.1882': 'trial.sketch.rus.5', 'trial.sent.rus.1883': 'trial.sketch.rus.2', 'trial.sent.rus.1884': 'trial.sketch.rus.9', 'trial.sent.rus.1885': 'trial.sketch.rus.18', 'trial.sent.rus.1886': 'trial.sketch.rus.4', 'trial.sent.rus.1887': 'trial.sketch.rus.9', 'trial.sent.rus.1888': 'trial.sketch.rus.12', 'trial.sent.rus.1889': 'trial.sketch.rus.7', 'trial.sent.rus.1890': 'trial.sketch.rus.6', 'trial.sent.rus.1891': 'trial.sketch.rus.19', 'trial.sent.rus.1892': 'trial.sketch.rus.1', 'trial.sent.rus.1893': 'trial.sketch.rus.11', 'trial.sent.rus.1894': 'trial.sketch.rus.0', 'trial.sent.rus.1895': 'trial.sketch.rus.4', 'trial.sent.rus.1896': 'trial.sketch.rus.18', 'trial.sent.rus.1897': 'trial.sketch.rus.10', 'trial.sent.rus.1898': 'trial.sketch.rus.18', 'trial.sent.rus.1899': 'trial.sketch.rus.2', 'trial.sent.rus.1900': 'trial.sketch.rus.9', 'trial.sent.rus.1901': 'trial.sketch.rus.3', 'trial.sent.rus.1902': 'trial.sketch.rus.12', 'trial.sent.rus.1903': 'trial.sketch.rus.0', 'trial.sent.rus.1904': 'trial.sketch.rus.4', 'trial.sent.rus.1905': 'trial.sketch.rus.19', 'trial.sent.rus.1906': 'trial.sketch.rus.11', 'trial.sent.rus.1907': 'trial.sketch.rus.3', 'trial.sent.rus.1908': 'trial.sketch.rus.13', 'trial.sent.rus.1909': 'trial.sketch.rus.10', 'trial.sent.rus.1910': 'trial.sketch.rus.18', 'trial.sent.rus.1911': 'trial.sketch.rus.19', 'trial.sent.rus.1912': 'trial.sketch.rus.2', 'trial.sent.rus.1913': 'trial.sketch.rus.15', 'trial.sent.rus.1914': 'trial.sketch.rus.6', 'trial.sent.rus.1915': 'trial.sketch.rus.14', 'trial.sent.rus.1916': 'trial.sketch.rus.0', 'trial.sent.rus.1917': 'trial.sketch.rus.19', 'trial.sent.rus.1918': 'trial.sketch.rus.13', 'trial.sent.rus.1919': 'trial.sketch.rus.10', 'trial.sent.rus.1920': 'trial.sketch.rus.5', 'trial.sent.rus.1921': 'trial.sketch.rus.17', 'trial.sent.rus.1922': 'trial.sketch.rus.14', 'trial.sent.rus.1923': 'trial.sketch.rus.12', 'trial.sent.rus.1924': 'trial.sketch.rus.5', 'trial.sent.rus.1925': 'trial.sketch.rus.18', 'trial.sent.rus.1926': 'trial.sketch.rus.14', 'trial.sent.rus.1927': 'trial.sketch.rus.11', 'trial.sent.rus.1928': 'trial.sketch.rus.17', 'trial.sent.rus.1929': 'trial.sketch.rus.1', 'trial.sent.rus.1930': 'trial.sketch.rus.1', 'trial.sent.rus.1931': 'trial.sketch.rus.13', 'trial.sent.rus.1932': 'trial.sketch.rus.3', 'trial.sent.rus.1933': 'trial.sketch.rus.0', 'trial.sent.rus.1934': 'trial.sketch.rus.13', 'trial.sent.rus.1935': 'trial.sketch.rus.5', 'trial.sent.rus.1936': 'trial.sketch.rus.4', 'trial.sent.rus.1937': 'trial.sketch.rus.17', 'trial.sent.rus.1938': 'trial.sketch.rus.10', 'trial.sent.rus.1939': 'trial.sketch.rus.14', 'trial.sent.rus.1940': 'trial.sketch.rus.2', 'trial.sent.rus.1941': 'trial.sketch.rus.18', 'trial.sent.rus.1942': 'trial.sketch.rus.19', 'trial.sent.rus.1943': 'trial.sketch.rus.14', 'trial.sent.rus.1944': 'trial.sketch.rus.17', 'trial.sent.rus.1945': 'trial.sketch.rus.18', 'trial.sent.rus.1946': 'trial.sketch.rus.6', 'trial.sent.rus.1947': 'trial.sketch.rus.8', 'trial.sent.rus.1948': 'trial.sketch.rus.8', 'trial.sent.rus.1949': 'trial.sketch.rus.17', 'trial.sent.rus.1950': 'trial.sketch.rus.18', 'trial.sent.rus.1951': 'trial.sketch.rus.17', 'trial.sent.rus.1952': 'trial.sketch.rus.4', 'trial.sent.rus.1953': 'trial.sketch.rus.2', 'trial.sent.rus.1954': 'trial.sketch.rus.19', 'trial.sent.rus.1955': 'trial.sketch.rus.12', 'trial.sent.rus.1956': 'trial.sketch.rus.1', 'trial.sent.rus.1957': 'trial.sketch.rus.19', 'trial.sent.rus.1958': 'trial.sketch.rus.16', 'trial.sent.rus.1959': 'trial.sketch.rus.1', 'trial.sent.rus.1960': 'trial.sketch.rus.16', 'trial.sent.rus.1961': 'trial.sketch.rus.16', 'trial.sent.rus.1962': 'trial.sketch.rus.19', 'trial.sent.rus.1963': 'trial.sketch.rus.13', 'trial.sent.rus.1964': 'trial.sketch.rus.1', 'trial.sent.rus.1965': 'trial.sketch.rus.7', 'trial.sent.rus.1966': 'trial.sketch.rus.1', 'trial.sent.rus.1967': 'trial.sketch.rus.2', 'trial.sent.rus.1968': 'trial.sketch.rus.10', 'trial.sent.rus.1969': 'trial.sketch.rus.3', 'trial.sent.rus.1970': 'trial.sketch.rus.11', 'trial.sent.rus.1971': 'trial.sketch.rus.18', 'trial.sent.rus.1972': 'trial.sketch.rus.10', 'trial.sent.rus.1973': 'trial.sketch.rus.13', 'trial.sent.rus.1974': 'trial.sketch.rus.7', 'trial.sent.rus.1975': 'trial.sketch.rus.18', 'trial.sent.rus.1976': 'trial.sketch.rus.16', 'trial.sent.rus.1977': 'trial.sketch.rus.5', 'trial.sent.rus.1978': 'trial.sketch.rus.15', 'trial.sent.rus.1979': 'trial.sketch.rus.12', 'trial.sent.rus.1980': 'trial.sketch.rus.4', 'trial.sent.rus.1981': 'trial.sketch.rus.1', 'trial.sent.rus.1982': 'trial.sketch.rus.3', 'trial.sent.rus.1983': 'trial.sketch.rus.11', 'trial.sent.rus.1984': 'trial.sketch.rus.2', 'trial.sent.rus.1985': 'trial.sketch.rus.18', 'trial.sent.rus.1986': 'trial.sketch.rus.12', 'trial.sent.rus.1987': 'trial.sketch.rus.0', 'trial.sent.rus.1988': 'trial.sketch.rus.7', 'trial.sent.rus.1989': 'trial.sketch.rus.8', 'trial.sent.rus.1990': 'trial.sketch.rus.6', 'trial.sent.rus.1991': 'trial.sketch.rus.2', 'trial.sent.rus.1992': 'trial.sketch.rus.18', 'trial.sent.rus.1993': 'trial.sketch.rus.13', 'trial.sent.rus.1994': 'trial.sketch.rus.12', 'trial.sent.rus.1995': 'trial.sketch.rus.7', 'trial.sent.rus.1996': 'trial.sketch.rus.0', 'trial.sent.rus.1997': 'trial.sketch.rus.14', 'trial.sent.rus.1998': 'trial.sketch.rus.10', 'trial.sent.rus.1999': 'trial.sketch.rus.8'}\n"
          ],
          "name": "stdout"
        }
      ]
    },
    {
      "cell_type": "markdown",
      "metadata": {
        "id": "SdrHifqAmW9H"
      },
      "source": [
        "# Реализация алгоритма"
      ]
    },
    {
      "cell_type": "code",
      "metadata": {
        "colab": {
          "base_uri": "https://localhost:8080/",
          "height": 233
        },
        "id": "xTF8WidMpp30",
        "outputId": "19bc8d4c-ca09-4ff7-a38d-9421e2bd5d80"
      },
      "source": [
        "sketches_dfs['trial.sketch.rus.0']"
      ],
      "execution_count": null,
      "outputs": [
        {
          "output_type": "execute_result",
          "data": {
            "text/html": [
              "<div>\n",
              "<style scoped>\n",
              "    .dataframe tbody tr th:only-of-type {\n",
              "        vertical-align: middle;\n",
              "    }\n",
              "\n",
              "    .dataframe tbody tr th {\n",
              "        vertical-align: top;\n",
              "    }\n",
              "\n",
              "    .dataframe thead th {\n",
              "        text-align: right;\n",
              "    }\n",
              "</style>\n",
              "<table border=\"1\" class=\"dataframe\">\n",
              "  <thead>\n",
              "    <tr style=\"text-align: right;\">\n",
              "      <th></th>\n",
              "      <th>Sphere_Special</th>\n",
              "      <th>Time</th>\n",
              "      <th>Agent</th>\n",
              "      <th>Locative</th>\n",
              "      <th>ContrAgent</th>\n",
              "      <th>Ch_Evaluation</th>\n",
              "    </tr>\n",
              "  </thead>\n",
              "  <tbody>\n",
              "    <tr>\n",
              "      <th>0</th>\n",
              "      <td>в карты</td>\n",
              "      <td>в детстве</td>\n",
              "      <td>дети</td>\n",
              "      <td>на бирже</td>\n",
              "      <td>с детьми</td>\n",
              "      <td>классно</td>\n",
              "    </tr>\n",
              "    <tr>\n",
              "      <th>1</th>\n",
              "      <td>в шахматы</td>\n",
              "      <td>на большой перемене</td>\n",
              "      <td>мальчишки</td>\n",
              "      <td>во дворе</td>\n",
              "      <td>с мальчишками</td>\n",
              "      <td>неплохо</td>\n",
              "    </tr>\n",
              "    <tr>\n",
              "      <th>2</th>\n",
              "      <td>в футбол</td>\n",
              "      <td>по вечерам</td>\n",
              "      <td>пацаны</td>\n",
              "      <td>на бильярде</td>\n",
              "      <td>с читателем</td>\n",
              "      <td>недурно</td>\n",
              "    </tr>\n",
              "    <tr>\n",
              "      <th>3</th>\n",
              "      <td>в азартные игры</td>\n",
              "      <td>каждый день</td>\n",
              "      <td>игроки внизу</td>\n",
              "      <td>на компьютере</td>\n",
              "      <td>с собакой</td>\n",
              "      <td>превосходно</td>\n",
              "    </tr>\n",
              "    <tr>\n",
              "      <th>4</th>\n",
              "      <td>в игры</td>\n",
              "      <td>допоздна</td>\n",
              "      <td>ребята</td>\n",
              "      <td>на площадке</td>\n",
              "      <td>с сыном</td>\n",
              "      <td>прилично</td>\n",
              "    </tr>\n",
              "    <tr>\n",
              "      <th>5</th>\n",
              "      <td>в прятки</td>\n",
              "      <td>в молодости</td>\n",
              "      <td>команда</td>\n",
              "      <td>на чужом поле</td>\n",
              "      <td>с ребятами</td>\n",
              "      <td>замечательно</td>\n",
              "    </tr>\n",
              "  </tbody>\n",
              "</table>\n",
              "</div>"
            ],
            "text/plain": [
              "    Sphere_Special                 Time  ...     ContrAgent Ch_Evaluation\n",
              "0          в карты            в детстве  ...       с детьми       классно\n",
              "1        в шахматы  на большой перемене  ...  с мальчишками       неплохо\n",
              "2         в футбол           по вечерам  ...    с читателем       недурно\n",
              "3  в азартные игры          каждый день  ...      с собакой   превосходно\n",
              "4           в игры             допоздна  ...        с сыном      прилично\n",
              "5         в прятки          в молодости  ...     с ребятами  замечательно\n",
              "\n",
              "[6 rows x 6 columns]"
            ]
          },
          "metadata": {
            "tags": []
          },
          "execution_count": 8
        }
      ]
    },
    {
      "cell_type": "markdown",
      "metadata": {
        "id": "GdnqYam0uIdI"
      },
      "source": [
        "Получим список всех возможных ролей с примерами:"
      ]
    },
    {
      "cell_type": "code",
      "metadata": {
        "colab": {
          "base_uri": "https://localhost:8080/"
        },
        "id": "PAVOavxiuH1a",
        "outputId": "ba48a961-ac61-42db-fa4b-c47d6c4d94c8"
      },
      "source": [
        "roles = {}\n",
        "for sketch in sketches_dfs:\n",
        "    for role in list(sketches_dfs[sketch].columns):\n",
        "        if role not in roles:\n",
        "            roles[role] = sketches_dfs[sketch][role][0]\n",
        "roles"
      ],
      "execution_count": null,
      "outputs": [
        {
          "output_type": "execute_result",
          "data": {
            "text/plain": [
              "{'Agent': 'дети',\n",
              " 'Agent_Metaphoric': 'жизнь',\n",
              " 'Agent_Route': 'дорога',\n",
              " 'Cause_Actant': 'все пути',\n",
              " 'Ch_Emotion': 'сухо',\n",
              " 'Ch_Evaluation': 'классно',\n",
              " 'Ch_EvaluationOfHumanTemperAndActivity': 'скептически',\n",
              " 'Ch_PhysicalStateOfObject': 'аккуратно',\n",
              " 'Ch_PossibilitivityInPerceptionAndRealization': 'понятно',\n",
              " 'Concurrent_Situative': 'не задумываясь',\n",
              " 'ContrAgent': 'с детьми',\n",
              " 'Function': 'свидетелем',\n",
              " 'Instrument': 'на гитаре',\n",
              " 'Locative': 'на бирже',\n",
              " 'LocativeEvent_FinalPoint': 'на дуэль',\n",
              " 'Locative_Distance': 'ближе',\n",
              " 'Locative_FinalPoint': 'к людям',\n",
              " 'Locative_InitialPoint': 'из-за стола',\n",
              " 'Locative_Orientation_FinalPoint': 'прочь',\n",
              " 'Locative_Route': 'вдоль стены',\n",
              " 'MannerOfPositionAndMotion': 'на груди',\n",
              " 'Metaphoric_FinalPoint': 'в заглавие',\n",
              " 'Modality': 'вряд ли',\n",
              " 'Object': 'автор',\n",
              " 'Object_Situation': 'читать',\n",
              " 'Object_SituationLike': 'слухи',\n",
              " 'OrderInTimeAndSpace': 'потом',\n",
              " 'PartComplement_SituationLike': 'с уважением',\n",
              " 'Possessor': 'автор',\n",
              " 'Possessor_Metaphoric': 'к первой категории',\n",
              " 'Purpose_Goal': 'работать',\n",
              " 'Quantity': 'меньше',\n",
              " 'Relation_Correlative': 'человеком',\n",
              " 'Relation_Relative': 'человек',\n",
              " 'Resultative_Actant': 'пополам',\n",
              " 'Sphere_Special': 'в карты',\n",
              " 'State': 'легче',\n",
              " 'Stimulus': 'на вопрос',\n",
              " 'Time': 'в детстве',\n",
              " 'Time_AlreadyStill': 'по-прежнему'}"
            ]
          },
          "metadata": {
            "tags": []
          },
          "execution_count": 9
        }
      ]
    },
    {
      "cell_type": "markdown",
      "metadata": {
        "id": "ZngGPEATw-BK"
      },
      "source": [
        "Сгенерируем маски с контекстами для предсказаний"
      ]
    },
    {
      "cell_type": "code",
      "metadata": {
        "id": "b0vB2yC6mkE2"
      },
      "source": [
        "def generate_masked_contexts(sketch: str) -> List[List[str]]:\n",
        "    masked_contexts = []\n",
        "    for role in list(sketches_dfs[sketch].columns):\n",
        "        for word in list(sketches_dfs[sketch][role]):\n",
        "            if word != '':\n",
        "                masked_contexts.append('[MASK] ' + word)\n",
        "\n",
        "    return masked_contexts"
      ],
      "execution_count": null,
      "outputs": []
    },
    {
      "cell_type": "code",
      "metadata": {
        "id": "kEbUqGGLcS_D"
      },
      "source": [
        "contexts = []\n",
        "for sketch in sketches_dfs:\n",
        "    contexts.append(generate_masked_contexts(sketch))"
      ],
      "execution_count": null,
      "outputs": []
    },
    {
      "cell_type": "code",
      "metadata": {
        "colab": {
          "base_uri": "https://localhost:8080/"
        },
        "id": "I23ukFJ-cYTR",
        "outputId": "19d11c2c-7b93-4b4b-9021-2cd088832012"
      },
      "source": [
        "# пример максированных контекстов\n",
        "contexts[0]"
      ],
      "execution_count": null,
      "outputs": [
        {
          "output_type": "execute_result",
          "data": {
            "text/plain": [
              "['[MASK] в карты',\n",
              " '[MASK] в шахматы',\n",
              " '[MASK] в футбол',\n",
              " '[MASK] в азартные игры',\n",
              " '[MASK] в игры',\n",
              " '[MASK] в прятки',\n",
              " '[MASK] в детстве',\n",
              " '[MASK] на большой перемене',\n",
              " '[MASK] по вечерам',\n",
              " '[MASK] каждый день',\n",
              " '[MASK] допоздна',\n",
              " '[MASK] в молодости',\n",
              " '[MASK] дети',\n",
              " '[MASK] мальчишки',\n",
              " '[MASK] пацаны',\n",
              " '[MASK] игроки внизу',\n",
              " '[MASK] ребята',\n",
              " '[MASK] команда',\n",
              " '[MASK] на бирже',\n",
              " '[MASK] во дворе',\n",
              " '[MASK] на бильярде',\n",
              " '[MASK] на компьютере',\n",
              " '[MASK] на площадке',\n",
              " '[MASK] на чужом поле',\n",
              " '[MASK] с детьми',\n",
              " '[MASK] с мальчишками',\n",
              " '[MASK] с читателем',\n",
              " '[MASK] с собакой',\n",
              " '[MASK] с сыном',\n",
              " '[MASK] с ребятами',\n",
              " '[MASK] классно',\n",
              " '[MASK] неплохо',\n",
              " '[MASK] недурно',\n",
              " '[MASK] превосходно',\n",
              " '[MASK] прилично',\n",
              " '[MASK] замечательно']"
            ]
          },
          "metadata": {
            "tags": []
          },
          "execution_count": 12
        }
      ]
    },
    {
      "cell_type": "markdown",
      "metadata": {
        "id": "cPG0C6Nbjd0r"
      },
      "source": [
        "Подгружаем RuBERT для предсказаний"
      ]
    },
    {
      "cell_type": "code",
      "metadata": {
        "id": "-o0a0AWvcZQt"
      },
      "source": [
        "# set up torch `DEVICE` constant\n",
        "import torch\n",
        "DEVICE = torch.device('cuda' if torch.cuda.is_available() else 'cpu')"
      ],
      "execution_count": null,
      "outputs": []
    },
    {
      "cell_type": "code",
      "metadata": {
        "id": "r1e8PJd2jpnT"
      },
      "source": [
        "# Russian Bert installation \n",
        "!wget -q --show-progress -c \"http://files.deeppavlov.ai/deeppavlov_data/bert/rubert_cased_L-12_H-768_A-12_pt.tar.gz\"\n",
        "!tar -zxf rubert_cased_L-12_H-768_A-12_pt.tar.gz\n",
        "\n",
        "BERT_MODEL_PATH = \"rubert_cased_L-12_H-768_A-12_pt\"\n",
        "!cp {BERT_MODEL_PATH}/bert_config.json {BERT_MODEL_PATH}/config.json"
      ],
      "execution_count": null,
      "outputs": []
    },
    {
      "cell_type": "code",
      "metadata": {
        "id": "U1jScBCtsp1r",
        "colab": {
          "base_uri": "https://localhost:8080/"
        },
        "outputId": "82d590f5-9a1b-4cd6-a607-a1b2b741d3de"
      },
      "source": [
        "!pip install transformers"
      ],
      "execution_count": null,
      "outputs": [
        {
          "output_type": "stream",
          "text": [
            "Requirement already satisfied: transformers in /usr/local/lib/python3.7/dist-packages (4.4.2)\n",
            "Requirement already satisfied: requests in /usr/local/lib/python3.7/dist-packages (from transformers) (2.23.0)\n",
            "Requirement already satisfied: sacremoses in /usr/local/lib/python3.7/dist-packages (from transformers) (0.0.43)\n",
            "Requirement already satisfied: tqdm>=4.27 in /usr/local/lib/python3.7/dist-packages (from transformers) (4.41.1)\n",
            "Requirement already satisfied: importlib-metadata; python_version < \"3.8\" in /usr/local/lib/python3.7/dist-packages (from transformers) (3.7.2)\n",
            "Requirement already satisfied: regex!=2019.12.17 in /usr/local/lib/python3.7/dist-packages (from transformers) (2019.12.20)\n",
            "Requirement already satisfied: tokenizers<0.11,>=0.10.1 in /usr/local/lib/python3.7/dist-packages (from transformers) (0.10.1)\n",
            "Requirement already satisfied: packaging in /usr/local/lib/python3.7/dist-packages (from transformers) (20.9)\n",
            "Requirement already satisfied: numpy>=1.17 in /usr/local/lib/python3.7/dist-packages (from transformers) (1.19.5)\n",
            "Requirement already satisfied: filelock in /usr/local/lib/python3.7/dist-packages (from transformers) (3.0.12)\n",
            "Requirement already satisfied: chardet<4,>=3.0.2 in /usr/local/lib/python3.7/dist-packages (from requests->transformers) (3.0.4)\n",
            "Requirement already satisfied: urllib3!=1.25.0,!=1.25.1,<1.26,>=1.21.1 in /usr/local/lib/python3.7/dist-packages (from requests->transformers) (1.24.3)\n",
            "Requirement already satisfied: idna<3,>=2.5 in /usr/local/lib/python3.7/dist-packages (from requests->transformers) (2.10)\n",
            "Requirement already satisfied: certifi>=2017.4.17 in /usr/local/lib/python3.7/dist-packages (from requests->transformers) (2020.12.5)\n",
            "Requirement already satisfied: six in /usr/local/lib/python3.7/dist-packages (from sacremoses->transformers) (1.15.0)\n",
            "Requirement already satisfied: joblib in /usr/local/lib/python3.7/dist-packages (from sacremoses->transformers) (1.0.1)\n",
            "Requirement already satisfied: click in /usr/local/lib/python3.7/dist-packages (from sacremoses->transformers) (7.1.2)\n",
            "Requirement already satisfied: typing-extensions>=3.6.4; python_version < \"3.8\" in /usr/local/lib/python3.7/dist-packages (from importlib-metadata; python_version < \"3.8\"->transformers) (3.7.4.3)\n",
            "Requirement already satisfied: zipp>=0.5 in /usr/local/lib/python3.7/dist-packages (from importlib-metadata; python_version < \"3.8\"->transformers) (3.4.1)\n",
            "Requirement already satisfied: pyparsing>=2.0.2 in /usr/local/lib/python3.7/dist-packages (from packaging->transformers) (2.4.7)\n"
          ],
          "name": "stdout"
        }
      ]
    },
    {
      "cell_type": "code",
      "metadata": {
        "colab": {
          "base_uri": "https://localhost:8080/"
        },
        "id": "G4M8OPecjrvp",
        "outputId": "6ecb1881-17c3-45f8-f801-cead350bfee3"
      },
      "source": [
        "from transformers import BertTokenizer, BertForMaskedLM\n",
        "\n",
        "tokenizer = BertTokenizer.from_pretrained(BERT_MODEL_PATH)\n",
        "model = BertForMaskedLM.from_pretrained(BERT_MODEL_PATH).to(DEVICE)"
      ],
      "execution_count": null,
      "outputs": [
        {
          "output_type": "stream",
          "text": [
            "Some weights of the model checkpoint at rubert_cased_L-12_H-768_A-12_pt were not used when initializing BertForMaskedLM: ['cls.seq_relationship.weight', 'cls.seq_relationship.bias']\n",
            "- This IS expected if you are initializing BertForMaskedLM from the checkpoint of a model trained on another task or with another architecture (e.g. initializing a BertForSequenceClassification model from a BertForPreTraining model).\n",
            "- This IS NOT expected if you are initializing BertForMaskedLM from the checkpoint of a model that you expect to be exactly identical (initializing a BertForSequenceClassification model from a BertForSequenceClassification model).\n"
          ],
          "name": "stderr"
        }
      ]
    },
    {
      "cell_type": "markdown",
      "metadata": {
        "id": "d6wrTAXi0mer"
      },
      "source": [
        "Нормализовываем предикаты в предложениях с помощью pymorphy2"
      ]
    },
    {
      "cell_type": "code",
      "metadata": {
        "colab": {
          "base_uri": "https://localhost:8080/",
          "height": 202
        },
        "id": "XVwrA1iGz1br",
        "outputId": "a6ae7880-df16-403b-a7e0-c11da00c64d3"
      },
      "source": [
        "contexts_trial_df.head()"
      ],
      "execution_count": null,
      "outputs": [
        {
          "output_type": "execute_result",
          "data": {
            "text/html": [
              "<div>\n",
              "<style scoped>\n",
              "    .dataframe tbody tr th:only-of-type {\n",
              "        vertical-align: middle;\n",
              "    }\n",
              "\n",
              "    .dataframe tbody tr th {\n",
              "        vertical-align: top;\n",
              "    }\n",
              "\n",
              "    .dataframe thead th {\n",
              "        text-align: right;\n",
              "    }\n",
              "</style>\n",
              "<table border=\"1\" class=\"dataframe\">\n",
              "  <thead>\n",
              "    <tr style=\"text-align: right;\">\n",
              "      <th></th>\n",
              "      <th>instance</th>\n",
              "      <th>start</th>\n",
              "      <th>end</th>\n",
              "      <th>sentence</th>\n",
              "    </tr>\n",
              "  </thead>\n",
              "  <tbody>\n",
              "    <tr>\n",
              "      <th>trial.sent.rus.0</th>\n",
              "      <td>стать</td>\n",
              "      <td>63</td>\n",
              "      <td>68</td>\n",
              "      <td>Старый я, песенка моя спета, и нет у меня боль...</td>\n",
              "    </tr>\n",
              "    <tr>\n",
              "      <th>trial.sent.rus.1</th>\n",
              "      <td>вызвала</td>\n",
              "      <td>6</td>\n",
              "      <td>13</td>\n",
              "      <td>Но не вызвала</td>\n",
              "    </tr>\n",
              "    <tr>\n",
              "      <th>trial.sent.rus.2</th>\n",
              "      <td>пойдет</td>\n",
              "      <td>40</td>\n",
              "      <td>46</td>\n",
              "      <td>А может, и вовсе поменяет конституцию и пойдет...</td>\n",
              "    </tr>\n",
              "    <tr>\n",
              "      <th>trial.sent.rus.3</th>\n",
              "      <td>стану</td>\n",
              "      <td>5</td>\n",
              "      <td>10</td>\n",
              "      <td>Я не стану отрекаться, – объяснил он</td>\n",
              "    </tr>\n",
              "    <tr>\n",
              "      <th>trial.sent.rus.4</th>\n",
              "      <td>становятся</td>\n",
              "      <td>149</td>\n",
              "      <td>159</td>\n",
              "      <td>В этом случае профиль сечения ППЭ реакции зави...</td>\n",
              "    </tr>\n",
              "  </tbody>\n",
              "</table>\n",
              "</div>"
            ],
            "text/plain": [
              "                    instance  ...                                           sentence\n",
              "trial.sent.rus.0       стать  ...  Старый я, песенка моя спета, и нет у меня боль...\n",
              "trial.sent.rus.1     вызвала  ...                                      Но не вызвала\n",
              "trial.sent.rus.2      пойдет  ...  А может, и вовсе поменяет конституцию и пойдет...\n",
              "trial.sent.rus.3       стану  ...               Я не стану отрекаться, – объяснил он\n",
              "trial.sent.rus.4  становятся  ...  В этом случае профиль сечения ППЭ реакции зави...\n",
              "\n",
              "[5 rows x 4 columns]"
            ]
          },
          "metadata": {
            "tags": []
          },
          "execution_count": 17
        }
      ]
    },
    {
      "cell_type": "code",
      "metadata": {
        "id": "-YlZq5Ionoz8",
        "colab": {
          "base_uri": "https://localhost:8080/"
        },
        "outputId": "36fc367d-6532-4132-bfb7-7039cf2c30d0"
      },
      "source": [
        "!pip install pymorphy2"
      ],
      "execution_count": null,
      "outputs": [
        {
          "output_type": "stream",
          "text": [
            "Collecting pymorphy2\n",
            "\u001b[?25l  Downloading https://files.pythonhosted.org/packages/07/57/b2ff2fae3376d4f3c697b9886b64a54b476e1a332c67eee9f88e7f1ae8c9/pymorphy2-0.9.1-py3-none-any.whl (55kB)\n",
            "\u001b[K     |████████████████████████████████| 61kB 3.0MB/s \n",
            "\u001b[?25hCollecting pymorphy2-dicts-ru<3.0,>=2.4\n",
            "\u001b[?25l  Downloading https://files.pythonhosted.org/packages/3a/79/bea0021eeb7eeefde22ef9e96badf174068a2dd20264b9a378f2be1cdd9e/pymorphy2_dicts_ru-2.4.417127.4579844-py2.py3-none-any.whl (8.2MB)\n",
            "\u001b[K     |████████████████████████████████| 8.2MB 8.0MB/s \n",
            "\u001b[?25hCollecting dawg-python>=0.7.1\n",
            "  Downloading https://files.pythonhosted.org/packages/6a/84/ff1ce2071d4c650ec85745766c0047ccc3b5036f1d03559fd46bb38b5eeb/DAWG_Python-0.7.2-py2.py3-none-any.whl\n",
            "Requirement already satisfied: docopt>=0.6 in /usr/local/lib/python3.7/dist-packages (from pymorphy2) (0.6.2)\n",
            "Installing collected packages: pymorphy2-dicts-ru, dawg-python, pymorphy2\n",
            "Successfully installed dawg-python-0.7.2 pymorphy2-0.9.1 pymorphy2-dicts-ru-2.4.417127.4579844\n"
          ],
          "name": "stdout"
        }
      ]
    },
    {
      "cell_type": "code",
      "metadata": {
        "id": "kWMnNiZq2LCP"
      },
      "source": [
        "from pymorphy2 import MorphAnalyzer\n",
        "\n",
        "morph = MorphAnalyzer()\n",
        "\n",
        "def tokenize_word(word: str, morph=morph) -> str:\n",
        "  normalized = morph.parse(word)[0].normal_form\n",
        "  return normalized"
      ],
      "execution_count": null,
      "outputs": []
    },
    {
      "cell_type": "code",
      "metadata": {
        "colab": {
          "base_uri": "https://localhost:8080/",
          "height": 202
        },
        "id": "A087pg000ttP",
        "outputId": "0d056d67-c22a-4d16-8956-5f77397904bd"
      },
      "source": [
        "contexts_trial_df['normalised_instance'] = contexts_trial_df.instance.apply(tokenize_word)\n",
        "contexts_trial_df.head()"
      ],
      "execution_count": null,
      "outputs": [
        {
          "output_type": "execute_result",
          "data": {
            "text/html": [
              "<div>\n",
              "<style scoped>\n",
              "    .dataframe tbody tr th:only-of-type {\n",
              "        vertical-align: middle;\n",
              "    }\n",
              "\n",
              "    .dataframe tbody tr th {\n",
              "        vertical-align: top;\n",
              "    }\n",
              "\n",
              "    .dataframe thead th {\n",
              "        text-align: right;\n",
              "    }\n",
              "</style>\n",
              "<table border=\"1\" class=\"dataframe\">\n",
              "  <thead>\n",
              "    <tr style=\"text-align: right;\">\n",
              "      <th></th>\n",
              "      <th>instance</th>\n",
              "      <th>start</th>\n",
              "      <th>end</th>\n",
              "      <th>sentence</th>\n",
              "      <th>normalised_instance</th>\n",
              "    </tr>\n",
              "  </thead>\n",
              "  <tbody>\n",
              "    <tr>\n",
              "      <th>trial.sent.rus.0</th>\n",
              "      <td>стать</td>\n",
              "      <td>63</td>\n",
              "      <td>68</td>\n",
              "      <td>Старый я, песенка моя спета, и нет у меня боль...</td>\n",
              "      <td>стать</td>\n",
              "    </tr>\n",
              "    <tr>\n",
              "      <th>trial.sent.rus.1</th>\n",
              "      <td>вызвала</td>\n",
              "      <td>6</td>\n",
              "      <td>13</td>\n",
              "      <td>Но не вызвала</td>\n",
              "      <td>вызвать</td>\n",
              "    </tr>\n",
              "    <tr>\n",
              "      <th>trial.sent.rus.2</th>\n",
              "      <td>пойдет</td>\n",
              "      <td>40</td>\n",
              "      <td>46</td>\n",
              "      <td>А может, и вовсе поменяет конституцию и пойдет...</td>\n",
              "      <td>пойти</td>\n",
              "    </tr>\n",
              "    <tr>\n",
              "      <th>trial.sent.rus.3</th>\n",
              "      <td>стану</td>\n",
              "      <td>5</td>\n",
              "      <td>10</td>\n",
              "      <td>Я не стану отрекаться, – объяснил он</td>\n",
              "      <td>стать</td>\n",
              "    </tr>\n",
              "    <tr>\n",
              "      <th>trial.sent.rus.4</th>\n",
              "      <td>становятся</td>\n",
              "      <td>149</td>\n",
              "      <td>159</td>\n",
              "      <td>В этом случае профиль сечения ППЭ реакции зави...</td>\n",
              "      <td>становиться</td>\n",
              "    </tr>\n",
              "  </tbody>\n",
              "</table>\n",
              "</div>"
            ],
            "text/plain": [
              "                    instance  ... normalised_instance\n",
              "trial.sent.rus.0       стать  ...               стать\n",
              "trial.sent.rus.1     вызвала  ...             вызвать\n",
              "trial.sent.rus.2      пойдет  ...               пойти\n",
              "trial.sent.rus.3       стану  ...               стать\n",
              "trial.sent.rus.4  становятся  ...         становиться\n",
              "\n",
              "[5 rows x 5 columns]"
            ]
          },
          "metadata": {
            "tags": []
          },
          "execution_count": 19
        }
      ]
    },
    {
      "cell_type": "markdown",
      "metadata": {
        "id": "_D6tH_qbys8X"
      },
      "source": [
        "Получаем список кандидатов для каждого скетча и сопоставляем с предикатами в предложениях"
      ]
    },
    {
      "cell_type": "code",
      "metadata": {
        "id": "MkyzZOQptshP"
      },
      "source": [
        "def predict_verb_for_context(context: str) -> List[str]:\n",
        "  context_ids = tokenizer(context, padding=True, return_tensors=\"pt\")[\"input_ids\"]\n",
        "  context_tensor = torch.LongTensor(context_ids).to(DEVICE)\n",
        "  outputs = model(context_tensor)\n",
        "  mask_token_indices = torch.where(context_tensor == tokenizer.mask_token_id)\n",
        "  token_logits = outputs['logits']\n",
        "  indices = torch.topk(token_logits[mask_token_indices],100).indices\n",
        "  decoded = list(map(tokenizer.convert_ids_to_tokens, indices))\n",
        "  candidates = []\n",
        "  for predicted_words in decoded:\n",
        "    for cand in predicted_words:\n",
        "      parse_word = morph.parse(cand)[0]\n",
        "      if parse_word.tag.POS=='VERB':\n",
        "        candidates.append(parse_word.normal_form)\n",
        "  return candidates"
      ],
      "execution_count": null,
      "outputs": []
    },
    {
      "cell_type": "markdown",
      "metadata": {
        "id": "fOaO8ZAIw9ye"
      },
      "source": [
        "Что получается на примере демонстрационных данных:"
      ]
    },
    {
      "cell_type": "code",
      "metadata": {
        "colab": {
          "base_uri": "https://localhost:8080/"
        },
        "id": "-jMZ3aETxFde",
        "outputId": "8339543c-bbd5-4c85-db6a-2ab7f431c5d8"
      },
      "source": [
        "contexts[5]"
      ],
      "execution_count": null,
      "outputs": [
        {
          "output_type": "execute_result",
          "data": {
            "text/plain": [
              "['[MASK] мусор',\n",
              " '[MASK] гроб',\n",
              " '[MASK] ведро',\n",
              " '[MASK] тело',\n",
              " '[MASK] сор',\n",
              " '[MASK] мебель',\n",
              " '[MASK] на обложку',\n",
              " '[MASK] на помойку',\n",
              " '[MASK] за пределы текста',\n",
              " '[MASK] на улицу',\n",
              " '[MASK] во двор',\n",
              " '[MASK] на свежий воздух',\n",
              " '[MASK] из дома',\n",
              " '[MASK] из мавзолея',\n",
              " '[MASK] из избы',\n",
              " '[MASK] из квартиры',\n",
              " '[MASK] с поля боя',\n",
              " '[MASK] из огня',\n",
              " '[MASK] в заглавие',\n",
              " '[MASK] в заголовок',\n",
              " '[MASK] в название',\n",
              " '[MASK] в эпиграф',\n",
              " '[MASK] в подзаголовок',\n",
              " '[MASK] за рамки воспоминаний',\n",
              " '[MASK] санитары',\n",
              " '[MASK] грузчики',\n",
              " '[MASK] служитель катка',\n",
              " '[MASK] дворник',\n",
              " '[MASK] добрый конь',\n",
              " '[MASK] воры',\n",
              " '[MASK] вперед',\n",
              " '[MASK] поочередно',\n",
              " '[MASK] только по воскресеньям',\n",
              " '[MASK] по утрам',\n",
              " '[MASK] каждый день']"
            ]
          },
          "metadata": {
            "tags": []
          },
          "execution_count": 21
        }
      ]
    },
    {
      "cell_type": "markdown",
      "metadata": {
        "id": "Qn9cV8M-TbZ-"
      },
      "source": [
        "Предсказания модели для шаблонов:"
      ]
    },
    {
      "cell_type": "code",
      "metadata": {
        "id": "JryeWs9X0b2h",
        "colab": {
          "base_uri": "https://localhost:8080/"
        },
        "outputId": "18381d67-e139-45cf-d6b0-73cdc4d2bb34"
      },
      "source": [
        "predict_verb_for_context(contexts[5])"
      ],
      "execution_count": null,
      "outputs": [
        {
          "output_type": "execute_result",
          "data": {
            "text/plain": [
              "['умереть',\n",
              " 'сохраниться',\n",
              " 'быть',\n",
              " 'иметься',\n",
              " 'скончаться',\n",
              " 'быть',\n",
              " 'сохраниться',\n",
              " 'иметь',\n",
              " 'иметься',\n",
              " 'прощать',\n",
              " 'иметь',\n",
              " 'сохраниться',\n",
              " 'быть',\n",
              " 'быть',\n",
              " 'иметься',\n",
              " 'использоваться',\n",
              " 'сохраниться',\n",
              " 'выйти',\n",
              " 'попасть',\n",
              " 'попасть',\n",
              " 'поместить',\n",
              " 'попасть',\n",
              " 'поступить',\n",
              " 'выйти',\n",
              " 'войти',\n",
              " 'вернуться',\n",
              " 'попасть',\n",
              " 'перенести',\n",
              " 'выйти',\n",
              " 'работать',\n",
              " 'играть',\n",
              " 'выйти',\n",
              " 'говорить',\n",
              " 'играть',\n",
              " 'работать',\n",
              " 'выйти',\n",
              " 'выйти',\n",
              " 'выходить',\n",
              " 'выходить',\n",
              " 'выйти',\n",
              " 'выходить',\n",
              " 'выйти',\n",
              " 'выйти',\n",
              " 'выйти',\n",
              " 'выступать',\n",
              " 'выйти',\n",
              " 'выходить',\n",
              " 'вернуться',\n",
              " 'выходить',\n",
              " 'выходить',\n",
              " 'выйти',\n",
              " 'выходить',\n",
              " 'выйти',\n",
              " 'вернуться',\n",
              " 'выйти',\n",
              " 'выступать',\n",
              " 'впадать',\n",
              " 'выйти',\n",
              " 'выйти',\n",
              " 'входить',\n",
              " 'выходить',\n",
              " 'выходить',\n",
              " 'выйти',\n",
              " 'выходить',\n",
              " 'выйти',\n",
              " 'входить',\n",
              " 'выходить',\n",
              " 'входить',\n",
              " 'вернуться',\n",
              " 'въехать',\n",
              " 'выйти',\n",
              " 'идти',\n",
              " 'выйти',\n",
              " 'зайти',\n",
              " 'врезаться',\n",
              " 'жить',\n",
              " 'заходить',\n",
              " 'выходить',\n",
              " 'войти',\n",
              " 'войти',\n",
              " 'смотреть',\n",
              " 'выйти',\n",
              " 'уйти',\n",
              " 'выйти',\n",
              " 'выходить',\n",
              " 'уйти',\n",
              " 'состоять',\n",
              " 'происходить',\n",
              " 'выйти',\n",
              " 'уйти',\n",
              " 'выйти',\n",
              " 'уйти',\n",
              " 'выйти',\n",
              " 'выходить',\n",
              " 'выбросить',\n",
              " 'выпасть',\n",
              " 'выпасть',\n",
              " 'выясниться',\n",
              " 'вытащить',\n",
              " 'исчезнуть',\n",
              " 'вынести',\n",
              " 'выгнать',\n",
              " 'вернуться',\n",
              " 'выйти',\n",
              " 'уйти',\n",
              " 'уйти',\n",
              " 'улететь',\n",
              " 'отступить',\n",
              " 'вернуться',\n",
              " 'спасти',\n",
              " 'сбежать',\n",
              " 'уйти',\n",
              " 'умереть',\n",
              " 'погибнуть',\n",
              " 'вернуться',\n",
              " 'сняться',\n",
              " 'уходить',\n",
              " 'выйти',\n",
              " 'вынести',\n",
              " 'вылететь',\n",
              " 'уйти',\n",
              " 'бежать',\n",
              " 'вылететь',\n",
              " 'уйти',\n",
              " 'скончаться',\n",
              " 'отступать',\n",
              " 'увезти',\n",
              " 'скрыться',\n",
              " 'отступить',\n",
              " 'отойти',\n",
              " 'отступить',\n",
              " 'возвратиться',\n",
              " 'возвращаться',\n",
              " 'скрыться',\n",
              " 'выбыть',\n",
              " 'вывезти',\n",
              " 'прощать',\n",
              " 'уходить',\n",
              " 'удалиться',\n",
              " 'вернуть',\n",
              " 'уходить',\n",
              " 'выбыть',\n",
              " 'бежать',\n",
              " 'улетать',\n",
              " 'выйти',\n",
              " 'войти',\n",
              " 'входить',\n",
              " 'войти',\n",
              " 'входить',\n",
              " 'входить',\n",
              " 'вступить',\n",
              " 'войти',\n",
              " 'войти',\n",
              " 'войти',\n",
              " 'вступить',\n",
              " 'вступать',\n",
              " 'включать',\n",
              " 'добавляться',\n",
              " 'вступить',\n",
              " 'войти',\n",
              " 'входить',\n",
              " 'вернуться',\n",
              " 'вступить',\n",
              " 'входить',\n",
              " 'выйти',\n",
              " 'войти',\n",
              " 'вернуться',\n",
              " 'входить',\n",
              " 'уйти',\n",
              " 'попасть',\n",
              " 'входить',\n",
              " 'попасть',\n",
              " 'включать',\n",
              " 'войти',\n",
              " 'входить',\n",
              " 'вступить',\n",
              " 'войти',\n",
              " 'входить',\n",
              " 'вступить',\n",
              " 'входить',\n",
              " 'войти',\n",
              " 'впадать',\n",
              " 'вступить',\n",
              " 'войти',\n",
              " 'вступать',\n",
              " 'входить',\n",
              " 'включать',\n",
              " 'превратиться',\n",
              " 'вернуться',\n",
              " 'превратиться',\n",
              " 'использоваться',\n",
              " 'входить',\n",
              " 'войти',\n",
              " 'входить',\n",
              " 'превратиться',\n",
              " 'перейти',\n",
              " 'вступить',\n",
              " 'вступить',\n",
              " 'войти',\n",
              " 'перерасти',\n",
              " 'войти',\n",
              " 'вылиться',\n",
              " 'состоять',\n",
              " 'преобразоваться',\n",
              " 'входить',\n",
              " 'превращаться',\n",
              " 'вписываться',\n",
              " 'родиться',\n",
              " 'превратиться',\n",
              " 'входить',\n",
              " 'вступать',\n",
              " 'входить',\n",
              " 'превращаться',\n",
              " 'использоваться',\n",
              " 'превратиться',\n",
              " 'впадать',\n",
              " 'войти',\n",
              " 'превратиться',\n",
              " 'войти',\n",
              " 'входить',\n",
              " 'войти',\n",
              " 'входить',\n",
              " 'войти',\n",
              " 'войти',\n",
              " 'входить',\n",
              " 'войти',\n",
              " 'вступить',\n",
              " 'превратиться',\n",
              " 'войти',\n",
              " 'превратиться',\n",
              " 'переходить',\n",
              " 'попасть',\n",
              " 'попасть',\n",
              " 'превращаться',\n",
              " 'попасть',\n",
              " 'входить',\n",
              " 'вернуться',\n",
              " 'попадать',\n",
              " 'перейти',\n",
              " 'вступать',\n",
              " 'вернуться',\n",
              " 'входить',\n",
              " 'превращаться',\n",
              " 'превратиться',\n",
              " 'возвращаться',\n",
              " 'добавлять',\n",
              " 'играть',\n",
              " 'попадать',\n",
              " 'добавляться',\n",
              " 'превратиться',\n",
              " 'вернуться',\n",
              " 'войти',\n",
              " 'превратить',\n",
              " 'вернуться',\n",
              " 'перерасти',\n",
              " 'включать',\n",
              " 'вылиться',\n",
              " 'добавить',\n",
              " 'перерасти',\n",
              " 'добавить',\n",
              " 'выйти',\n",
              " 'выходить',\n",
              " 'выйти',\n",
              " 'выходить',\n",
              " 'выходить',\n",
              " 'выйти',\n",
              " 'выйти',\n",
              " 'выйти',\n",
              " 'выходить',\n",
              " 'выйти',\n",
              " 'выйти',\n",
              " 'выйти',\n",
              " 'родиться',\n",
              " 'погибнуть',\n",
              " 'пострадать',\n",
              " 'работать',\n",
              " 'умереть',\n",
              " 'появляться',\n",
              " 'использоваться',\n",
              " 'появиться',\n",
              " 'погибнуть',\n",
              " 'работать',\n",
              " 'появиться',\n",
              " 'пострадать',\n",
              " 'появляться',\n",
              " 'умереть',\n",
              " 'использоваться',\n",
              " 'умереть',\n",
              " 'быть',\n",
              " 'скончаться',\n",
              " 'умереть',\n",
              " 'скончаться',\n",
              " 'быть',\n",
              " 'иметься',\n",
              " 'быть',\n",
              " 'дать',\n",
              " 'быть',\n",
              " 'гореть',\n",
              " 'расти',\n",
              " 'погибнуть',\n",
              " 'появиться',\n",
              " 'появляться',\n",
              " 'начаться',\n",
              " 'работать',\n",
              " 'пострадать',\n",
              " 'быть',\n",
              " 'встречаться',\n",
              " 'выйти',\n",
              " 'работать',\n",
              " 'умереть',\n",
              " 'учиться',\n",
              " 'быть',\n",
              " 'жить',\n",
              " 'быть',\n",
              " 'быть',\n",
              " 'использоваться',\n",
              " 'скончаться',\n",
              " 'появляться',\n",
              " 'получаться',\n",
              " 'управляться',\n",
              " 'встречаться',\n",
              " 'жить',\n",
              " 'появляться',\n",
              " 'родиться',\n",
              " 'существовать',\n",
              " 'работать',\n",
              " 'оказаться',\n",
              " 'работать',\n",
              " 'выходить',\n",
              " 'работать',\n",
              " 'использоваться',\n",
              " 'выпускаться',\n",
              " 'работать',\n",
              " 'действовать',\n",
              " 'проводиться',\n",
              " 'проводиться',\n",
              " 'работать',\n",
              " 'применяться',\n",
              " 'производиться',\n",
              " 'проходить',\n",
              " 'печататься',\n",
              " 'выпускаться',\n",
              " 'вещать',\n",
              " 'встречаться',\n",
              " 'встречаться',\n",
              " 'существовать',\n",
              " 'писать',\n",
              " 'использоваться',\n",
              " 'публиковаться',\n",
              " 'выступать',\n",
              " 'выступать',\n",
              " 'распространяться',\n",
              " 'служить',\n",
              " 'появляться',\n",
              " 'говорить',\n",
              " 'использоваться',\n",
              " 'жить',\n",
              " 'вестись',\n",
              " 'цвести',\n",
              " 'протекать',\n",
              " 'появляться',\n",
              " 'проходить',\n",
              " 'отмечаться',\n",
              " 'работать',\n",
              " 'работать',\n",
              " 'использоваться',\n",
              " 'писать',\n",
              " 'работать',\n",
              " 'работать',\n",
              " 'цвести',\n",
              " 'умереть',\n",
              " 'выходить',\n",
              " 'выпускаться',\n",
              " 'быть',\n",
              " 'давать',\n",
              " 'быть']"
            ]
          },
          "metadata": {
            "tags": []
          },
          "execution_count": 22
        }
      ]
    },
    {
      "cell_type": "markdown",
      "metadata": {
        "id": "zsQrfSz9TgYW"
      },
      "source": [
        "Самый частый шаблон:"
      ]
    },
    {
      "cell_type": "code",
      "metadata": {
        "colab": {
          "base_uri": "https://localhost:8080/",
          "height": 34
        },
        "id": "nshqZj-xwcnJ",
        "outputId": "f0db5e34-e6d2-4917-c9e5-9eb850f3287e"
      },
      "source": [
        "def most_common(lst):\n",
        "    return max(set(lst), key=lst.count)\n",
        "\n",
        "most_common(predict_verb_for_context(contexts[5]))"
      ],
      "execution_count": null,
      "outputs": [
        {
          "output_type": "execute_result",
          "data": {
            "application/vnd.google.colaboratory.intrinsic+json": {
              "type": "string"
            },
            "text/plain": [
              "'выйти'"
            ]
          },
          "metadata": {
            "tags": []
          },
          "execution_count": 23
        }
      ]
    },
    {
      "cell_type": "markdown",
      "metadata": {
        "id": "X9evtD7yQgv9"
      },
      "source": [
        "# Получаем результат для тестовых данных"
      ]
    },
    {
      "cell_type": "code",
      "metadata": {
        "id": "2NtHjAjcRJ7b"
      },
      "source": [
        "CONTEXTS_DEV = \"data/dev/contexts_dev.data\"\n",
        "SKETCHES_DEV = \"data/dev/sketches_dev.data\""
      ],
      "execution_count": null,
      "outputs": []
    },
    {
      "cell_type": "markdown",
      "metadata": {
        "id": "RbW6zhH7TlMV"
      },
      "source": [
        "Загружаются скетчи"
      ]
    },
    {
      "cell_type": "code",
      "metadata": {
        "colab": {
          "base_uri": "https://localhost:8080/"
        },
        "id": "_7xiVhOOSWDO",
        "outputId": "d0b71df2-5b46-466a-8a8f-59c45cd70174"
      },
      "source": [
        "sketches_dev_dfs = dict()\n",
        "\n",
        "sketches_dev_data = json.load(open(SKETCHES_DEV))\n",
        "for sketch_name, sketch_columns_di in sketches_dev_data.items():\n",
        "    colnames = [None] * len(sketch_columns_di)\n",
        "    columns = [None] * len(sketch_columns_di)\n",
        "    for colname, (col_ix, col_cells) in sketch_columns_di.items():\n",
        "        colnames[col_ix] = colname\n",
        "        columns[col_ix] = col_cells\n",
        "    columns_ordered_dict = OrderedDict(zip(colnames, columns))\n",
        "    sketches_dev_dfs[sketch_name] = pd.DataFrame(columns_ordered_dict)\n",
        "\n",
        "print('\\n'.join(str(sketches_dev_dfs).splitlines()[:12]))"
      ],
      "execution_count": null,
      "outputs": [
        {
          "output_type": "stream",
          "text": [
            "{'dev.sketch.rus.0':          Object_Situation  ...  DegreeNumerative\n",
            "0             число газет  ...   примерно на 60%\n",
            "1    количество библиотек  ...          на треть\n",
            "2     численность занятых  ...  на 53,7 процента\n",
            "3                   объем  ...      один миллион\n",
            "4        посевная площадь  ...             людей\n",
            "5  доля голосов епископов  ...                  \n",
            "6   расстояние между нами  ...                  \n",
            "7                    риск  ...                  \n",
            "\n",
            "[8 rows x 6 columns], 'dev.sketch.rus.1':          Locative_Route  ... Locative_Orientation_FinalPoint\n",
            "0  вдоль большой дороги  ...                       навстречу\n"
          ],
          "name": "stdout"
        }
      ]
    },
    {
      "cell_type": "markdown",
      "metadata": {
        "id": "6ctWjM2jTpFr"
      },
      "source": [
        "Загружаются контексты:"
      ]
    },
    {
      "cell_type": "code",
      "metadata": {
        "colab": {
          "base_uri": "https://localhost:8080/",
          "height": 202
        },
        "id": "z7fZMuKSSk-p",
        "outputId": "7c2bf608-f9e7-4289-f764-93041596b366"
      },
      "source": [
        "contexts_dev_df = pd.read_json(CONTEXTS_DEV).transpose()\n",
        "contexts_dev_df.head()"
      ],
      "execution_count": null,
      "outputs": [
        {
          "output_type": "execute_result",
          "data": {
            "text/html": [
              "<div>\n",
              "<style scoped>\n",
              "    .dataframe tbody tr th:only-of-type {\n",
              "        vertical-align: middle;\n",
              "    }\n",
              "\n",
              "    .dataframe tbody tr th {\n",
              "        vertical-align: top;\n",
              "    }\n",
              "\n",
              "    .dataframe thead th {\n",
              "        text-align: right;\n",
              "    }\n",
              "</style>\n",
              "<table border=\"1\" class=\"dataframe\">\n",
              "  <thead>\n",
              "    <tr style=\"text-align: right;\">\n",
              "      <th></th>\n",
              "      <th>instance</th>\n",
              "      <th>start</th>\n",
              "      <th>end</th>\n",
              "      <th>sentence</th>\n",
              "    </tr>\n",
              "  </thead>\n",
              "  <tbody>\n",
              "    <tr>\n",
              "      <th>dev.sent.rus.0</th>\n",
              "      <td>отбирать</td>\n",
              "      <td>169</td>\n",
              "      <td>177</td>\n",
              "      <td>Люди, производящие очень дорогостоящее оборудо...</td>\n",
              "    </tr>\n",
              "    <tr>\n",
              "      <th>dev.sent.rus.1</th>\n",
              "      <td>пожал</td>\n",
              "      <td>44</td>\n",
              "      <td>49</td>\n",
              "      <td>Он не спеша подошел к полковнику Эмсуорту и по...</td>\n",
              "    </tr>\n",
              "    <tr>\n",
              "      <th>dev.sent.rus.2</th>\n",
              "      <td>обратил</td>\n",
              "      <td>289</td>\n",
              "      <td>296</td>\n",
              "      <td>Докладчик также представил отчет о рассмотрени...</td>\n",
              "    </tr>\n",
              "    <tr>\n",
              "      <th>dev.sent.rus.3</th>\n",
              "      <td>остановился</td>\n",
              "      <td>32</td>\n",
              "      <td>43</td>\n",
              "      <td>Но,  пройдя  несколько   шагов, остановился  и...</td>\n",
              "    </tr>\n",
              "    <tr>\n",
              "      <th>dev.sent.rus.4</th>\n",
              "      <td>выделил</td>\n",
              "      <td>80</td>\n",
              "      <td>87</td>\n",
              "      <td>Чтобы предотвратить это, Центральный фонд реаг...</td>\n",
              "    </tr>\n",
              "  </tbody>\n",
              "</table>\n",
              "</div>"
            ],
            "text/plain": [
              "                   instance  ...                                           sentence\n",
              "dev.sent.rus.0     отбирать  ...  Люди, производящие очень дорогостоящее оборудо...\n",
              "dev.sent.rus.1        пожал  ...  Он не спеша подошел к полковнику Эмсуорту и по...\n",
              "dev.sent.rus.2      обратил  ...  Докладчик также представил отчет о рассмотрени...\n",
              "dev.sent.rus.3  остановился  ...  Но,  пройдя  несколько   шагов, остановился  и...\n",
              "dev.sent.rus.4      выделил  ...  Чтобы предотвратить это, Центральный фонд реаг...\n",
              "\n",
              "[5 rows x 4 columns]"
            ]
          },
          "metadata": {
            "tags": []
          },
          "execution_count": 26
        }
      ]
    },
    {
      "cell_type": "code",
      "metadata": {
        "colab": {
          "base_uri": "https://localhost:8080/",
          "height": 294
        },
        "id": "SdnOrgHsSx5X",
        "outputId": "c0daf077-92d5-48a6-d9c9-8445f6541bfa"
      },
      "source": [
        "sketches_dev_dfs['dev.sketch.rus.0']"
      ],
      "execution_count": null,
      "outputs": [
        {
          "output_type": "execute_result",
          "data": {
            "text/html": [
              "<div>\n",
              "<style scoped>\n",
              "    .dataframe tbody tr th:only-of-type {\n",
              "        vertical-align: middle;\n",
              "    }\n",
              "\n",
              "    .dataframe tbody tr th {\n",
              "        vertical-align: top;\n",
              "    }\n",
              "\n",
              "    .dataframe thead th {\n",
              "        text-align: right;\n",
              "    }\n",
              "</style>\n",
              "<table border=\"1\" class=\"dataframe\">\n",
              "  <thead>\n",
              "    <tr style=\"text-align: right;\">\n",
              "      <th></th>\n",
              "      <th>Object_Situation</th>\n",
              "      <th>DegreeIntensity</th>\n",
              "      <th>Time</th>\n",
              "      <th>DegreeMultiplicative</th>\n",
              "      <th>Object</th>\n",
              "      <th>DegreeNumerative</th>\n",
              "    </tr>\n",
              "  </thead>\n",
              "  <tbody>\n",
              "    <tr>\n",
              "      <th>0</th>\n",
              "      <td>число газет</td>\n",
              "      <td>значительно</td>\n",
              "      <td>в посткризисный период</td>\n",
              "      <td>вдвое</td>\n",
              "      <td>государственные расходы</td>\n",
              "      <td>примерно на 60%</td>\n",
              "    </tr>\n",
              "    <tr>\n",
              "      <th>1</th>\n",
              "      <td>количество библиотек</td>\n",
              "      <td>резко</td>\n",
              "      <td>постоянно</td>\n",
              "      <td>в разы</td>\n",
              "      <td>факторные издержки производства</td>\n",
              "      <td>на треть</td>\n",
              "    </tr>\n",
              "    <tr>\n",
              "      <th>2</th>\n",
              "      <td>численность занятых</td>\n",
              "      <td>существенно</td>\n",
              "      <td>одновременно</td>\n",
              "      <td></td>\n",
              "      <td>население</td>\n",
              "      <td>на 53,7 процента</td>\n",
              "    </tr>\n",
              "    <tr>\n",
              "      <th>3</th>\n",
              "      <td>объем</td>\n",
              "      <td>ничуть</td>\n",
              "      <td>к концу века</td>\n",
              "      <td></td>\n",
              "      <td>налогооблагаемый доход</td>\n",
              "      <td>один миллион</td>\n",
              "    </tr>\n",
              "    <tr>\n",
              "      <th>4</th>\n",
              "      <td>посевная площадь</td>\n",
              "      <td>сильно</td>\n",
              "      <td>с годами</td>\n",
              "      <td></td>\n",
              "      <td>сумма нашего долга</td>\n",
              "      <td>людей</td>\n",
              "    </tr>\n",
              "    <tr>\n",
              "      <th>5</th>\n",
              "      <td>доля голосов епископов</td>\n",
              "      <td>чуть</td>\n",
              "      <td>за последние полвека</td>\n",
              "      <td></td>\n",
              "      <td>тиражи поэтических книг</td>\n",
              "      <td></td>\n",
              "    </tr>\n",
              "    <tr>\n",
              "      <th>6</th>\n",
              "      <td>расстояние между нами</td>\n",
              "      <td>немного</td>\n",
              "      <td>до 500 г</td>\n",
              "      <td></td>\n",
              "      <td>срок</td>\n",
              "      <td></td>\n",
              "    </tr>\n",
              "    <tr>\n",
              "      <th>7</th>\n",
              "      <td>риск</td>\n",
              "      <td>и более</td>\n",
              "      <td>на какое-то время</td>\n",
              "      <td></td>\n",
              "      <td>налоги</td>\n",
              "      <td></td>\n",
              "    </tr>\n",
              "  </tbody>\n",
              "</table>\n",
              "</div>"
            ],
            "text/plain": [
              "         Object_Situation  ...  DegreeNumerative\n",
              "0             число газет  ...   примерно на 60%\n",
              "1    количество библиотек  ...          на треть\n",
              "2     численность занятых  ...  на 53,7 процента\n",
              "3                   объем  ...      один миллион\n",
              "4        посевная площадь  ...             людей\n",
              "5  доля голосов епископов  ...                  \n",
              "6   расстояние между нами  ...                  \n",
              "7                    риск  ...                  \n",
              "\n",
              "[8 rows x 6 columns]"
            ]
          },
          "metadata": {
            "tags": []
          },
          "execution_count": 29
        }
      ]
    },
    {
      "cell_type": "markdown",
      "metadata": {
        "id": "DYQK1uQFTJPN"
      },
      "source": [
        "Выведем роли, соответсвующие dev данным"
      ]
    },
    {
      "cell_type": "code",
      "metadata": {
        "id": "eWGh_GB4S9nF",
        "colab": {
          "base_uri": "https://localhost:8080/"
        },
        "outputId": "99a2e27e-920a-41bb-f64e-73b0caebe155"
      },
      "source": [
        "roles = {}\n",
        "for sketch in sketches_dev_dfs:\n",
        "    for role in list(sketches_dev_dfs[sketch].columns):\n",
        "        if role not in roles:\n",
        "            roles[role] = sketches_dev_dfs[sketch][role][0]\n",
        "roles"
      ],
      "execution_count": null,
      "outputs": [
        {
          "output_type": "execute_result",
          "data": {
            "text/plain": [
              "{'Addition': 'также',\n",
              " 'AdditiveDegree': 'еще',\n",
              " 'AdditiveQuantity': 'еще',\n",
              " 'Addressee': 'врагу',\n",
              " 'Addressee_Metaphoric': 'своим глазам',\n",
              " 'Agent': 'коровы',\n",
              " 'Agent_Device': 'поезд',\n",
              " 'Agent_Metaphoric': 'годы',\n",
              " 'Agent_Route': 'улица',\n",
              " 'AttachedProperty': 'в союзники',\n",
              " 'BehalfOfEntity': 'от первого лица',\n",
              " 'BeneMalefactive': 'русскому читателю',\n",
              " 'Causator': 'мать',\n",
              " 'Cause': 'по какой-то причине',\n",
              " 'Cause_Actant': 'жизнью',\n",
              " 'Cause_From': 'от страха',\n",
              " 'ChRelation_Grade': 'на три',\n",
              " 'Ch_Ability': 'проницательно',\n",
              " 'Ch_AvailabilityForUse': 'свободно',\n",
              " 'Ch_ByLanguage': 'на русском языке',\n",
              " 'Ch_Emotion': 'нежно',\n",
              " 'Ch_Evaluation': 'удачно',\n",
              " 'Ch_EvaluationOfHumanTemperAndActivity': 'от души',\n",
              " 'Ch_Exactness': 'неточно',\n",
              " 'Ch_Information': 'подробно',\n",
              " 'Ch_NotabilityDistribution': 'торжественно',\n",
              " 'Ch_Parameter_Density': 'неплотно',\n",
              " 'Ch_Parameter_Price': 'дорого',\n",
              " 'Ch_Parameter_Speed': 'быстро',\n",
              " 'Ch_Perceptibility': 'резко',\n",
              " 'Ch_PerceptionAndViews': 'радикально',\n",
              " 'Ch_Phys_Form': 'набок',\n",
              " 'Ch_Phys_VisualCharacteristic': 'ослепительно',\n",
              " 'Ch_PhysicalPsychicCondition': 'облегченно',\n",
              " 'Ch_PhysicalStateOfObject': 'аккуратно',\n",
              " 'Ch_PossibilitivityInPerceptionAndRealization': 'тяжело',\n",
              " 'Ch_ProducedInfluence': 'смертельно',\n",
              " 'Ch_Reference_Context': 'ниже',\n",
              " 'Ch_Relation': 'выше других',\n",
              " 'Ch_Relation_Coincidence': 'иначе',\n",
              " 'Ch_ResultAndEfficiency': 'впустую',\n",
              " 'Ch_Situation_IntentionConsideration': 'случайно',\n",
              " 'Ch_Sound': 'гулко',\n",
              " 'Ch_Standard': 'строго',\n",
              " 'Ch_Steadiness': 'стойко',\n",
              " 'Ch_Style': 'буквально',\n",
              " 'Ch_Suitability': 'как нельзя кстати',\n",
              " 'Comparison': 'как снег',\n",
              " 'Composition': 'из букв',\n",
              " 'Concurrent_Complement': 'первым',\n",
              " 'Concurrent_Situative': 'спотыкаясь',\n",
              " 'ContrAgent': 'с людьми',\n",
              " 'ContrAgent_Metaphoric': 'на стены',\n",
              " 'ContrObject': 'снег',\n",
              " 'Criterion_General': 'по приговору',\n",
              " 'DegreeAlmost': 'на девяносто процентов',\n",
              " 'DegreeIntensity': 'значительно',\n",
              " 'DegreeMultiplicative': 'вдвое',\n",
              " 'DegreeNegative': 'далеко',\n",
              " 'DegreeNumerative': 'примерно на 60%',\n",
              " 'DegreeOfDevelopment': 'глубоко',\n",
              " 'DirectSpeech': 'пойдем',\n",
              " 'Empty_Subject_It': '',\n",
              " 'Experiencer': 'читатель',\n",
              " 'Experiencer_Metaphoric': 'время',\n",
              " 'Explication': 'вернуться',\n",
              " 'ExternalPossessor': 'друг другу',\n",
              " 'Fabricative': 'из другого материала',\n",
              " 'FloatingQuantifier_Controlled': 'одного',\n",
              " 'FormatForInformationObject': 'в терминах комедии',\n",
              " 'Function': 'как грибы',\n",
              " 'Instrument': 'лбом',\n",
              " 'Instrument_Cognitive': 'смыслом',\n",
              " 'Instrument_Situation': 'взглядом',\n",
              " 'Limitation': 'просто',\n",
              " 'Locative': 'на портрете',\n",
              " 'LocativeEvent_FinalPoint': 'на поиски',\n",
              " 'Locative_Distance': 'рядом',\n",
              " 'Locative_Event': 'в плен',\n",
              " 'Locative_FinalPoint': 'к водопою',\n",
              " 'Locative_InitialPoint': 'с неба',\n",
              " 'Locative_Orientation': 'вне себя',\n",
              " 'Locative_Orientation_FinalPoint': 'навстречу',\n",
              " 'Locative_Orientation_InitialPoint': 'с севера',\n",
              " 'Locative_PartAsOrientation': 'вверх дном',\n",
              " 'Locative_Route': 'вдоль большой дороги',\n",
              " 'Manner': 'методом александра македонского',\n",
              " 'MannerOfPositionAndMotion': 'на руках',\n",
              " 'Manner_Configuration': 'по голове',\n",
              " 'MetaphoricLocative': 'на картине',\n",
              " 'Metaphoric_FinalPoint': 'в пучину искусства',\n",
              " 'Metaphoric_InitialPoint': 'из архива',\n",
              " 'Metaphoric_Route': 'по телефону',\n",
              " 'Modality': 'неизбежно',\n",
              " 'Motive': 'за царя ирода',\n",
              " 'MovingLandmark': 'за отцом',\n",
              " 'Object': 'государственные расходы',\n",
              " 'ObjectPredicateDoubling': 'своей жизнью',\n",
              " 'Object_CreationDestruction': 'стену',\n",
              " 'Object_DiscoursiveUnit': 'спокойной ночи',\n",
              " 'Object_Relation': 'за мыслью',\n",
              " 'Object_Situation': 'число газет',\n",
              " 'Object_SituationLike': 'время',\n",
              " 'Opposition': 'против войны',\n",
              " 'OrderInTimeAndSpace': 'вновь',\n",
              " 'Original_Object': 'по моим сценариям',\n",
              " 'ParentheticalAccentuation': 'вот',\n",
              " 'ParentheticalConcession': 'в конце концов',\n",
              " 'ParentheticalSalience': 'в основном',\n",
              " 'ParentheticalSpecification': 'особенно',\n",
              " 'Parenthetical_Standpoint': 'на мой взгляд',\n",
              " 'PartComplement_EntityLike': 'с семьей',\n",
              " 'PartComplement_SituationLike': 'с похвалой',\n",
              " 'Particles_Accentuation': 'уж',\n",
              " 'PlaceOfContact': 'по голове',\n",
              " 'Possessor': 'молодцом',\n",
              " 'Possessor_Locative': 'жизнь',\n",
              " 'Possessor_Metaphoric': 'чувства',\n",
              " 'PurposeOfMovementOrSending': 'за дверью',\n",
              " 'Purpose_Aim': 'на вооружение',\n",
              " 'Purpose_Distributive': 'на нервы',\n",
              " 'Purpose_Goal': 'почитать',\n",
              " 'Quantity': 'много',\n",
              " 'Relation_Correlative': 'на традицию',\n",
              " 'Relation_Relative': 'литературная система',\n",
              " 'Resultative': 'наголо',\n",
              " 'Resultative_Actant': 'в кулак',\n",
              " 'Source': 'от бабушки',\n",
              " 'SpecificationEndingWith': 'до 8,3%',\n",
              " 'Specification_Clause': 'иди',\n",
              " 'SpeechEtiquette': 'да нет',\n",
              " 'Sphere': 'во всей красе',\n",
              " 'SphereOfCoverage': 'широко',\n",
              " 'Sphere_FinalPoint': 'на работу',\n",
              " 'Sphere_InitialPoint': 'от жизни',\n",
              " 'Sphere_Special': 'на долю',\n",
              " 'StaffOfPossessors': 'воедино',\n",
              " 'Standpoint': 'социально',\n",
              " 'State': 'разные формы',\n",
              " 'Stimulus': 'на мои слова',\n",
              " 'SupportedEntity': 'на место',\n",
              " 'TextStructure': 'значит',\n",
              " 'Theme': 'о книге',\n",
              " 'Time': 'в посткризисный период',\n",
              " 'Time_AlreadyStill': 'все еще',\n",
              " 'Time_Situation': 'в покое',\n",
              " 'Time_Source': 'из времени',\n",
              " 'Vocative': 'кандидат философских наук'}"
            ]
          },
          "metadata": {
            "tags": []
          },
          "execution_count": 30
        }
      ]
    },
    {
      "cell_type": "code",
      "metadata": {
        "colab": {
          "base_uri": "https://localhost:8080/",
          "height": 202
        },
        "id": "1z0VcPc7UDPV",
        "outputId": "5c8df7cb-7f60-4e4d-8d15-7dc1a14eb01a"
      },
      "source": [
        "contexts_dev_df['normalised_instance'] = contexts_dev_df.instance.apply(tokenize_word)\n",
        "contexts_dev_df.head()"
      ],
      "execution_count": null,
      "outputs": [
        {
          "output_type": "execute_result",
          "data": {
            "text/html": [
              "<div>\n",
              "<style scoped>\n",
              "    .dataframe tbody tr th:only-of-type {\n",
              "        vertical-align: middle;\n",
              "    }\n",
              "\n",
              "    .dataframe tbody tr th {\n",
              "        vertical-align: top;\n",
              "    }\n",
              "\n",
              "    .dataframe thead th {\n",
              "        text-align: right;\n",
              "    }\n",
              "</style>\n",
              "<table border=\"1\" class=\"dataframe\">\n",
              "  <thead>\n",
              "    <tr style=\"text-align: right;\">\n",
              "      <th></th>\n",
              "      <th>instance</th>\n",
              "      <th>start</th>\n",
              "      <th>end</th>\n",
              "      <th>sentence</th>\n",
              "      <th>normalised_instance</th>\n",
              "    </tr>\n",
              "  </thead>\n",
              "  <tbody>\n",
              "    <tr>\n",
              "      <th>dev.sent.rus.0</th>\n",
              "      <td>отбирать</td>\n",
              "      <td>169</td>\n",
              "      <td>177</td>\n",
              "      <td>Люди, производящие очень дорогостоящее оборудо...</td>\n",
              "      <td>отбирать</td>\n",
              "    </tr>\n",
              "    <tr>\n",
              "      <th>dev.sent.rus.1</th>\n",
              "      <td>пожал</td>\n",
              "      <td>44</td>\n",
              "      <td>49</td>\n",
              "      <td>Он не спеша подошел к полковнику Эмсуорту и по...</td>\n",
              "      <td>пожать</td>\n",
              "    </tr>\n",
              "    <tr>\n",
              "      <th>dev.sent.rus.2</th>\n",
              "      <td>обратил</td>\n",
              "      <td>289</td>\n",
              "      <td>296</td>\n",
              "      <td>Докладчик также представил отчет о рассмотрени...</td>\n",
              "      <td>обратить</td>\n",
              "    </tr>\n",
              "    <tr>\n",
              "      <th>dev.sent.rus.3</th>\n",
              "      <td>остановился</td>\n",
              "      <td>32</td>\n",
              "      <td>43</td>\n",
              "      <td>Но,  пройдя  несколько   шагов, остановился  и...</td>\n",
              "      <td>остановиться</td>\n",
              "    </tr>\n",
              "    <tr>\n",
              "      <th>dev.sent.rus.4</th>\n",
              "      <td>выделил</td>\n",
              "      <td>80</td>\n",
              "      <td>87</td>\n",
              "      <td>Чтобы предотвратить это, Центральный фонд реаг...</td>\n",
              "      <td>выделить</td>\n",
              "    </tr>\n",
              "  </tbody>\n",
              "</table>\n",
              "</div>"
            ],
            "text/plain": [
              "                   instance  ... normalised_instance\n",
              "dev.sent.rus.0     отбирать  ...            отбирать\n",
              "dev.sent.rus.1        пожал  ...              пожать\n",
              "dev.sent.rus.2      обратил  ...            обратить\n",
              "dev.sent.rus.3  остановился  ...        остановиться\n",
              "dev.sent.rus.4      выделил  ...            выделить\n",
              "\n",
              "[5 rows x 5 columns]"
            ]
          },
          "metadata": {
            "tags": []
          },
          "execution_count": 27
        }
      ]
    },
    {
      "cell_type": "markdown",
      "metadata": {
        "id": "KIu2BxmDTfXd"
      },
      "source": [
        "Сгенерируем маски "
      ]
    },
    {
      "cell_type": "code",
      "metadata": {
        "id": "09pVBeY4Tx4M"
      },
      "source": [
        "# пытаемся сделать контексты вида Agent + MASK + другая роль\n",
        "def generate_masked_contexts_dev(sketch: str) -> List[List[str]]:\n",
        "    agents = []\n",
        "    other_roles = []\n",
        "    for role in list(sketches_dev_dfs[sketch].columns):\n",
        "        for word in list(sketches_dev_dfs[sketch][role]):\n",
        "            if word != '':\n",
        "                if role.split('_')[0] == 'Agent':\n",
        "                    agents.append(word)\n",
        "                else:\n",
        "                    other_roles.append(word)\n",
        "    if agents == []:\n",
        "        agents = ['он', 'они']\n",
        "    role_pairs = list(itertools.product(agents, other_roles))\n",
        "    masked_contexts = [pair[0] + ' [MASK] ' + pair[1] for pair in role_pairs]\n",
        "    return masked_contexts"
      ],
      "execution_count": null,
      "outputs": []
    },
    {
      "cell_type": "code",
      "metadata": {
        "id": "FN3WxiWnhd-H"
      },
      "source": [
        "# делаем попарные контексты\n",
        "def generate_masked_contexts_dev_pairs(sketch: str) -> List[List[str]]:\n",
        "    masked_contexts = []\n",
        "    for role in list(sketches_dev_dfs[sketch].columns):\n",
        "        for word in list(sketches_dev_dfs[sketch][role]):\n",
        "            if word != '' and role.split('_')[0] != 'Agent':\n",
        "            #if word != '':\n",
        "                masked_contexts.append('[MASK] ' + word)\n",
        "                masked_contexts.append(word + ' [MASK]')\n",
        "    return masked_contexts"
      ],
      "execution_count": null,
      "outputs": []
    },
    {
      "cell_type": "code",
      "metadata": {
        "id": "1SmeExyjTZ-8"
      },
      "source": [
        "contexts_dev = []\n",
        "for sketch in sketches_dev_dfs:\n",
        "    contexts_dev.append(generate_masked_contexts_dev(sketch) + generate_masked_contexts_dev_pairs(sketch))"
      ],
      "execution_count": null,
      "outputs": []
    },
    {
      "cell_type": "code",
      "metadata": {
        "id": "vTuHvE0Ypi-Z"
      },
      "source": [
        "contexts_dev = []\n",
        "for sketch in sketches_dev_dfs:\n",
        "    contexts_dev.append(generate_masked_contexts_dev_pairs(sketch))"
      ],
      "execution_count": null,
      "outputs": []
    },
    {
      "cell_type": "code",
      "metadata": {
        "id": "r9RESDt1m5_b",
        "colab": {
          "base_uri": "https://localhost:8080/"
        },
        "outputId": "5f374da9-56de-4e38-bbe5-3e09c4b3300f"
      },
      "source": [
        "contexts_dev[0]"
      ],
      "execution_count": null,
      "outputs": [
        {
          "output_type": "execute_result",
          "data": {
            "text/plain": [
              "['он [MASK] число газет',\n",
              " 'он [MASK] количество библиотек',\n",
              " 'он [MASK] численность занятых',\n",
              " 'он [MASK] объем',\n",
              " 'он [MASK] посевная площадь',\n",
              " 'он [MASK] доля голосов епископов',\n",
              " 'он [MASK] расстояние между нами',\n",
              " 'он [MASK] риск',\n",
              " 'он [MASK] значительно',\n",
              " 'он [MASK] резко',\n",
              " 'он [MASK] существенно',\n",
              " 'он [MASK] ничуть',\n",
              " 'он [MASK] сильно',\n",
              " 'он [MASK] чуть',\n",
              " 'он [MASK] немного',\n",
              " 'он [MASK] и более',\n",
              " 'он [MASK] в посткризисный период',\n",
              " 'он [MASK] постоянно',\n",
              " 'он [MASK] одновременно',\n",
              " 'он [MASK] к концу века',\n",
              " 'он [MASK] с годами',\n",
              " 'он [MASK] за последние полвека',\n",
              " 'он [MASK] до 500 г',\n",
              " 'он [MASK] на какое-то время',\n",
              " 'он [MASK] вдвое',\n",
              " 'он [MASK] в разы',\n",
              " 'он [MASK] государственные расходы',\n",
              " 'он [MASK] факторные издержки производства',\n",
              " 'он [MASK] население',\n",
              " 'он [MASK] налогооблагаемый доход',\n",
              " 'он [MASK] сумма нашего долга',\n",
              " 'он [MASK] тиражи поэтических книг',\n",
              " 'он [MASK] срок',\n",
              " 'он [MASK] налоги',\n",
              " 'он [MASK] примерно на 60%',\n",
              " 'он [MASK] на треть',\n",
              " 'он [MASK] на 53,7 процента',\n",
              " 'он [MASK] один миллион',\n",
              " 'он [MASK] людей',\n",
              " 'они [MASK] число газет',\n",
              " 'они [MASK] количество библиотек',\n",
              " 'они [MASK] численность занятых',\n",
              " 'они [MASK] объем',\n",
              " 'они [MASK] посевная площадь',\n",
              " 'они [MASK] доля голосов епископов',\n",
              " 'они [MASK] расстояние между нами',\n",
              " 'они [MASK] риск',\n",
              " 'они [MASK] значительно',\n",
              " 'они [MASK] резко',\n",
              " 'они [MASK] существенно',\n",
              " 'они [MASK] ничуть',\n",
              " 'они [MASK] сильно',\n",
              " 'они [MASK] чуть',\n",
              " 'они [MASK] немного',\n",
              " 'они [MASK] и более',\n",
              " 'они [MASK] в посткризисный период',\n",
              " 'они [MASK] постоянно',\n",
              " 'они [MASK] одновременно',\n",
              " 'они [MASK] к концу века',\n",
              " 'они [MASK] с годами',\n",
              " 'они [MASK] за последние полвека',\n",
              " 'они [MASK] до 500 г',\n",
              " 'они [MASK] на какое-то время',\n",
              " 'они [MASK] вдвое',\n",
              " 'они [MASK] в разы',\n",
              " 'они [MASK] государственные расходы',\n",
              " 'они [MASK] факторные издержки производства',\n",
              " 'они [MASK] население',\n",
              " 'они [MASK] налогооблагаемый доход',\n",
              " 'они [MASK] сумма нашего долга',\n",
              " 'они [MASK] тиражи поэтических книг',\n",
              " 'они [MASK] срок',\n",
              " 'они [MASK] налоги',\n",
              " 'они [MASK] примерно на 60%',\n",
              " 'они [MASK] на треть',\n",
              " 'они [MASK] на 53,7 процента',\n",
              " 'они [MASK] один миллион',\n",
              " 'они [MASK] людей',\n",
              " '[MASK] число газет',\n",
              " 'число газет [MASK]',\n",
              " '[MASK] количество библиотек',\n",
              " 'количество библиотек [MASK]',\n",
              " '[MASK] численность занятых',\n",
              " 'численность занятых [MASK]',\n",
              " '[MASK] объем',\n",
              " 'объем [MASK]',\n",
              " '[MASK] посевная площадь',\n",
              " 'посевная площадь [MASK]',\n",
              " '[MASK] доля голосов епископов',\n",
              " 'доля голосов епископов [MASK]',\n",
              " '[MASK] расстояние между нами',\n",
              " 'расстояние между нами [MASK]',\n",
              " '[MASK] риск',\n",
              " 'риск [MASK]',\n",
              " '[MASK] значительно',\n",
              " 'значительно [MASK]',\n",
              " '[MASK] резко',\n",
              " 'резко [MASK]',\n",
              " '[MASK] существенно',\n",
              " 'существенно [MASK]',\n",
              " '[MASK] ничуть',\n",
              " 'ничуть [MASK]',\n",
              " '[MASK] сильно',\n",
              " 'сильно [MASK]',\n",
              " '[MASK] чуть',\n",
              " 'чуть [MASK]',\n",
              " '[MASK] немного',\n",
              " 'немного [MASK]',\n",
              " '[MASK] и более',\n",
              " 'и более [MASK]',\n",
              " '[MASK] в посткризисный период',\n",
              " 'в посткризисный период [MASK]',\n",
              " '[MASK] постоянно',\n",
              " 'постоянно [MASK]',\n",
              " '[MASK] одновременно',\n",
              " 'одновременно [MASK]',\n",
              " '[MASK] к концу века',\n",
              " 'к концу века [MASK]',\n",
              " '[MASK] с годами',\n",
              " 'с годами [MASK]',\n",
              " '[MASK] за последние полвека',\n",
              " 'за последние полвека [MASK]',\n",
              " '[MASK] до 500 г',\n",
              " 'до 500 г [MASK]',\n",
              " '[MASK] на какое-то время',\n",
              " 'на какое-то время [MASK]',\n",
              " '[MASK] вдвое',\n",
              " 'вдвое [MASK]',\n",
              " '[MASK] в разы',\n",
              " 'в разы [MASK]',\n",
              " '[MASK] государственные расходы',\n",
              " 'государственные расходы [MASK]',\n",
              " '[MASK] факторные издержки производства',\n",
              " 'факторные издержки производства [MASK]',\n",
              " '[MASK] население',\n",
              " 'население [MASK]',\n",
              " '[MASK] налогооблагаемый доход',\n",
              " 'налогооблагаемый доход [MASK]',\n",
              " '[MASK] сумма нашего долга',\n",
              " 'сумма нашего долга [MASK]',\n",
              " '[MASK] тиражи поэтических книг',\n",
              " 'тиражи поэтических книг [MASK]',\n",
              " '[MASK] срок',\n",
              " 'срок [MASK]',\n",
              " '[MASK] налоги',\n",
              " 'налоги [MASK]',\n",
              " '[MASK] примерно на 60%',\n",
              " 'примерно на 60% [MASK]',\n",
              " '[MASK] на треть',\n",
              " 'на треть [MASK]',\n",
              " '[MASK] на 53,7 процента',\n",
              " 'на 53,7 процента [MASK]',\n",
              " '[MASK] один миллион',\n",
              " 'один миллион [MASK]',\n",
              " '[MASK] людей',\n",
              " 'людей [MASK]']"
            ]
          },
          "metadata": {
            "tags": []
          },
          "execution_count": 31
        }
      ]
    },
    {
      "cell_type": "code",
      "metadata": {
        "id": "4-7OjLndmbBa"
      },
      "source": [
        "def predict_verb_for_context(context: str) -> List[str]:\n",
        "  context_ids = tokenizer(context, padding=True, return_tensors=\"pt\")[\"input_ids\"]\n",
        "  context_tensor = torch.LongTensor(context_ids).to(DEVICE)\n",
        "  outputs = model(context_tensor)\n",
        "  mask_token_indices = torch.where(context_tensor == tokenizer.mask_token_id)\n",
        "  token_logits = outputs['logits']\n",
        "  indices = torch.topk(token_logits[mask_token_indices],20).indices\n",
        "  decoded = list(map(tokenizer.convert_ids_to_tokens, indices))\n",
        "  candidates = []\n",
        "  for predicted_words in decoded:\n",
        "    for cand in predicted_words:\n",
        "      parse_word = morph.parse(cand)[0]\n",
        "      if parse_word.tag.POS == 'VERB':\n",
        "        candidates.append(parse_word.normal_form)\n",
        "  return candidates"
      ],
      "execution_count": null,
      "outputs": []
    },
    {
      "cell_type": "code",
      "metadata": {
        "id": "Ai5WeiY_VA7r"
      },
      "source": [
        "def most_common(lst):\n",
        "    return max(set(lst), key=lst.count)"
      ],
      "execution_count": null,
      "outputs": []
    },
    {
      "cell_type": "markdown",
      "metadata": {
        "id": "9MdQwms3fk1B"
      },
      "source": [
        "Пример предсказания для скетча"
      ]
    },
    {
      "cell_type": "code",
      "metadata": {
        "id": "OmEhJpxfVQC_",
        "colab": {
          "base_uri": "https://localhost:8080/"
        },
        "outputId": "d6850ed4-13ce-4b2e-b9ef-d07f4bbff5dd"
      },
      "source": [
        "contexts_dev[3]"
      ],
      "execution_count": null,
      "outputs": [
        {
          "output_type": "execute_result",
          "data": {
            "text/plain": [
              "['[MASK] мимо',\n",
              " 'мимо [MASK]',\n",
              " '[MASK] путь',\n",
              " 'путь [MASK]',\n",
              " '[MASK] по коридору',\n",
              " 'по коридору [MASK]',\n",
              " '[MASK] по улице',\n",
              " 'по улице [MASK]',\n",
              " '[MASK] насквозь',\n",
              " 'насквозь [MASK]',\n",
              " '[MASK] мимо школы',\n",
              " 'мимо школы [MASK]',\n",
              " '[MASK] вдоль китайской границы',\n",
              " 'вдоль китайской границы [MASK]',\n",
              " '[MASK] закрытые дома',\n",
              " 'закрытые дома [MASK]',\n",
              " '[MASK] на кухню',\n",
              " 'на кухню [MASK]',\n",
              " '[MASK] в комнату',\n",
              " 'в комнату [MASK]',\n",
              " '[MASK] в кабинет',\n",
              " 'в кабинет [MASK]',\n",
              " '[MASK] в зал',\n",
              " 'в зал [MASK]',\n",
              " '[MASK] в ванную',\n",
              " 'в ванную [MASK]',\n",
              " '[MASK] в спальню',\n",
              " 'в спальню [MASK]',\n",
              " '[MASK] до самого конца',\n",
              " 'до самого конца [MASK]',\n",
              " '[MASK] к двери',\n",
              " 'к двери [MASK]',\n",
              " '[MASK] дважды',\n",
              " 'дважды [MASK]',\n",
              " '[MASK] как раз',\n",
              " 'как раз [MASK]',\n",
              " '[MASK] еще раз',\n",
              " 'еще раз [MASK]',\n",
              " '[MASK] скоро',\n",
              " 'скоро [MASK]',\n",
              " '[MASK] изредка',\n",
              " 'изредка [MASK]',\n",
              " '[MASK] только что',\n",
              " 'только что [MASK]',\n",
              " '[MASK] ежедневно',\n",
              " 'ежедневно [MASK]',\n",
              " '[MASK] как-то',\n",
              " 'как-то [MASK]',\n",
              " '[MASK] под аркой',\n",
              " 'под аркой [MASK]',\n",
              " '[MASK] под мостом',\n",
              " 'под мостом [MASK]',\n",
              " '[MASK] в школе',\n",
              " 'в школе [MASK]',\n",
              " '[MASK] в молчании',\n",
              " 'в молчании [MASK]',\n",
              " '[MASK] перед читателем',\n",
              " 'перед читателем [MASK]',\n",
              " '[MASK] под окнами',\n",
              " 'под окнами [MASK]',\n",
              " '[MASK] под знаком неомодернизма',\n",
              " 'под знаком неомодернизма [MASK]',\n",
              " '[MASK] в яловых сапогах',\n",
              " 'в яловых сапогах [MASK]']"
            ]
          },
          "metadata": {
            "tags": []
          },
          "execution_count": 39
        }
      ]
    },
    {
      "cell_type": "code",
      "metadata": {
        "id": "zRjEAYyPoCrQ",
        "colab": {
          "base_uri": "https://localhost:8080/"
        },
        "outputId": "036edfe7-83d8-4db4-a43e-8491d0c4dda3"
      },
      "source": [
        "dict(Counter(predict_verb_for_context(contexts_dev[3])))"
      ],
      "execution_count": null,
      "outputs": [
        {
          "output_type": "execute_result",
          "data": {
            "text/plain": [
              "{'##рить': 2,\n",
              " '##ть': 2,\n",
              " 'быть': 24,\n",
              " 'вернуться': 4,\n",
              " 'взять': 1,\n",
              " 'войти': 3,\n",
              " 'впадать': 1,\n",
              " 'встречаться': 1,\n",
              " 'входить': 10,\n",
              " 'выйти': 1,\n",
              " 'выпускаться': 1,\n",
              " 'выходить': 1,\n",
              " 'жить': 1,\n",
              " 'использоваться': 1,\n",
              " 'находиться': 3,\n",
              " 'обновляться': 1,\n",
              " 'погибнуть': 1,\n",
              " 'получаться': 1,\n",
              " 'получиться': 1,\n",
              " 'появиться': 1,\n",
              " 'проводиться': 1,\n",
              " 'пройти': 2,\n",
              " 'проходить': 4,\n",
              " 'работать': 3,\n",
              " 'располагаться': 1,\n",
              " 'родиться': 3,\n",
              " 'сказать': 1,\n",
              " 'скончаться': 1,\n",
              " 'случиться': 1,\n",
              " 'стоить': 1,\n",
              " 'умереть': 6,\n",
              " 'учиться': 2}"
            ]
          },
          "metadata": {
            "tags": []
          },
          "execution_count": 40
        }
      ]
    },
    {
      "cell_type": "code",
      "metadata": {
        "id": "pXKWee7GuzAV"
      },
      "source": [
        "def get_verb_prediction(cont):\n",
        "    verb_counter = dict(Counter(predict_verb_for_context(cont)))\n",
        "    for verb in verb_counter:\n",
        "        verb_counter[verb] /= len(cont)\n",
        "    return verb_counter"
      ],
      "execution_count": null,
      "outputs": []
    },
    {
      "cell_type": "code",
      "metadata": {
        "id": "Q5wAumgWvjbn",
        "colab": {
          "base_uri": "https://localhost:8080/"
        },
        "outputId": "bc065c67-dd76-455a-a500-d4a36e378831"
      },
      "source": [
        "get_verb_prediction(contexts_dev[3])"
      ],
      "execution_count": null,
      "outputs": [
        {
          "output_type": "execute_result",
          "data": {
            "text/plain": [
              "{'##рить': 0.03125,\n",
              " '##ть': 0.03125,\n",
              " 'быть': 0.375,\n",
              " 'вернуться': 0.0625,\n",
              " 'взять': 0.015625,\n",
              " 'войти': 0.046875,\n",
              " 'впадать': 0.015625,\n",
              " 'встречаться': 0.015625,\n",
              " 'входить': 0.15625,\n",
              " 'выйти': 0.015625,\n",
              " 'выпускаться': 0.015625,\n",
              " 'выходить': 0.015625,\n",
              " 'жить': 0.015625,\n",
              " 'использоваться': 0.015625,\n",
              " 'находиться': 0.046875,\n",
              " 'обновляться': 0.015625,\n",
              " 'погибнуть': 0.015625,\n",
              " 'получаться': 0.015625,\n",
              " 'получиться': 0.015625,\n",
              " 'появиться': 0.015625,\n",
              " 'проводиться': 0.015625,\n",
              " 'пройти': 0.03125,\n",
              " 'проходить': 0.0625,\n",
              " 'работать': 0.046875,\n",
              " 'располагаться': 0.015625,\n",
              " 'родиться': 0.046875,\n",
              " 'сказать': 0.015625,\n",
              " 'скончаться': 0.015625,\n",
              " 'случиться': 0.015625,\n",
              " 'стоить': 0.015625,\n",
              " 'умереть': 0.09375,\n",
              " 'учиться': 0.03125}"
            ]
          },
          "metadata": {
            "tags": []
          },
          "execution_count": 42
        }
      ]
    },
    {
      "cell_type": "markdown",
      "metadata": {
        "id": "YGDWXnzOT9-b"
      },
      "source": [
        "Для каждого набора скетчей получаем предсказания:"
      ]
    },
    {
      "cell_type": "code",
      "metadata": {
        "id": "Gj_GG5qCIub0"
      },
      "source": [
        "from tqdm.notebook import tqdm"
      ],
      "execution_count": null,
      "outputs": []
    },
    {
      "cell_type": "code",
      "metadata": {
        "colab": {
          "base_uri": "https://localhost:8080/",
          "height": 66,
          "referenced_widgets": [
            "f473c2818a634989a88623ec34d0c3d8",
            "8a9083d8ff934d78b70a2243f63ab865",
            "9a4d78a70d804ed088ea605e7daab70a",
            "cbe482c3be0a4c6dbd25201388cbe992",
            "9cc66cb90f164ca8885c31b96ea95bc9",
            "fd0266d0a0b64e3a989678160d9f5e71",
            "e575085801414a9db852b110d751c864",
            "8df4f3e368164e4a8445f4cbb0aed3be"
          ]
        },
        "id": "FDkSerAzv4uw",
        "outputId": "f9533ddb-f099-47c5-84d4-1e245cf26a10"
      },
      "source": [
        "sketches_pred = {}\n",
        "for i in tqdm(range(len(contexts_dev))):\n",
        "    sketches_pred['dev.sketch.rus.' + str(i)] = get_verb_prediction(contexts_dev[i])"
      ],
      "execution_count": null,
      "outputs": [
        {
          "output_type": "display_data",
          "data": {
            "application/vnd.jupyter.widget-view+json": {
              "model_id": "f473c2818a634989a88623ec34d0c3d8",
              "version_minor": 0,
              "version_major": 2
            },
            "text/plain": [
              "HBox(children=(FloatProgress(value=0.0, max=215.0), HTML(value='')))"
            ]
          },
          "metadata": {
            "tags": []
          }
        },
        {
          "output_type": "stream",
          "text": [
            "\n"
          ],
          "name": "stdout"
        }
      ]
    },
    {
      "cell_type": "markdown",
      "metadata": {
        "id": "aIFgEprRUavU"
      },
      "source": [
        "Фиксируем в файл"
      ]
    },
    {
      "cell_type": "code",
      "metadata": {
        "id": "cZtgITWggAoE"
      },
      "source": [
        "with open(\"data_file.json\", \"w\") as write_file:\n",
        "  json.dump(sketches_pred, write_file, ensure_ascii=False)"
      ],
      "execution_count": null,
      "outputs": []
    },
    {
      "cell_type": "markdown",
      "metadata": {
        "id": "vcrqUlEVfoDH"
      },
      "source": [
        "# Подготовка данных для загрузки "
      ]
    },
    {
      "cell_type": "code",
      "metadata": {
        "colab": {
          "base_uri": "https://localhost:8080/",
          "height": 204
        },
        "id": "cQv4BoZzoZao",
        "outputId": "ac6ad334-2815-4f65-a60b-e6d7ff6de647"
      },
      "source": [
        "contexts_dev_df.head()"
      ],
      "execution_count": null,
      "outputs": [
        {
          "output_type": "execute_result",
          "data": {
            "text/html": [
              "<div>\n",
              "<style scoped>\n",
              "    .dataframe tbody tr th:only-of-type {\n",
              "        vertical-align: middle;\n",
              "    }\n",
              "\n",
              "    .dataframe tbody tr th {\n",
              "        vertical-align: top;\n",
              "    }\n",
              "\n",
              "    .dataframe thead th {\n",
              "        text-align: right;\n",
              "    }\n",
              "</style>\n",
              "<table border=\"1\" class=\"dataframe\">\n",
              "  <thead>\n",
              "    <tr style=\"text-align: right;\">\n",
              "      <th></th>\n",
              "      <th>instance</th>\n",
              "      <th>start</th>\n",
              "      <th>end</th>\n",
              "      <th>sentence</th>\n",
              "      <th>normalised_instance</th>\n",
              "    </tr>\n",
              "  </thead>\n",
              "  <tbody>\n",
              "    <tr>\n",
              "      <th>dev.sent.rus.0</th>\n",
              "      <td>отбирать</td>\n",
              "      <td>169</td>\n",
              "      <td>177</td>\n",
              "      <td>Люди, производящие очень дорогостоящее оборудо...</td>\n",
              "      <td>отбирать</td>\n",
              "    </tr>\n",
              "    <tr>\n",
              "      <th>dev.sent.rus.1</th>\n",
              "      <td>пожал</td>\n",
              "      <td>44</td>\n",
              "      <td>49</td>\n",
              "      <td>Он не спеша подошел к полковнику Эмсуорту и по...</td>\n",
              "      <td>пожать</td>\n",
              "    </tr>\n",
              "    <tr>\n",
              "      <th>dev.sent.rus.2</th>\n",
              "      <td>обратил</td>\n",
              "      <td>289</td>\n",
              "      <td>296</td>\n",
              "      <td>Докладчик также представил отчет о рассмотрени...</td>\n",
              "      <td>обратить</td>\n",
              "    </tr>\n",
              "    <tr>\n",
              "      <th>dev.sent.rus.3</th>\n",
              "      <td>остановился</td>\n",
              "      <td>32</td>\n",
              "      <td>43</td>\n",
              "      <td>Но,  пройдя  несколько   шагов, остановился  и...</td>\n",
              "      <td>остановиться</td>\n",
              "    </tr>\n",
              "    <tr>\n",
              "      <th>dev.sent.rus.4</th>\n",
              "      <td>выделил</td>\n",
              "      <td>80</td>\n",
              "      <td>87</td>\n",
              "      <td>Чтобы предотвратить это, Центральный фонд реаг...</td>\n",
              "      <td>выделить</td>\n",
              "    </tr>\n",
              "  </tbody>\n",
              "</table>\n",
              "</div>"
            ],
            "text/plain": [
              "                   instance  ... normalised_instance\n",
              "dev.sent.rus.0     отбирать  ...            отбирать\n",
              "dev.sent.rus.1        пожал  ...              пожать\n",
              "dev.sent.rus.2      обратил  ...            обратить\n",
              "dev.sent.rus.3  остановился  ...        остановиться\n",
              "dev.sent.rus.4      выделил  ...            выделить\n",
              "\n",
              "[5 rows x 5 columns]"
            ]
          },
          "metadata": {
            "tags": []
          },
          "execution_count": 123
        }
      ]
    },
    {
      "cell_type": "markdown",
      "metadata": {
        "id": "z-E2QZjWUkvs"
      },
      "source": [
        "Функция для соотнесения предложений со скетчами"
      ]
    },
    {
      "cell_type": "code",
      "metadata": {
        "id": "N0HWp_91z3D8"
      },
      "source": [
        "def sketch_by_verb(sketches_pred, verb):\n",
        "    share = 0\n",
        "    # для случая, когда глагол не был найден в скетчах, берём рандомный\n",
        "    # в планах - делать умный поиск по синонимам такого глагола\n",
        "    num_sketch = 'dev.sketch.rus.' + str(random.randint(0, 894))\n",
        "    for sketch in sketches_pred:\n",
        "        if verb in sketches_pred[sketch]:\n",
        "            if sketches_pred[sketch][verb] > share:\n",
        "                share = sketches_pred[sketch][verb]\n",
        "                num_sketch = sketch\n",
        "    return num_sketch"
      ],
      "execution_count": null,
      "outputs": []
    },
    {
      "cell_type": "code",
      "metadata": {
        "id": "musRNCA_27gA"
      },
      "source": [
        "data = {}\n",
        "for sent in list(contexts_dev_df.index()):\n",
        "    data[sent] = sketch_by_verb(sketches_pred, contexts_dev_df['normalized_instahce'])"
      ],
      "execution_count": null,
      "outputs": []
    },
    {
      "cell_type": "code",
      "metadata": {
        "id": "xVtZADDH1r5G"
      },
      "source": [
        "with open(\"data_file.json\", \"w\") as write_file:\n",
        "    json.dump(data, write_file)"
      ],
      "execution_count": null,
      "outputs": []
    }
  ]
}